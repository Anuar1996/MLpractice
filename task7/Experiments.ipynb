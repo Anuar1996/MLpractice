{
 "cells": [
  {
   "cell_type": "markdown",
   "metadata": {},
   "source": [
    "# <center> Эксперименты к 8 заданию по практикуму для 317 группы."
   ]
  },
  {
   "cell_type": "code",
   "execution_count": 694,
   "metadata": {
    "collapsed": false
   },
   "outputs": [
    {
     "data": {
      "text/plain": [
       "<module 'bch' from '/home/anuar/Рабочий стол/Student/3 kurs/2 sem/Prack/task 8/bch.py'>"
      ]
     },
     "execution_count": 694,
     "metadata": {},
     "output_type": "execute_result"
    }
   ],
   "source": [
    "import numpy as np\n",
    "import matplotlib.pyplot as plt\n",
    "%matplotlib inline\n",
    "import gf\n",
    "import bch\n",
    "from importlib import reload\n",
    "import pandas as pd\n",
    "import time\n",
    "reload(gf)\n",
    "reload(bch)"
   ]
  },
  {
   "cell_type": "code",
   "execution_count": 646,
   "metadata": {
    "collapsed": true
   },
   "outputs": [],
   "source": [
    "def generate_U(msg_cnt, k):\n",
    "    U = np.zeros((msg_cnt, k)).astype('int')\n",
    "    inds = np.arange(0, k)\n",
    "    for i in range(msg_cnt):\n",
    "        try:\n",
    "            tmp = np.random.choice(inds, k)\n",
    "            ind = np.unique(tmp)\n",
    "        except:\n",
    "            print(np.random.choice(inds, k))\n",
    "        U[i, ind] = 1\n",
    "    \n",
    "    return U\n",
    "\n",
    "def error_W(V, r):\n",
    "    W = np.zeros(V.shape).astype('int')\n",
    "    msg_cnt, n = V.shape\n",
    "    inds = np.arange(0, n)\n",
    "    for i in range(msg_cnt):\n",
    "        error = np.zeros(n).astype('int')\n",
    "        ind = np.random.choice(inds, r, replace=False)\n",
    "        error[ind] = 1\n",
    "        W[i, :] = V[i, :] ^ error\n",
    "    \n",
    "    return W\n",
    "\n",
    "def check_decoder(V, V_hat):\n",
    "    msg_cnt, n = V.shape\n",
    "    res = np.zeros(msg_cnt).astype('int')\n",
    "    res[np.all(V_hat < 0, axis=1)] = 2\n",
    "    res[np.all(V_hat == V, axis=1)] = 1\n",
    "    return res\n",
    "\n",
    "def statistics(res):\n",
    "    msg_cnt = res.shape[0]\n",
    "    decode_error = np.where(res == 2)[0].shape[0]\n",
    "    correct = np.where(res == 1)[0].shape[0]\n",
    "    incorrect = np.where(res == 0)[0].shape[0]    \n",
    "    return correct / msg_cnt, incorrect / msg_cnt, decode_error / msg_cnt"
   ]
  },
  {
   "cell_type": "markdown",
   "metadata": {},
   "source": [
    "### <center> Проверка на правильность выполнения систематического кодирования."
   ]
  },
  {
   "cell_type": "code",
   "execution_count": 707,
   "metadata": {
    "collapsed": true
   },
   "outputs": [],
   "source": [
    "n = 15\n",
    "t = 3\n",
    "msg_cnt = 10\n",
    "bch_code = bch.BCH(n, t)\n",
    "k = n - bch_code.m\n",
    "U = generate_U(msg_cnt, k)\n",
    "V = bch_code.encode(U)"
   ]
  },
  {
   "cell_type": "code",
   "execution_count": 708,
   "metadata": {
    "collapsed": false
   },
   "outputs": [
    {
     "name": "stdout",
     "output_type": "stream",
     "text": [
      "[[0 1 1 0 1]\n",
      " [1 0 1 1 0]\n",
      " [0 0 0 1 1]\n",
      " [1 0 0 0 1]\n",
      " [1 1 1 0 1]\n",
      " [0 1 0 0 1]\n",
      " [1 0 0 1 1]\n",
      " [0 1 0 1 0]\n",
      " [0 1 0 1 1]\n",
      " [1 0 1 1 1]]\n"
     ]
    }
   ],
   "source": [
    "print(U)"
   ]
  },
  {
   "cell_type": "code",
   "execution_count": 709,
   "metadata": {
    "collapsed": false
   },
   "outputs": [
    {
     "name": "stdout",
     "output_type": "stream",
     "text": [
      "[[0 1 1 0 1]\n",
      " [1 0 1 1 0]\n",
      " [0 0 0 1 1]\n",
      " [1 0 0 0 1]\n",
      " [1 1 1 0 1]\n",
      " [0 1 0 0 1]\n",
      " [1 0 0 1 1]\n",
      " [0 1 0 1 0]\n",
      " [0 1 0 1 1]\n",
      " [1 0 1 1 1]]\n"
     ]
    }
   ],
   "source": [
    "print(V[:, :k])"
   ]
  },
  {
   "cell_type": "code",
   "execution_count": 710,
   "metadata": {
    "collapsed": false
   },
   "outputs": [
    {
     "name": "stdout",
     "output_type": "stream",
     "text": [
      "True\n"
     ]
    }
   ],
   "source": [
    "print(np.all(U == V[:, :k]))"
   ]
  },
  {
   "cell_type": "markdown",
   "metadata": {},
   "source": [
    "### <center> Зависимость между скоростью кода и числом исправляемых ошибок для различных $n$."
   ]
  },
  {
   "cell_type": "code",
   "execution_count": 665,
   "metadata": {
    "collapsed": false
   },
   "outputs": [],
   "source": [
    "t_val = {'15': np.arange(1, 10),\n",
    "         '31': np.arange(1, 25),\n",
    "         '63': np.arange(1, 45),\n",
    "         '127': np.arange(1, 100)}\n",
    "n_val = [15, 31, 63, 127]\n",
    "r_val = []\n",
    "for n in n_val:\n",
    "    r_ = []\n",
    "    for t in t_val[str(n)]:\n",
    "        bch_code = bch.BCH(n, t)\n",
    "        k = n - bch_code.m\n",
    "        r_.append(k / n)\n",
    "        \n",
    "    r_val.append(r_)"
   ]
  },
  {
   "cell_type": "code",
   "execution_count": 666,
   "metadata": {
    "collapsed": false
   },
   "outputs": [
    {
     "data": {
      "image/png": "[encoded data removed]",
      "text/plain": [
       "<matplotlib.figure.Figure at 0x7f93cc3685c0>"
      ]
     },
     "metadata": {},
     "output_type": "display_data"
    }
   ],
   "source": [
    "f, axxr = plt.subplots(2, 2)\n",
    "\n",
    "f.set_figheight(15)\n",
    "f.set_figwidth(18)\n",
    "for i in range(2):\n",
    "    for j in range(2):\n",
    "        axxr[i, j].set_title(\"n = \" + str(n_val[i * 2 + j]))\n",
    "        axxr[i, j].plot(t_val[str(n_val[i * 2 + j])], \n",
    "                        r_val[i * 2 + j], lw=3)\n",
    "        axxr[i, j].set_xlabel('Number of correctable errors, t')\n",
    "        axxr[i, j].set_ylabel('Code rate, r')\n",
    "plt.show()"
   ]
  },
  {
   "cell_type": "markdown",
   "metadata": {},
   "source": [
    "### <center> Пример БЧХ-кода, для которого истинное минимальное расстояние больше, чем $2t + 1$."
   ]
  },
  {
   "cell_type": "code",
   "execution_count": 713,
   "metadata": {
    "collapsed": false
   },
   "outputs": [],
   "source": [
    "n_val = [7, 15]\n",
    "t_val = {\"7\": [1, 3],\n",
    "         \"15\": [1, 2, 3, 4]}\n",
    "column = [\"n\", \"t\", \"2t + 1\", \"dist\"]\n",
    "table_dist = pd.DataFrame(columns=column)\n",
    "for n in n_val:\n",
    "    for t in t_val[str(n)]:\n",
    "        row = [n, t, 2*t + 1]\n",
    "        bch_code = bch.BCH(n, t)\n",
    "        d = bch_code.dist()\n",
    "        row.append(d)\n",
    "        \n",
    "        table_dist = table_dist.append(pd.Series(\n",
    "                row,\n",
    "                index=table_dist.columns),\n",
    "                ignore_index=True)"
   ]
  },
  {
   "cell_type": "code",
   "execution_count": 714,
   "metadata": {
    "collapsed": false
   },
   "outputs": [
    {
     "data": {
      "text/html": [
       "<div>\n",
       "<table border=\"1\" class=\"dataframe\">\n",
       "  <thead>\n",
       "    <tr style=\"text-align: right;\">\n",
       "      <th></th>\n",
       "      <th>n</th>\n",
       "      <th>t</th>\n",
       "      <th>2t + 1</th>\n",
       "      <th>dist</th>\n",
       "    </tr>\n",
       "  </thead>\n",
       "  <tbody>\n",
       "    <tr>\n",
       "      <th>0</th>\n",
       "      <td>7.0</td>\n",
       "      <td>1.0</td>\n",
       "      <td>3.0</td>\n",
       "      <td>3.0</td>\n",
       "    </tr>\n",
       "    <tr>\n",
       "      <th>1</th>\n",
       "      <td>7.0</td>\n",
       "      <td>3.0</td>\n",
       "      <td>7.0</td>\n",
       "      <td>7.0</td>\n",
       "    </tr>\n",
       "    <tr>\n",
       "      <th>2</th>\n",
       "      <td>15.0</td>\n",
       "      <td>1.0</td>\n",
       "      <td>3.0</td>\n",
       "      <td>3.0</td>\n",
       "    </tr>\n",
       "    <tr>\n",
       "      <th>3</th>\n",
       "      <td>15.0</td>\n",
       "      <td>2.0</td>\n",
       "      <td>5.0</td>\n",
       "      <td>5.0</td>\n",
       "    </tr>\n",
       "    <tr>\n",
       "      <th>4</th>\n",
       "      <td>15.0</td>\n",
       "      <td>3.0</td>\n",
       "      <td>7.0</td>\n",
       "      <td>7.0</td>\n",
       "    </tr>\n",
       "    <tr>\n",
       "      <th>5</th>\n",
       "      <td>15.0</td>\n",
       "      <td>4.0</td>\n",
       "      <td>9.0</td>\n",
       "      <td>15.0</td>\n",
       "    </tr>\n",
       "  </tbody>\n",
       "</table>\n",
       "</div>"
      ],
      "text/plain": [
       "      n    t  2t + 1  dist\n",
       "0   7.0  1.0     3.0   3.0\n",
       "1   7.0  3.0     7.0   7.0\n",
       "2  15.0  1.0     3.0   3.0\n",
       "3  15.0  2.0     5.0   5.0\n",
       "4  15.0  3.0     7.0   7.0\n",
       "5  15.0  4.0     9.0  15.0"
      ]
     },
     "execution_count": 714,
     "metadata": {},
     "output_type": "execute_result"
    }
   ],
   "source": [
    "table_dist"
   ]
  },
  {
   "cell_type": "markdown",
   "metadata": {},
   "source": [
    "### <center> Сравнение двух методов декодирования по времени работы."
   ]
  },
  {
   "cell_type": "markdown",
   "metadata": {},
   "source": [
    "<font size=4, face=\"Times New Roman\"> Количество ошибок равно $t$."
   ]
  },
  {
   "cell_type": "code",
   "execution_count": 674,
   "metadata": {
    "collapsed": true
   },
   "outputs": [],
   "source": [
    "n_val = [7, 15, 31, 63, 63, 127, 127]\n",
    "t_val = [1, 3, 4, 5, 8, 8, 11]\n",
    "msg_val = [500, 500, 500, 500, 500, 500, 500]\n",
    "column = [\"n\", \"t\", \"Euclid decoder, time\", \"PGZ decoder, time\"]\n",
    "table_time = pd.DataFrame(columns=column)"
   ]
  },
  {
   "cell_type": "code",
   "execution_count": 675,
   "metadata": {
    "collapsed": false
   },
   "outputs": [],
   "source": [
    "for i in range(len(n_val)):\n",
    "    msg_cnt = msg_val[i]\n",
    "    n = n_val[i]\n",
    "    t = t_val[i]\n",
    "    row = [n, t]\n",
    "    bch_code = bch.BCH(n, t)\n",
    "    k = n - bch_code.m\n",
    "    U = generate_U(msg_cnt, k)\n",
    "    V = bch_code.encode(U)\n",
    "    W = error_W(V, t)\n",
    "    \n",
    "    start = time.clock()\n",
    "    V_hat = bch_code.decode(W, method='euclid')\n",
    "    row.append(time.clock() - start)\n",
    "    \n",
    "    start = time.clock()\n",
    "    V_hat = bch_code.decode(W, method='pgz')\n",
    "    row.append(time.clock() - start)\n",
    "    \n",
    "    table_time = table_time.append(pd.Series(\n",
    "                row,\n",
    "                index=table_time.columns),\n",
    "                ignore_index=True)"
   ]
  },
  {
   "cell_type": "code",
   "execution_count": 676,
   "metadata": {
    "collapsed": false
   },
   "outputs": [
    {
     "data": {
      "text/html": [
       "<div>\n",
       "<table border=\"1\" class=\"dataframe\">\n",
       "  <thead>\n",
       "    <tr style=\"text-align: right;\">\n",
       "      <th></th>\n",
       "      <th>n</th>\n",
       "      <th>t</th>\n",
       "      <th>Euclid decoder, time</th>\n",
       "      <th>PGZ decoder, time</th>\n",
       "    </tr>\n",
       "  </thead>\n",
       "  <tbody>\n",
       "    <tr>\n",
       "      <th>0</th>\n",
       "      <td>7.0</td>\n",
       "      <td>1.0</td>\n",
       "      <td>0.580945</td>\n",
       "      <td>0.327488</td>\n",
       "    </tr>\n",
       "    <tr>\n",
       "      <th>1</th>\n",
       "      <td>15.0</td>\n",
       "      <td>3.0</td>\n",
       "      <td>2.067368</td>\n",
       "      <td>1.005466</td>\n",
       "    </tr>\n",
       "    <tr>\n",
       "      <th>2</th>\n",
       "      <td>31.0</td>\n",
       "      <td>4.0</td>\n",
       "      <td>3.535710</td>\n",
       "      <td>1.681343</td>\n",
       "    </tr>\n",
       "    <tr>\n",
       "      <th>3</th>\n",
       "      <td>63.0</td>\n",
       "      <td>5.0</td>\n",
       "      <td>5.545853</td>\n",
       "      <td>3.128824</td>\n",
       "    </tr>\n",
       "    <tr>\n",
       "      <th>4</th>\n",
       "      <td>63.0</td>\n",
       "      <td>8.0</td>\n",
       "      <td>10.280127</td>\n",
       "      <td>4.736844</td>\n",
       "    </tr>\n",
       "    <tr>\n",
       "      <th>5</th>\n",
       "      <td>127.0</td>\n",
       "      <td>8.0</td>\n",
       "      <td>12.705602</td>\n",
       "      <td>7.585843</td>\n",
       "    </tr>\n",
       "    <tr>\n",
       "      <th>6</th>\n",
       "      <td>127.0</td>\n",
       "      <td>11.0</td>\n",
       "      <td>20.582913</td>\n",
       "      <td>9.850387</td>\n",
       "    </tr>\n",
       "  </tbody>\n",
       "</table>\n",
       "</div>"
      ],
      "text/plain": [
       "       n     t  Euclid decoder, time  PGZ decoder, time\n",
       "0    7.0   1.0              0.580945           0.327488\n",
       "1   15.0   3.0              2.067368           1.005466\n",
       "2   31.0   4.0              3.535710           1.681343\n",
       "3   63.0   5.0              5.545853           3.128824\n",
       "4   63.0   8.0             10.280127           4.736844\n",
       "5  127.0   8.0             12.705602           7.585843\n",
       "6  127.0  11.0             20.582913           9.850387"
      ]
     },
     "execution_count": 676,
     "metadata": {},
     "output_type": "execute_result"
    }
   ],
   "source": [
    "table_time"
   ]
  },
  {
   "cell_type": "code",
   "execution_count": 679,
   "metadata": {
    "collapsed": true
   },
   "outputs": [],
   "source": [
    "n_val = [7, 15, 31, 63, 63, 127, 127]\n",
    "t_val = [1, 3, 4, 5, 8, 8, 11]\n",
    "msg_val = [500, 500, 500, 500, 500, 500, 500]\n",
    "column = [\"n\", \"t\", \"Euclid decoder, time\", \"PGZ decoder, time\"]\n",
    "table_time = pd.DataFrame(columns=column)"
   ]
  },
  {
   "cell_type": "code",
   "execution_count": 680,
   "metadata": {
    "collapsed": false
   },
   "outputs": [],
   "source": [
    "for i in range(len(n_val)):\n",
    "    msg_cnt = msg_val[i]\n",
    "    n = n_val[i]\n",
    "    t = t_val[i]\n",
    "    row = [n, t]\n",
    "    bch_code = bch.BCH(n, t)\n",
    "    k = n - bch_code.m\n",
    "    U = generate_U(msg_cnt, k)\n",
    "    V = bch_code.encode(U)\n",
    "    W = error_W(V, 1)\n",
    "    \n",
    "    start = time.clock()\n",
    "    V_hat = bch_code.decode(W, method='euclid')\n",
    "    row.append(time.clock() - start)\n",
    "    \n",
    "    start = time.clock()\n",
    "    V_hat = bch_code.decode(W, method='pgz')\n",
    "    row.append(time.clock() - start)\n",
    "    \n",
    "    table_time = table_time.append(pd.Series(\n",
    "                row,\n",
    "                index=table_time.columns),\n",
    "                ignore_index=True)"
   ]
  },
  {
   "cell_type": "code",
   "execution_count": 682,
   "metadata": {
    "collapsed": false
   },
   "outputs": [
    {
     "data": {
      "text/html": [
       "<div>\n",
       "<table border=\"1\" class=\"dataframe\">\n",
       "  <thead>\n",
       "    <tr style=\"text-align: right;\">\n",
       "      <th></th>\n",
       "      <th>n</th>\n",
       "      <th>t</th>\n",
       "      <th>Euclid decoder, time</th>\n",
       "      <th>PGZ decoder, time</th>\n",
       "    </tr>\n",
       "  </thead>\n",
       "  <tbody>\n",
       "    <tr>\n",
       "      <th>0</th>\n",
       "      <td>7.0</td>\n",
       "      <td>1.0</td>\n",
       "      <td>0.588281</td>\n",
       "      <td>0.338834</td>\n",
       "    </tr>\n",
       "    <tr>\n",
       "      <th>1</th>\n",
       "      <td>15.0</td>\n",
       "      <td>3.0</td>\n",
       "      <td>1.169207</td>\n",
       "      <td>0.909572</td>\n",
       "    </tr>\n",
       "    <tr>\n",
       "      <th>2</th>\n",
       "      <td>31.0</td>\n",
       "      <td>4.0</td>\n",
       "      <td>1.739895</td>\n",
       "      <td>1.578275</td>\n",
       "    </tr>\n",
       "    <tr>\n",
       "      <th>3</th>\n",
       "      <td>63.0</td>\n",
       "      <td>5.0</td>\n",
       "      <td>3.003512</td>\n",
       "      <td>2.793846</td>\n",
       "    </tr>\n",
       "    <tr>\n",
       "      <th>4</th>\n",
       "      <td>63.0</td>\n",
       "      <td>8.0</td>\n",
       "      <td>3.958691</td>\n",
       "      <td>3.926208</td>\n",
       "    </tr>\n",
       "    <tr>\n",
       "      <th>5</th>\n",
       "      <td>127.0</td>\n",
       "      <td>8.0</td>\n",
       "      <td>6.288400</td>\n",
       "      <td>6.462221</td>\n",
       "    </tr>\n",
       "    <tr>\n",
       "      <th>6</th>\n",
       "      <td>127.0</td>\n",
       "      <td>11.0</td>\n",
       "      <td>8.696548</td>\n",
       "      <td>8.459977</td>\n",
       "    </tr>\n",
       "  </tbody>\n",
       "</table>\n",
       "</div>"
      ],
      "text/plain": [
       "       n     t  Euclid decoder, time  PGZ decoder, time\n",
       "0    7.0   1.0              0.588281           0.338834\n",
       "1   15.0   3.0              1.169207           0.909572\n",
       "2   31.0   4.0              1.739895           1.578275\n",
       "3   63.0   5.0              3.003512           2.793846\n",
       "4   63.0   8.0              3.958691           3.926208\n",
       "5  127.0   8.0              6.288400           6.462221\n",
       "6  127.0  11.0              8.696548           8.459977"
      ]
     },
     "execution_count": 682,
     "metadata": {},
     "output_type": "execute_result"
    }
   ],
   "source": [
    "table_time"
   ]
  },
  {
   "cell_type": "markdown",
   "metadata": {},
   "source": [
    "### <center> Оценка доли правильно раскодированных, ошибочно раскодированных сообщений и отказов от декодирования."
   ]
  },
  {
   "cell_type": "markdown",
   "metadata": {},
   "source": [
    "<font size=4, face=\"Times New Roman\"> Необходимо проверить долю правильно исправленных, ошибочно исправленных ошибок и долю отказов от декодирования в зависимости от $r$. В эксперименте приводятся результаты для количества сообщений равного 600."
   ]
  },
  {
   "cell_type": "code",
   "execution_count": 689,
   "metadata": {
    "collapsed": true
   },
   "outputs": [],
   "source": [
    "n_val = [7, 15, 31, 63, 63, 127, 127]#[10, 20, 30, 40, 50, \n",
    "t_val = [1, 3, 4, 5, 8, 8, 11] #[2, 3, 4, 5, 5, \n",
    "msg_val = [10, 50, 100, 200, 200, 500, 500]#[50, 100, 150, 200, 500, \n",
    "column = [\"Messages\", \"n\", \"t\", \n",
    "         \"Correct, r<=t\", \"Incorrect, r<=t\", \"Decode Error, r<=t\"\n",
    "         , \"Correct, r>t\", \"Incorrect, r>t\", \"Decode Error, r>t\"]\n",
    "table_stats = pd.DataFrame(columns=column)"
   ]
  },
  {
   "cell_type": "code",
   "execution_count": 690,
   "metadata": {
    "collapsed": false
   },
   "outputs": [],
   "source": [
    "for i in range(len(n_val)):\n",
    "    msg_cnt = msg_val[i]\n",
    "    n = n_val[i]\n",
    "    t = t_val[i]\n",
    "    row = [msg_cnt, n, t]\n",
    "    bch_code = bch.BCH(n, t)\n",
    "    k = n - bch_code.m\n",
    "    U = generate_U(msg_cnt, k)\n",
    "    V = bch_code.encode(U)\n",
    "    r_val = np.arange(1, t + 1)\n",
    "    corr, incorr, dec_error = 0., 0., 0.\n",
    "    \n",
    "    for r in r_val:\n",
    "        W = error_W(V, r)\n",
    "        V_hat = bch_code.decode(W, method='pgz')\n",
    "        res = check_decoder(V, V_hat)\n",
    "        stats = statistics(res)\n",
    "        corr += stats[0]\n",
    "        incorr += stats[1]\n",
    "        dec_error += stats[2]\n",
    "    \n",
    "    corr /= r_val.shape[0]\n",
    "    incorr /= r_val.shape[0]\n",
    "    dec_error /= r_val.shape[0]\n",
    "    \n",
    "    row.append(corr)\n",
    "    row.append(incorr)\n",
    "    row.append(dec_error)\n",
    "    \n",
    "    r = t + 2\n",
    "    W = error_W(V, r)\n",
    "    V_hat = bch_code.decode(W, method='pgz')\n",
    "    res = check_decoder(V, V_hat)\n",
    "    stats = statistics(res)\n",
    "    row.append(stats[0])\n",
    "    row.append(stats[1])\n",
    "    row.append(stats[2])\n",
    "    table_stats = table_stats.append(pd.Series(\n",
    "                row,\n",
    "                index=table_stats.columns),\n",
    "                ignore_index=True)"
   ]
  },
  {
   "cell_type": "code",
   "execution_count": 691,
   "metadata": {
    "collapsed": false
   },
   "outputs": [
    {
     "data": {
      "text/html": [
       "<div>\n",
       "<table border=\"1\" class=\"dataframe\">\n",
       "  <thead>\n",
       "    <tr style=\"text-align: right;\">\n",
       "      <th></th>\n",
       "      <th>Messages</th>\n",
       "      <th>n</th>\n",
       "      <th>t</th>\n",
       "      <th>Correct, r&lt;=t</th>\n",
       "      <th>Incorrect, r&lt;=t</th>\n",
       "      <th>Decode Error, r&lt;=t</th>\n",
       "      <th>Correct, r&gt;t</th>\n",
       "      <th>Incorrect, r&gt;t</th>\n",
       "      <th>Decode Error, r&gt;t</th>\n",
       "    </tr>\n",
       "  </thead>\n",
       "  <tbody>\n",
       "    <tr>\n",
       "      <th>0</th>\n",
       "      <td>10.0</td>\n",
       "      <td>7.0</td>\n",
       "      <td>1.0</td>\n",
       "      <td>1.0</td>\n",
       "      <td>0.0</td>\n",
       "      <td>0.0</td>\n",
       "      <td>0.0</td>\n",
       "      <td>1.000</td>\n",
       "      <td>0.000</td>\n",
       "    </tr>\n",
       "    <tr>\n",
       "      <th>1</th>\n",
       "      <td>50.0</td>\n",
       "      <td>15.0</td>\n",
       "      <td>3.0</td>\n",
       "      <td>1.0</td>\n",
       "      <td>0.0</td>\n",
       "      <td>0.0</td>\n",
       "      <td>0.0</td>\n",
       "      <td>0.400</td>\n",
       "      <td>0.600</td>\n",
       "    </tr>\n",
       "    <tr>\n",
       "      <th>2</th>\n",
       "      <td>100.0</td>\n",
       "      <td>31.0</td>\n",
       "      <td>4.0</td>\n",
       "      <td>1.0</td>\n",
       "      <td>0.0</td>\n",
       "      <td>0.0</td>\n",
       "      <td>0.0</td>\n",
       "      <td>0.000</td>\n",
       "      <td>1.000</td>\n",
       "    </tr>\n",
       "    <tr>\n",
       "      <th>3</th>\n",
       "      <td>200.0</td>\n",
       "      <td>63.0</td>\n",
       "      <td>5.0</td>\n",
       "      <td>1.0</td>\n",
       "      <td>0.0</td>\n",
       "      <td>0.0</td>\n",
       "      <td>0.0</td>\n",
       "      <td>0.045</td>\n",
       "      <td>0.955</td>\n",
       "    </tr>\n",
       "    <tr>\n",
       "      <th>4</th>\n",
       "      <td>200.0</td>\n",
       "      <td>63.0</td>\n",
       "      <td>8.0</td>\n",
       "      <td>1.0</td>\n",
       "      <td>0.0</td>\n",
       "      <td>0.0</td>\n",
       "      <td>0.0</td>\n",
       "      <td>0.000</td>\n",
       "      <td>1.000</td>\n",
       "    </tr>\n",
       "    <tr>\n",
       "      <th>5</th>\n",
       "      <td>500.0</td>\n",
       "      <td>127.0</td>\n",
       "      <td>8.0</td>\n",
       "      <td>1.0</td>\n",
       "      <td>0.0</td>\n",
       "      <td>0.0</td>\n",
       "      <td>0.0</td>\n",
       "      <td>0.000</td>\n",
       "      <td>1.000</td>\n",
       "    </tr>\n",
       "    <tr>\n",
       "      <th>6</th>\n",
       "      <td>500.0</td>\n",
       "      <td>127.0</td>\n",
       "      <td>11.0</td>\n",
       "      <td>1.0</td>\n",
       "      <td>0.0</td>\n",
       "      <td>0.0</td>\n",
       "      <td>0.0</td>\n",
       "      <td>0.000</td>\n",
       "      <td>1.000</td>\n",
       "    </tr>\n",
       "  </tbody>\n",
       "</table>\n",
       "</div>"
      ],
      "text/plain": [
       "   Messages      n     t  Correct, r<=t  Incorrect, r<=t  Decode Error, r<=t  \\\n",
       "0      10.0    7.0   1.0            1.0              0.0                 0.0   \n",
       "1      50.0   15.0   3.0            1.0              0.0                 0.0   \n",
       "2     100.0   31.0   4.0            1.0              0.0                 0.0   \n",
       "3     200.0   63.0   5.0            1.0              0.0                 0.0   \n",
       "4     200.0   63.0   8.0            1.0              0.0                 0.0   \n",
       "5     500.0  127.0   8.0            1.0              0.0                 0.0   \n",
       "6     500.0  127.0  11.0            1.0              0.0                 0.0   \n",
       "\n",
       "   Correct, r>t  Incorrect, r>t  Decode Error, r>t  \n",
       "0           0.0           1.000              0.000  \n",
       "1           0.0           0.400              0.600  \n",
       "2           0.0           0.000              1.000  \n",
       "3           0.0           0.045              0.955  \n",
       "4           0.0           0.000              1.000  \n",
       "5           0.0           0.000              1.000  \n",
       "6           0.0           0.000              1.000  "
      ]
     },
     "execution_count": 691,
     "metadata": {},
     "output_type": "execute_result"
    }
   ],
   "source": [
    "table_stats"
   ]
  },
  {
   "cell_type": "markdown",
   "metadata": {},
   "source": [
    "<font size=4, face=\"Times New Roman\"> Как видно из графика, при числе ошибок, меньше чем $t$ БЧХ-код декодирует всё верным образом. При числе ошибок больше, чем $t$ больше всего происходит отказ от декодирования."
   ]
  }
 ],
 "metadata": {
  "kernelspec": {
   "display_name": "Python 3",
   "language": "python",
   "name": "python3"
  },
  "language_info": {
   "codemirror_mode": {
    "name": "ipython",
    "version": 3
   },
   "file_extension": ".py",
   "mimetype": "text/x-python",
   "name": "python",
   "nbconvert_exporter": "python",
   "pygments_lexer": "ipython3",
   "version": "3.5.1"
  }
 },
 "nbformat": 4,
 "nbformat_minor": 0
}
