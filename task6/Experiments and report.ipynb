{
 "cells": [
  {
   "cell_type": "markdown",
   "metadata": {},
   "source": [
    "# <font face=\"Times New Roman\"> <center> Отчет по заданию: \n",
    "\n",
    "# <font face=\"Times New Roman\"> <center> Рекомендательная система фильмов на основе данных MovieLens."
   ]
  },
  {
   "cell_type": "markdown",
   "metadata": {},
   "source": [
    "#### <font face=\"Times New Roman\"> Выполнил: Таскынов А. Г., группа 317."
   ]
  },
  {
   "cell_type": "markdown",
   "metadata": {},
   "source": [
    "<font size=4, face='Times New Roman'> Необходимо было реализовать три метода оценки рейтингов:\n",
    "\n",
    "* Content based method.\n",
    "* Neighborhood method.\n",
    "* Latent factor method.\n",
    "\n",
    "\n",
    "И сравнить качество каждого из них по метрике MSE по обучающей и тестовой выборкам."
   ]
  },
  {
   "cell_type": "code",
   "execution_count": 17,
   "metadata": {
    "collapsed": false
   },
   "outputs": [],
   "source": [
    "import numpy as np\n",
    "import pandas as pd\n",
    "import time\n",
    "import latent_factor as lf\n",
    "import preproc as pc\n",
    "import top_N_similarity as top_sim\n",
    "from Ridge import RidgeRegression\n",
    "import matplotlib.pyplot as plt\n",
    "%matplotlib inline"
   ]
  },
  {
   "cell_type": "markdown",
   "metadata": {},
   "source": [
    "## <font face=\"Times New Roman\"> Начальная предобработка данных."
   ]
  },
  {
   "cell_type": "code",
   "execution_count": 3,
   "metadata": {
    "collapsed": true
   },
   "outputs": [],
   "source": [
    "users, movies, ratings = pc.read_data()\n",
    "train, test = pc.train_test_split(ratings)"
   ]
  },
  {
   "cell_type": "markdown",
   "metadata": {},
   "source": [
    "## <font face=\"Times New Roman\"> Content based метод. "
   ]
  },
  {
   "cell_type": "markdown",
   "metadata": {},
   "source": [
    "<font size=4, face=\"Times New Roman\"> В этом методе необходимо построить матрицу объект-признаки, где объектами будет являться пара (пользователь, фильм). Также нужно придумать два новых признака для матрицы. В качестве двух новых признаков были взяты год и количество жанров на один фильм.\n",
    "\n",
    "Далее рейтинг ищется как линейная комбинация признаков:\n",
    "$$\n",
    "\\hat r_{u, i} = \\sum_{n=1}^{N} \\omega_n  f_{u, i}^{n}\n",
    "$$\n",
    "\n",
    "Для настройки $\\omega$ используется Ridge-регрессия.\n",
    "\n",
    "Метод реализован в модуле <b>Ridge.py</b>, предобработка данных, построение матрицы объект-признаки в модуле <b> preproc.py </b>"
   ]
  },
  {
   "cell_type": "markdown",
   "metadata": {},
   "source": [
    "### <font face=\"Times New Roman\"> Предобработка данных."
   ]
  },
  {
   "cell_type": "markdown",
   "metadata": {},
   "source": [
    "<font size=4, face=\"Times New Roman\"> Построение матрицы объект-признаки."
   ]
  },
  {
   "cell_type": "code",
   "execution_count": 4,
   "metadata": {
    "collapsed": true
   },
   "outputs": [],
   "source": [
    "X_train, mean_rate_users, mean_rate_movie, F_5 = pc.construct_train(users, movies, train)\n",
    "X_test = pc.construct_test(users, movies, test, mean_rate_users, mean_rate_movie, F_5)\n",
    "y_train = train[:, 2]\n",
    "y_test = test[:, 2]"
   ]
  },
  {
   "cell_type": "markdown",
   "metadata": {},
   "source": [
    "<font size=4, face=\"Times New Roman\"> Необходимо было подобрать параметр регуляризации $\\lambda$ по кросс-валидации:"
   ]
  },
  {
   "cell_type": "code",
   "execution_count": 19,
   "metadata": {
    "collapsed": false
   },
   "outputs": [],
   "source": [
    "lambda_param = [1e-5, 0.0001, 0.001, 0.01, 0.1, 0.2, 1.0, 10.0, 100.0, 1000.0, 10000.0]\n",
    "MSE_train_by_lambda = []\n",
    "MSE_test_by_lambda = []\n",
    "for lambda_ in lambda_param:\n",
    "    clf = RidgeRegression(lambda_=lambda_)\n",
    "    clf.fit(X_train, y_train)\n",
    "    y_predict = clf.predict(X_test)\n",
    "    MSE_test_by_lambda.append((pc.MSE(y_predict, y_test)))\n",
    "    y_predict = clf.predict(X_train)\n",
    "    MSE_train_by_lambda.append((pc.MSE(y_predict, y_train)))"
   ]
  },
  {
   "cell_type": "code",
   "execution_count": 20,
   "metadata": {
    "collapsed": false
   },
   "outputs": [
    {
     "name": "stdout",
     "output_type": "stream",
     "text": [
      "MSE_train:  [0.029672838213842007, 0.029672838213842097, 0.029672838213851284, 0.029672838214770139, 0.029672838306419785, 0.029672838583116128, 0.029672847243523749, 0.029673564559978775, 0.029702461303626405, 0.030294652934038151, 0.034439888351614045]\n",
      "MSE_test:  [0.041764442326928226, 0.041764441017395508, 0.041764427922098786, 0.041764296972300739, 0.041762987793794233, 0.041761533830923576, 0.041749927648508732, 0.041622242995115383, 0.040553664258447815, 0.037029304168281429, 0.038424968435426921]\n"
     ]
    }
   ],
   "source": [
    "print \"MSE_train: \",  MSE_train_by_lambda\n",
    "print \"MSE_test: \", MSE_test_by_lambda"
   ]
  },
  {
   "cell_type": "markdown",
   "metadata": {},
   "source": [
    "|lambda|MSE train|MSE test|\n",
    "|------|---------|--------|\n",
    "| 0.00001 | 0.029672838 | 0.041764442 |\n",
    "| 0.0001 | 0.0296728382 | 0.041764441|\n",
    "| 0.001 | 0.0296728382 | 0.041764427|\n",
    "| 0.01 | 0.029672838 | 0.0417642969|\n",
    "|  0.1 | 0.0296728383 | 0.04176298779|\n",
    "| 0.2  | 0.029672838 | 0.0417615338|\n",
    "| 1.0  | 0.0296728472 | 0.0417499276 |\n",
    "| 10.0 | 0.02967356 | 0.04162224|\n",
    "| 100.0 | 0.029702461| 0.040553664|\n",
    "|1000.0 | 0.0302946529 | 0.037029304|\n",
    "|10000.0| 0.03443988835 | 0.038424968 |"
   ]
  },
  {
   "cell_type": "code",
   "execution_count": 21,
   "metadata": {
    "collapsed": false
   },
   "outputs": [
    {
     "data": {
      "text/plain": [
       "<matplotlib.legend.Legend at 0x7ff105db1e90>"
      ]
     },
     "execution_count": 21,
     "metadata": {},
     "output_type": "execute_result"
    },
    {
     "data": {
      "image/png": "[encoded data removed]",
      "text/plain": [
       "<matplotlib.figure.Figure at 0x7ff10a1a5550>"
      ]
     },
     "metadata": {},
     "output_type": "display_data"
    }
   ],
   "source": [
    "plt.xlabel(\"Lambda\")\n",
    "plt.ylabel(\"MSE\")\n",
    "plt.plot(lambda_param, MSE_train_by_lambda,\n",
    "        lambda_param, MSE_test_by_lambda)\n",
    "plt.legend([\"MSE_train\", \"MSE test\"])"
   ]
  },
  {
   "cell_type": "markdown",
   "metadata": {},
   "source": [
    "<font size=4, face=\"Times New Roman\"> Как видно, $\\lambda = 1000.0$ является оптимальным параметром."
   ]
  },
  {
   "cell_type": "code",
   "execution_count": 124,
   "metadata": {
    "collapsed": false
   },
   "outputs": [],
   "source": [
    "lambda_optimal = lambda_param[np.argmin(MSE_test_by_lambda)]\n",
    "clf = RidgeRegression(lambda_=lambda_optimal)\n",
    "start = time.clock()\n",
    "clf.fit(X_train, y_train)\n",
    "time_content_based = time.clock() - start\n",
    "y_predict = clf.predict(X_test)\n",
    "MSE_test_content_based = pc.MSE(y_predict, y_test)\n",
    "y_predict = clf.predict(X_train)\n",
    "MSE_train_content_based = pc.MSE(y_predict, y_train)"
   ]
  },
  {
   "cell_type": "code",
   "execution_count": 125,
   "metadata": {
    "collapsed": false
   },
   "outputs": [
    {
     "name": "stdout",
     "output_type": "stream",
     "text": [
      "MSE test:  0.0370293041683\n",
      "MSE train:  0.030294652934\n",
      "Time to fit:  0.892943999999\n"
     ]
    }
   ],
   "source": [
    "print \"MSE test: \", MSE_test_content_based\n",
    "print \"MSE train: \", MSE_train_content_based\n",
    "print \"Time to fit: \", time_content_based"
   ]
  },
  {
   "cell_type": "markdown",
   "metadata": {},
   "source": [
    "## <font face=\"Times New Roman\"> Neighborhood метод."
   ]
  },
  {
   "cell_type": "markdown",
   "metadata": {},
   "source": [
    "<font size=4, face=\"Times New Roman\"> В данном методе определяется матрица \"похожести\". Имеются два подхода к построению матрицы: item-oriented, user-oriented.\n",
    "\n",
    "item-oriented:\n",
    "\n",
    "$$\n",
    "sim(i, j) = \\frac{\\sum_{u \\in U} (r_{u, i} - \\overline{r_u}) (r_{u, j} - \\overline{r_u})}\n",
    "            {\\sqrt{\\sum_{u \\in U} (r_{u, i} - \\overline{r_u})^2} \\sqrt{\\sum_{u \\in U} (r_{u, j} - \\overline{r_u})^2}}\n",
    "$$\n",
    "\n",
    ", где $U$ - множество пользователей, которые оценили фильмы $i$ и $j$, $\\hat r_u$ - средний рейтинг пользователя. \n",
    "\n",
    "user-oriented:\n",
    "\n",
    "$$\n",
    "sim(u, v) = \\frac{\\sum_{i \\in I} (r_{u, i} - \\overline{r_i}) (r_{v, i} - \\overline{r_i})}\n",
    "            {\\sqrt{\\sum_{i \\in I} (r_{u, i} - \\overline{r_i})^2} \\sqrt{\\sum_{i \\in I} (r_{v, i} - \\overline{r_i})^2}}\n",
    "$$\n",
    "\n",
    ", где $I$ - множество фильмов, которые были оценены пользователями $u$ и $v$, $\\hat r_i$ - средний рейтинг фильма."
   ]
  },
  {
   "cell_type": "markdown",
   "metadata": {},
   "source": [
    "<font size=4, face=\"Times New Roman\"> Item-oriented подход необходимо было реализовать по парадигме MapReduce. Модуль с реализованным методом <b> similarity.py </b>. Сначала считалась вся матрица и записывалась в файл через командную строку. Имя файла, где хранилась матрица: <b> \"similarity_train.txt\" </b>. Затем из нее выбирались для каждого фильма $N$ самых похожих и по этой \"укороченной\" матрице делался предикт. Методы запускались локально."
   ]
  },
  {
   "cell_type": "markdown",
   "metadata": {},
   "source": [
    "### <font size, face=\"Times New Roman\"> Предобработка данных."
   ]
  },
  {
   "cell_type": "code",
   "execution_count": 55,
   "metadata": {
    "collapsed": true
   },
   "outputs": [],
   "source": [
    "user_movie_train, movie_user_train = lf.dict_user_movie(train)\n",
    "user_movie_test, movie_user_test = lf.dict_user_movie(test)"
   ]
  },
  {
   "cell_type": "code",
   "execution_count": 80,
   "metadata": {
    "collapsed": true
   },
   "outputs": [],
   "source": [
    "time_by_N = []\n",
    "MSE_train_by_N = []\n",
    "MSE_test_by_N = []"
   ]
  },
  {
   "cell_type": "code",
   "execution_count": 37,
   "metadata": {
    "collapsed": true
   },
   "outputs": [],
   "source": [
    "def read_sim_matrix(filename):\n",
    "    sim_matrix = open(filename, \"r\").readlines()\n",
    "    sim_i_j = np.zeros((3953, 3953))\n",
    "    for line in sim_matrix:\n",
    "        l = line.rstrip().split()\n",
    "        i = int(l[0])\n",
    "        j = int(l[1])\n",
    "        sim_i_j[i, j] = float(l[2])\n",
    "    sim_i_j += sim_i_j.T\n",
    "    return sim_i_j"
   ]
  },
  {
   "cell_type": "markdown",
   "metadata": {},
   "source": [
    "<font size=4, face=\"Times New Roman\"> Рейтинги для неизвестных фильмов считаются по формуле: \n",
    "\n",
    "$$\n",
    "\\hat r_{u, i} = \\frac{\\sum_{j: r_{u, j} \\neq 0} sim(i, j) r_{u, j}}{\\sum_{j: r_{u, j} \\neq 0} sim(i, j)}\n",
    "$$"
   ]
  },
  {
   "cell_type": "code",
   "execution_count": 76,
   "metadata": {
    "collapsed": false
   },
   "outputs": [],
   "source": [
    "def predict(sim_i_j, user_movie_train, X):\n",
    "    y_predict = np.zeros(X.shape[0])\n",
    "    for i in range(X.shape[0]):\n",
    "        userID = X[i, 0].astype('int')\n",
    "        movieID = X[i, 1].astype('int')\n",
    "        moviesID = user_movie_train[userID][0]\n",
    "        ratings = user_movie_train[userID][2]\n",
    "        if (sim_i_j[movieID][moviesID].sum() == 0.0):\n",
    "            y_predict[i] = 0.5\n",
    "            continue\n",
    "        y_predict[i] = ((sim_i_j[movieID][moviesID] * ratings).sum()) / (sim_i_j[movieID][moviesID].sum())\n",
    "    return y_predict"
   ]
  },
  {
   "cell_type": "markdown",
   "metadata": {},
   "source": [
    "### <font face=\"Times New Roman\"> Similarity matrix."
   ]
  },
  {
   "cell_type": "code",
   "execution_count": 81,
   "metadata": {
    "collapsed": false
   },
   "outputs": [],
   "source": [
    "start = time.clock()\n",
    "sim_i_j = read_sim_matrix(\"similarity_matrix.txt\")\n",
    "time_by_N.append(time.clock() - start)\n",
    "y_predict = predict(sim_i_j, user_movie_train, test)\n",
    "MSE_test_all_sim = pc.MSE(y_test, y_predict)\n",
    "y_predict = predict(sim_i_j, user_movie_train, train)\n",
    "MSE_train_all_sim = pc.MSE(y_train, y_predict)\n",
    "MSE_train_by_N.append(MSE_train_all_sim)\n",
    "MSE_test_by_N .append(MSE_test_all_sim)"
   ]
  },
  {
   "cell_type": "code",
   "execution_count": 83,
   "metadata": {
    "collapsed": false
   },
   "outputs": [
    {
     "name": "stdout",
     "output_type": "stream",
     "text": [
      "[0.025420330922173481]\n",
      "[0.035106683475658318]\n",
      "[3.901177999999959]\n"
     ]
    }
   ],
   "source": [
    "print MSE_train_by_N\n",
    "print MSE_test_by_N\n",
    "print time_by_N"
   ]
  },
  {
   "cell_type": "markdown",
   "metadata": {},
   "source": [
    "<font size=4, face=\"Times New Roman\"> Как мы видим, $MSE = 0.0351$ на тесте и $0.0254$ на обучении, что означает о присутствии незначительного переобучения. Далее будут предоставлены результаты при сохранении не всей матрицы, а первых $N$ схожих к данному фильму."
   ]
  },
  {
   "cell_type": "markdown",
   "metadata": {},
   "source": [
    "### <font face=\"Times New Roman\"> Max similar = 1."
   ]
  },
  {
   "cell_type": "code",
   "execution_count": 84,
   "metadata": {
    "collapsed": false
   },
   "outputs": [
    {
     "data": {
      "text/plain": [
       "<module 'top_N_similarity' from 'top_N_similarity.py'>"
      ]
     },
     "execution_count": 84,
     "metadata": {},
     "output_type": "execute_result"
    }
   ],
   "source": [
    "reload(top_sim)"
   ]
  },
  {
   "cell_type": "code",
   "execution_count": 85,
   "metadata": {
    "collapsed": true
   },
   "outputs": [],
   "source": [
    "sim_i_j = np.zeros((3953, 3953))\n",
    "mr_job = top_sim.MRTop_N_Similarity(args=[\"similarity_train.txt\"])\n",
    "with mr_job.make_runner() as runner:\n",
    "    start = time.clock()\n",
    "    runner.run()\n",
    "    time_by_N.append(time.clock() - start)\n",
    "    for line in runner.stream_output():\n",
    "        key, value = mr_job.parse_output_line(line)\n",
    "        i = int(key[0])\n",
    "        j = int(key[1])\n",
    "        sim_i_j[i, j] = float(value)\n",
    "sim_i_j += sim_i_j.T\n",
    "y_predict = predict(sim_i_j, user_movie_train, test)\n",
    "MSE_test_by_N .append(pc.MSE(y_test, y_predict))\n",
    "y_predict = predict(sim_i_j, user_movie_train, train)\n",
    "MSE_train_by_N.append(pc.MSE(y_train, y_predict))"
   ]
  },
  {
   "cell_type": "code",
   "execution_count": 86,
   "metadata": {
    "collapsed": false
   },
   "outputs": [
    {
     "name": "stdout",
     "output_type": "stream",
     "text": [
      "[0.025420330922173481, 0.098532546495085777]\n",
      "[0.035106683475658318, 0.087219879080059071]\n",
      "[3.901177999999959, 33.70286199999998]\n"
     ]
    }
   ],
   "source": [
    "print MSE_train_by_N\n",
    "print MSE_test_by_N\n",
    "print time_by_N"
   ]
  },
  {
   "cell_type": "markdown",
   "metadata": {},
   "source": [
    "### <font face=\"Times New Roman\"> Max similar = 5."
   ]
  },
  {
   "cell_type": "code",
   "execution_count": 87,
   "metadata": {
    "collapsed": false
   },
   "outputs": [
    {
     "name": "stdout",
     "output_type": "stream",
     "text": [
      "[0.025420330922173481, 0.098532546495085777, 0.096217939414928719]\n",
      "[0.035106683475658318, 0.087219879080059071, 0.087211597648742756]\n",
      "[3.901177999999959, 33.70286199999998, 35.95260999999999]\n"
     ]
    }
   ],
   "source": [
    "reload(top_sim)\n",
    "sim_i_j = np.zeros((3953, 3953))\n",
    "mr_job = top_sim.MRTop_N_Similarity(args=[\"similarity_train.txt\"])\n",
    "with mr_job.make_runner() as runner:\n",
    "    start = time.clock()\n",
    "    runner.run()\n",
    "    time_by_N.append(time.clock() - start)\n",
    "    for line in runner.stream_output():\n",
    "        key, value = mr_job.parse_output_line(line)\n",
    "        i = int(key[0])\n",
    "        j = int(key[1])\n",
    "        sim_i_j[i, j] = float(value)\n",
    "sim_i_j += sim_i_j.T\n",
    "y_predict = predict(sim_i_j, user_movie_train, test)\n",
    "MSE_test_by_N .append(pc.MSE(y_test, y_predict))\n",
    "y_predict = predict(sim_i_j, user_movie_train, train)\n",
    "MSE_train_by_N.append(pc.MSE(y_train, y_predict))\n",
    "print MSE_train_by_N\n",
    "print MSE_test_by_N\n",
    "print time_by_N"
   ]
  },
  {
   "cell_type": "markdown",
   "metadata": {},
   "source": [
    "### <font face=\"Times New Roman\"> Max similar = 10."
   ]
  },
  {
   "cell_type": "code",
   "execution_count": 88,
   "metadata": {
    "collapsed": false
   },
   "outputs": [
    {
     "name": "stdout",
     "output_type": "stream",
     "text": [
      "[0.025420330922173481, 0.098532546495085777, 0.096217939414928719, 0.093852562771719036]\n",
      "[0.035106683475658318, 0.087219879080059071, 0.087211597648742756, 0.086664611473800349]\n",
      "[3.901177999999959, 33.70286199999998, 35.95260999999999, 36.490665999999976]\n"
     ]
    }
   ],
   "source": [
    "reload(top_sim)\n",
    "sim_i_j = np.zeros((3953, 3953))\n",
    "mr_job = top_sim.MRTop_N_Similarity(args=[\"similarity_train.txt\"])\n",
    "with mr_job.make_runner() as runner:\n",
    "    start = time.clock()\n",
    "    runner.run()\n",
    "    time_by_N.append(time.clock() - start)\n",
    "    for line in runner.stream_output():\n",
    "        key, value = mr_job.parse_output_line(line)\n",
    "        i = int(key[0])\n",
    "        j = int(key[1])\n",
    "        sim_i_j[i, j] = float(value)\n",
    "sim_i_j += sim_i_j.T\n",
    "y_predict = predict(sim_i_j, user_movie_train, test)\n",
    "MSE_test_by_N .append(pc.MSE(y_test, y_predict))\n",
    "y_predict = predict(sim_i_j, user_movie_train, train)\n",
    "MSE_train_by_N.append(pc.MSE(y_train, y_predict))\n",
    "print MSE_train_by_N\n",
    "print MSE_test_by_N\n",
    "print time_by_N"
   ]
  },
  {
   "cell_type": "markdown",
   "metadata": {},
   "source": [
    "### <font face=\"Times New Roman\"> Max similar = 50."
   ]
  },
  {
   "cell_type": "code",
   "execution_count": 90,
   "metadata": {
    "collapsed": false
   },
   "outputs": [
    {
     "name": "stdout",
     "output_type": "stream",
     "text": [
      "[0.025420330922173481, 0.098532546495085777, 0.096217939414928719, 0.093852562771719036, 0.08159757829779811]\n",
      "[0.035106683475658318, 0.087219879080059071, 0.087211597648742756, 0.086664611473800349, 0.083141115553911793]\n",
      "[3.901177999999959, 33.70286199999998, 35.95260999999999, 36.490665999999976, 36.90924000000001]\n"
     ]
    }
   ],
   "source": [
    "reload(top_sim)\n",
    "sim_i_j = np.zeros((3953, 3953))\n",
    "mr_job = top_sim.MRTop_N_Similarity(args=[\"similarity_train.txt\"])\n",
    "with mr_job.make_runner() as runner:\n",
    "    start = time.clock()\n",
    "    runner.run()\n",
    "    time_by_N.append(time.clock() - start)\n",
    "    for line in runner.stream_output():\n",
    "        key, value = mr_job.parse_output_line(line)\n",
    "        i = int(key[0])\n",
    "        j = int(key[1])\n",
    "        sim_i_j[i, j] = float(value)\n",
    "sim_i_j += sim_i_j.T\n",
    "y_predict = predict(sim_i_j, user_movie_train, test)\n",
    "MSE_test_by_N .append(pc.MSE(y_test, y_predict))\n",
    "y_predict = predict(sim_i_j, user_movie_train, train)\n",
    "MSE_train_by_N.append(pc.MSE(y_train, y_predict))\n",
    "print MSE_train_by_N\n",
    "print MSE_test_by_N\n",
    "print time_by_N"
   ]
  },
  {
   "cell_type": "markdown",
   "metadata": {},
   "source": [
    "### <font face=\"Times New Roman\"> Max similar = 100."
   ]
  },
  {
   "cell_type": "code",
   "execution_count": 91,
   "metadata": {
    "collapsed": false
   },
   "outputs": [
    {
     "name": "stdout",
     "output_type": "stream",
     "text": [
      "[0.025420330922173481, 0.098532546495085777, 0.096217939414928719, 0.093852562771719036, 0.08159757829779811, 0.063122845608971967]\n",
      "[0.035106683475658318, 0.087219879080059071, 0.087211597648742756, 0.086664611473800349, 0.083141115553911793, 0.073728817097900648]\n",
      "[3.901177999999959, 33.70286199999998, 35.95260999999999, 36.490665999999976, 36.90924000000001, 38.53158000000002]\n"
     ]
    }
   ],
   "source": [
    "reload(top_sim)\n",
    "sim_i_j = np.zeros((3953, 3953))\n",
    "mr_job = top_sim.MRTop_N_Similarity(args=[\"similarity_train.txt\"])\n",
    "with mr_job.make_runner() as runner:\n",
    "    start = time.clock()\n",
    "    runner.run()\n",
    "    time_by_N.append(time.clock() - start)\n",
    "    for line in runner.stream_output():\n",
    "        key, value = mr_job.parse_output_line(line)\n",
    "        i = int(key[0])\n",
    "        j = int(key[1])\n",
    "        sim_i_j[i, j] = float(value)\n",
    "sim_i_j += sim_i_j.T\n",
    "y_predict = predict(sim_i_j, user_movie_train, test)\n",
    "MSE_test_by_N .append(pc.MSE(y_test, y_predict))\n",
    "y_predict = predict(sim_i_j, user_movie_train, train)\n",
    "MSE_train_by_N.append(pc.MSE(y_train, y_predict))\n",
    "print MSE_train_by_N\n",
    "print MSE_test_by_N\n",
    "print time_by_N"
   ]
  },
  {
   "cell_type": "markdown",
   "metadata": {},
   "source": [
    "### <font face=\"Times New Roman\"> Max similar = 500."
   ]
  },
  {
   "cell_type": "code",
   "execution_count": 92,
   "metadata": {
    "collapsed": false
   },
   "outputs": [
    {
     "name": "stdout",
     "output_type": "stream",
     "text": [
      "[0.025420330922173481, 0.098532546495085777, 0.096217939414928719, 0.093852562771719036, 0.08159757829779811, 0.063122845608971967, 0.023827519211171731]\n",
      "[0.035106683475658318, 0.087219879080059071, 0.087211597648742756, 0.086664611473800349, 0.083141115553911793, 0.073728817097900648, 0.036857677197153847]\n",
      "[3.901177999999959, 33.70286199999998, 35.95260999999999, 36.490665999999976, 36.90924000000001, 38.53158000000002, 44.13665100000003]\n"
     ]
    }
   ],
   "source": [
    "reload(top_sim)\n",
    "sim_i_j = np.zeros((3953, 3953))\n",
    "mr_job = top_sim.MRTop_N_Similarity(args=[\"similarity_train.txt\"])\n",
    "with mr_job.make_runner() as runner:\n",
    "    start = time.clock()\n",
    "    runner.run()\n",
    "    time_by_N.append(time.clock() - start)\n",
    "    for line in runner.stream_output():\n",
    "        key, value = mr_job.parse_output_line(line)\n",
    "        i = int(key[0])\n",
    "        j = int(key[1])\n",
    "        sim_i_j[i, j] = float(value)\n",
    "sim_i_j += sim_i_j.T\n",
    "y_predict = predict(sim_i_j, user_movie_train, test)\n",
    "MSE_test_by_N .append(pc.MSE(y_test, y_predict))\n",
    "y_predict = predict(sim_i_j, user_movie_train, train)\n",
    "MSE_train_by_N.append(pc.MSE(y_train, y_predict))\n",
    "print MSE_train_by_N\n",
    "print MSE_test_by_N\n",
    "print time_by_N"
   ]
  },
  {
   "cell_type": "markdown",
   "metadata": {},
   "source": [
    "### <font face=\"Times New Roman\"> Max similar = 1000."
   ]
  },
  {
   "cell_type": "code",
   "execution_count": 93,
   "metadata": {
    "collapsed": false
   },
   "outputs": [
    {
     "name": "stdout",
     "output_type": "stream",
     "text": [
      "[0.025420330922173481, 0.098532546495085777, 0.096217939414928719, 0.093852562771719036, 0.08159757829779811, 0.063122845608971967, 0.023827519211171731, 0.025015974279679744]\n",
      "[0.035106683475658318, 0.087219879080059071, 0.087211597648742756, 0.086664611473800349, 0.083141115553911793, 0.073728817097900648, 0.036857677197153847, 0.035157638015371834]\n",
      "[3.901177999999959, 33.70286199999998, 35.95260999999999, 36.490665999999976, 36.90924000000001, 38.53158000000002, 44.13665100000003, 47.43408099999999]\n"
     ]
    }
   ],
   "source": [
    "reload(top_sim)\n",
    "sim_i_j = np.zeros((3953, 3953))\n",
    "mr_job = top_sim.MRTop_N_Similarity(args=[\"similarity_train.txt\"])\n",
    "with mr_job.make_runner() as runner:\n",
    "    start = time.clock()\n",
    "    runner.run()\n",
    "    time_by_N.append(time.clock() - start)\n",
    "    for line in runner.stream_output():\n",
    "        key, value = mr_job.parse_output_line(line)\n",
    "        i = int(key[0])\n",
    "        j = int(key[1])\n",
    "        sim_i_j[i, j] = float(value)\n",
    "sim_i_j += sim_i_j.T\n",
    "y_predict = predict(sim_i_j, user_movie_train, test)\n",
    "MSE_test_by_N .append(pc.MSE(y_test, y_predict))\n",
    "y_predict = predict(sim_i_j, user_movie_train, train)\n",
    "MSE_train_by_N.append(pc.MSE(y_train, y_predict))\n",
    "print MSE_train_by_N\n",
    "print MSE_test_by_N\n",
    "print time_by_N"
   ]
  },
  {
   "cell_type": "markdown",
   "metadata": {},
   "source": [
    "### <font face=\"Times New Roman\"> Max similar = 2000."
   ]
  },
  {
   "cell_type": "code",
   "execution_count": 94,
   "metadata": {
    "collapsed": false
   },
   "outputs": [
    {
     "name": "stdout",
     "output_type": "stream",
     "text": [
      "[0.025420330922173481, 0.098532546495085777, 0.096217939414928719, 0.093852562771719036, 0.08159757829779811, 0.063122845608971967, 0.023827519211171731, 0.025015974279679744, 0.025394110877700611]\n",
      "[0.035106683475658318, 0.087219879080059071, 0.087211597648742756, 0.086664611473800349, 0.083141115553911793, 0.073728817097900648, 0.036857677197153847, 0.035157638015371834, 0.035146829475759915]\n",
      "[3.901177999999959, 33.70286199999998, 35.95260999999999, 36.490665999999976, 36.90924000000001, 38.53158000000002, 44.13665100000003, 47.43408099999999, 51.202174000000014]\n"
     ]
    }
   ],
   "source": [
    "reload(top_sim)\n",
    "sim_i_j = np.zeros((3953, 3953))\n",
    "mr_job = top_sim.MRTop_N_Similarity(args=[\"similarity_train.txt\"])\n",
    "with mr_job.make_runner() as runner:\n",
    "    start = time.clock()\n",
    "    runner.run()\n",
    "    time_by_N.append(time.clock() - start)\n",
    "    for line in runner.stream_output():\n",
    "        key, value = mr_job.parse_output_line(line)\n",
    "        i = int(key[0])\n",
    "        j = int(key[1])\n",
    "        sim_i_j[i, j] = float(value)\n",
    "sim_i_j += sim_i_j.T\n",
    "y_predict = predict(sim_i_j, user_movie_train, test)\n",
    "MSE_test_by_N .append(pc.MSE(y_test, y_predict))\n",
    "y_predict = predict(sim_i_j, user_movie_train, train)\n",
    "MSE_train_by_N.append(pc.MSE(y_train, y_predict))\n",
    "print MSE_train_by_N\n",
    "print MSE_test_by_N\n",
    "print time_by_N"
   ]
  },
  {
   "cell_type": "markdown",
   "metadata": {},
   "source": [
    "<center> <font size=4, face=\"Times New Roman\"> Таблица, показывающая качество метода при разных $N$:"
   ]
  },
  {
   "cell_type": "markdown",
   "metadata": {},
   "source": [
    "|Max Similar ($N$)|MSE train|MSE test| Time|\n",
    "|------|---------|--------|-------|\n",
    "| 1 | 0.098532546 | 0.087219879 | 33.70286|\n",
    "| 5 | 0.096217939 | 0.0872115976|  35.9526|\n",
    "| 10 | 0.09385256 | 0.08666461147| 36.49066|\n",
    "| 50 | 0.081597578 | 0.08314111| 36.90924|\n",
    "|  100 | 0.063122845 | 0.073728817| 38.53158|\n",
    "| 500  | 0.023827519 | 0.036857677| 44.136651|\n",
    "| 1000  | 0.025015974 | 0.035157638 | 47.43408|\n",
    "| 2000 | 0.02539411 | 0.035146829| 51.202174|"
   ]
  },
  {
   "cell_type": "code",
   "execution_count": 95,
   "metadata": {
    "collapsed": false
   },
   "outputs": [
    {
     "data": {
      "text/plain": [
       "<matplotlib.legend.Legend at 0x7ff0e34ba390>"
      ]
     },
     "execution_count": 95,
     "metadata": {},
     "output_type": "execute_result"
    },
    {
     "data": {
      "image/png": "[encoded data removed]",
      "text/plain": [
       "<matplotlib.figure.Figure at 0x7ff0d25b6050>"
      ]
     },
     "metadata": {},
     "output_type": "display_data"
    }
   ],
   "source": [
    "plt.xlabel(\"Max similar (N)\")\n",
    "plt.ylabel(\"MSE\")\n",
    "N_param = [1, 5, 10, 50, 100, 500, 1000, 2000]\n",
    "plt.plot(N_param, MSE_train_by_N[1: ],\n",
    "        N_param, MSE_test_by_N[1: ])\n",
    "plt.legend([\"MSE_train\", \"MSE test\"])"
   ]
  },
  {
   "cell_type": "markdown",
   "metadata": {},
   "source": [
    "<font size=4, face=\"Times New Roman\"> Как мы видим увеличение числа $N$ ($N$ - максимальное количество похожих фильмов) дает уменьшение MSE, однако после 1000 можно хранить всю матрицу и делать по ней предикт."
   ]
  },
  {
   "cell_type": "markdown",
   "metadata": {},
   "source": [
    "## <font face=\"Times New Roman\"> Latent Factor метод."
   ]
  },
  {
   "cell_type": "markdown",
   "metadata": {},
   "source": [
    "<font size=4, face=\"Times New Roman\"> Неизвестные рейтинги в этом методе ищутся как:\n",
    "$$\n",
    "\\hat r_{u, i} = p^{T}_u q_i\n",
    "$$\n",
    ", где $p, q \\in \\mathbb{R}^K$.\n",
    "\n",
    "Оптимизируется функционал:\n",
    "$$\n",
    "\\sum_{(u, i, r_{u, i})} ((r_{u, i} - p^{T}_u q_i)^2 + \\lambda_p p_u^T p_u + \\lambda_q q_i^T q_i)\n",
    "$$\n",
    "\n",
    "$P$ (матрица из $p_u$) и $Q$ (матрица из $q_i$) ищутся итерационно. Сначала по зафиксированной матрице $P$ считается $Q$, затем наоборот.  Подматрицей $Q[u] \\in \\mathbb{R}^{n_u \\times K}$ обозначается подматрица матрицы $Q$ только для товаров, оцененных пользователем $u$, $n_u$ - количество таких товаров. $P[i] \\in \\mathbb{R}^{n_i \\times K}$ - подматрица матрицы $P$ только для таких пользователей, которые оценили товар $i$, $n_i$ - колиество таких пользователей. Соответственно формулы для перерасчета:\n",
    "\n",
    "$$\n",
    "A_u = Q[u]^{T} Q[u]\n",
    "$$\n",
    "\n",
    "$$\n",
    "d_u = Q[u]^{T} r_u\n",
    "$$\n",
    "\n",
    "$$\n",
    "p_u = (\\lambda_p n_u  I + A_u)^{-1} d_u\n",
    "$$\n",
    "\n",
    "$$\n",
    "A_i = P[i]^{T} P[i]\n",
    "$$\n",
    "\n",
    "$$\n",
    "d_i = Q[i]^{T} r_i\n",
    "$$\n",
    "\n",
    "$$\n",
    "q_i = (\\lambda_q n_i  I + A_i)^{-1} d_i\n",
    "$$\n",
    "\n",
    "Для тестирования реализации предлагалось использовать значения $\\lambda_p = 0.2$, $\\lambda_q = 0.001$, $N = 20$, $K = 10$. Эти значения параметров были использованы как значения по умолчанию для метода. Реализация метода и необходимая предобработка данных хранится в файле <b>latent_factor.py</b>."
   ]
  },
  {
   "cell_type": "code",
   "execution_count": 122,
   "metadata": {
    "collapsed": false
   },
   "outputs": [
    {
     "name": "stdout",
     "output_type": "stream",
     "text": [
      "0.0304936278917\n"
     ]
    }
   ],
   "source": [
    "clf = lf.LatentFactor()\n",
    "clf.fit(user_movie_train, movie_user_train, y_train)\n",
    "y_predict = clf.predict(test, user_movie_test, movie_user_test)\n",
    "print pc.MSE(y_test, y_predict)"
   ]
  },
  {
   "cell_type": "markdown",
   "metadata": {},
   "source": [
    "<font size=4, face=\"Times New Roman\"> Как видно, метод реализован правильно, судя по значению MSE на тестовой выборке."
   ]
  },
  {
   "cell_type": "markdown",
   "metadata": {},
   "source": [
    "<font size=4, face=\"Times New Roman\"> Далее будут приведены результаты экспериментов по выбору оптимальных параметров $\\lambda_p$, количества итераций, $\\lambda_q$, $K$ - размерности пространства латентных признаков."
   ]
  },
  {
   "cell_type": "markdown",
   "metadata": {},
   "source": [
    "### <font face=\"Times New Roman\"> Кросс-валидация по числу итераций."
   ]
  },
  {
   "cell_type": "code",
   "execution_count": 97,
   "metadata": {
    "collapsed": false
   },
   "outputs": [],
   "source": [
    "max_iter_values = [10, 20, 30, 40]\n",
    "MSE_max_iter = []\n",
    "time_max_iter = []\n",
    "for max_iter in max_iter_values:\n",
    "    clf = lf.LatentFactor(max_iter=max_iter)\n",
    "    start = time.clock()\n",
    "    clf.fit(user_movie_train, movie_user_train, y_train)\n",
    "    time_max_iter.append(time.clock() - start)\n",
    "    y_predict = clf.predict(test, user_movie_test, movie_user_test)\n",
    "    MSE_max_iter.append(pc.MSE(y_test, y_predict))"
   ]
  },
  {
   "cell_type": "code",
   "execution_count": 100,
   "metadata": {
    "collapsed": false
   },
   "outputs": [
    {
     "name": "stdout",
     "output_type": "stream",
     "text": [
      "MSE:  [0.03111135354969366, 0.030533037673092248, 0.03042098277995722, 0.03037374450620892]\n",
      "Time:  [45.95167599999991, 92.72957199999996, 138.58841800000005, 186.23559999999998]\n"
     ]
    }
   ],
   "source": [
    "print \"MSE: \", MSE_max_iter\n",
    "print \"Time: \", time_max_iter"
   ]
  },
  {
   "cell_type": "markdown",
   "metadata": {},
   "source": [
    "<font size=4, face=\"Times New Roman\"> Как видно, чем больше итераций, тем лучше качество, однако и увеличивается время. Но так как улучшение не такое сильное, то число итераций равное 30 можно будет считать оптимальным."
   ]
  },
  {
   "cell_type": "markdown",
   "metadata": {},
   "source": [
    "### <font face=\"Times New Roman\"> Кросс-валидация по $\\lambda_p$."
   ]
  },
  {
   "cell_type": "code",
   "execution_count": 101,
   "metadata": {
    "collapsed": true
   },
   "outputs": [],
   "source": [
    "lambda_p_values = [0.001, 0.01, 0.1, 0.2, 0.5, 1.0]\n",
    "MSE_lambda_p = []\n",
    "for lambda_p in lambda_p_values:\n",
    "    clf = lf.LatentFactor(lambda_p=lambda_p, max_iter=30)\n",
    "    clf.fit(user_movie_train, movie_user_train, y_train)\n",
    "    y_predict = clf.predict(test, user_movie_test, movie_user_test)\n",
    "    MSE_lambda_p.append(pc.MSE(y_test, y_predict))"
   ]
  },
  {
   "cell_type": "code",
   "execution_count": 102,
   "metadata": {
    "collapsed": false
   },
   "outputs": [
    {
     "name": "stdout",
     "output_type": "stream",
     "text": [
      "MSE:  [0.036124742252994529, 0.033225745413776549, 0.030731433434637287, 0.030400597620690264, 0.030856268230983704, 0.032267940252331227]\n"
     ]
    }
   ],
   "source": [
    "print \"MSE: \", MSE_lambda_p"
   ]
  },
  {
   "cell_type": "markdown",
   "metadata": {},
   "source": [
    "<font size=4, face=\"Times New Roman\"> Как мы видим, параметр по умолчанию $\\lambda_p = 0.2$ является оптимальным."
   ]
  },
  {
   "cell_type": "markdown",
   "metadata": {},
   "source": [
    "### <font face=\"Times New Roman\"> Кросс-валидация по $\\lambda_q$."
   ]
  },
  {
   "cell_type": "code",
   "execution_count": 103,
   "metadata": {
    "collapsed": true
   },
   "outputs": [],
   "source": [
    "lambda_q_values = [1e-5, 0.0001, 0.001, 0.01, 0.1, 1.0]\n",
    "MSE_lambda_q = []\n",
    "for lambda_q in lambda_q_values:\n",
    "    clf = lf.LatentFactor(lambda_q=lambda_q, max_iter=30)\n",
    "    clf.fit(user_movie_train, movie_user_train, y_train)\n",
    "    y_predict = clf.predict(test, user_movie_test, movie_user_test)\n",
    "    MSE_lambda_q.append(pc.MSE(y_test, y_predict))"
   ]
  },
  {
   "cell_type": "code",
   "execution_count": 104,
   "metadata": {
    "collapsed": false
   },
   "outputs": [
    {
     "name": "stdout",
     "output_type": "stream",
     "text": [
      "MSE:  [0.035245526282512769, 0.032350897561427103, 0.030454414937511446, 0.034232688404786084, 0.050428603688532081, 0.21298870465359157]\n"
     ]
    }
   ],
   "source": [
    "print \"MSE: \", MSE_lambda_q"
   ]
  },
  {
   "cell_type": "markdown",
   "metadata": {},
   "source": [
    "<font face=\"Times New Roman\", size=4> Как мы видим, $\\lambda_q = 0.001$ является оптимальным параметром."
   ]
  },
  {
   "cell_type": "markdown",
   "metadata": {},
   "source": [
    "### <font face=\"Times New Roman\"> Кросс-валидация по размерности пространства латентных признаков ."
   ]
  },
  {
   "cell_type": "markdown",
   "metadata": {},
   "source": [
    "<font face=\"Times New Roman\", size=4> Необходимо посмотреть на качество метода в зависимости от размерности пространства латентных признаков ($K$). Сравнить по времени работы и по качеству на обучающей и тестовой выборках и узнать ведет ли к переобучению увеличение $K$."
   ]
  },
  {
   "cell_type": "code",
   "execution_count": 105,
   "metadata": {
    "collapsed": true
   },
   "outputs": [],
   "source": [
    "K_values = [1, 5, 10, 20, 50, 100, 200, 300]\n",
    "MSE_train_K = []\n",
    "MSE_test_K = []\n",
    "time_K = []\n",
    "for K in K_values:\n",
    "    clf = lf.LatentFactor(K=K, max_iter=30)\n",
    "    start = time.clock()\n",
    "    clf.fit(user_movie_train, movie_user_train, y_train)\n",
    "    time_K.append(time.clock() - start)\n",
    "    y_predict = clf.predict(test, user_movie_test, movie_user_test)\n",
    "    MSE_test_K.append(pc.MSE(y_test, y_predict))\n",
    "    y_predict = clf.predict(train, user_movie_train, movie_user_train)\n",
    "    MSE_train_K.append(pc.MSE(y_train, y_predict))"
   ]
  },
  {
   "cell_type": "code",
   "execution_count": 106,
   "metadata": {
    "collapsed": false
   },
   "outputs": [
    {
     "name": "stdout",
     "output_type": "stream",
     "text": [
      "MSE train:  [0.032664636502578601, 0.026923681333174992, 0.024295028394565446, 0.021725036313804021, 0.018540666315586363, 0.016995127421537658, 0.016592519715523498, 0.016562128521574206]\n",
      "MSE test:  [0.034382378359892551, 0.030942236303918128, 0.03039341205307584, 0.030408300733008358, 0.030399391032272089, 0.030278040990292486, 0.03019671528096126, 0.030187518591343922]\n",
      "Time to fit:  [17.43271500000037, 70.13100600000007, 137.40568699999994, 175.86705799999982, 309.8233140000002, 611.5503680000002, 1782.5636429999995, 3795.2492699999993]\n"
     ]
    }
   ],
   "source": [
    "print \"MSE train: \", MSE_train_K\n",
    "print \"MSE test: \", MSE_test_K\n",
    "print \"Time to fit: \", time_K"
   ]
  },
  {
   "cell_type": "markdown",
   "metadata": {},
   "source": [
    "|$K$|MSE train|MSE test| Time|\n",
    "|------|---------|--------|-------|\n",
    "| 1 | 0.0326646 | 0.034382378 | 17.432715|\n",
    "| 5 | 0.02692368 | 0.030942236|  70.131|\n",
    "| 10 | 0.024295 | 0.030393412| 137.4|\n",
    "| 20 | 0.021725 | 0.0304083| 175.867|\n",
    "|  50 | 0.018540666 | 0.03039939| 309.823314|\n",
    "| 100  | 0.016995 | 0.03027804| 611.55|\n",
    "| 200  | 0.0165925 | 0.030196715 | 1782.56364|\n",
    "| 300 | 0.0165621 | 0.03018751859| 3795.249|"
   ]
  },
  {
   "cell_type": "markdown",
   "metadata": {},
   "source": [
    "<font size=4, face=\"Times New Roman\"> Как видно из таблицы увеличение $K$ ведет к небольшому переобучению. MSE при $K=10$ можно считать оптимальным по времени и по качеству на обучении и тесте."
   ]
  },
  {
   "cell_type": "markdown",
   "metadata": {},
   "source": [
    "## <font face=\"Times New Roman\"> Сравнение трёх методов по лучшим параметрам."
   ]
  },
  {
   "cell_type": "markdown",
   "metadata": {},
   "source": [
    "|Method|MSE train|MSE test| Time to fit|\n",
    "|------|---------|--------|-------|\n",
    "| Content based | 0.03029 |0.037029 | 0.832391|\n",
    "| Neighborhood | 0.02542 | 0.0351|  3.9|\n",
    "| Latent factor |  0.024295 | 0.030393412| 137.4|"
   ]
  },
  {
   "cell_type": "markdown",
   "metadata": {},
   "source": [
    "<font size=4, face=\"Times New Roman\"> Как видно, самым лучшим методом является Latent factor, однако он также долго работает по времени."
   ]
  }
 ],
 "metadata": {
  "kernelspec": {
   "display_name": "Python 2",
   "language": "python",
   "name": "python2"
  },
  "language_info": {
   "codemirror_mode": {
    "name": "ipython",
    "version": 2
   },
   "file_extension": ".py",
   "mimetype": "text/x-python",
   "name": "python",
   "nbconvert_exporter": "python",
   "pygments_lexer": "ipython2",
   "version": "2.7.11"
  }
 },
 "nbformat": 4,
 "nbformat_minor": 0
}
