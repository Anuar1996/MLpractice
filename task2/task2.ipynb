{
 "cells": [
  {
   "cell_type": "markdown",
   "metadata": {
    "collapsed": true
   },
   "source": [
    "# Второе задание. Метрические алгоритмы классификации."
   ]
  },
  {
   "cell_type": "markdown",
   "metadata": {},
   "source": [
    "###### ФИО: Таскынов Ануар Гульденбекович"
   ]
  },
  {
   "cell_type": "markdown",
   "metadata": {},
   "source": [
    "###### группа: 317"
   ]
  },
  {
   "cell_type": "code",
   "execution_count": 1,
   "metadata": {
    "collapsed": true
   },
   "outputs": [],
   "source": [
    "from sklearn.datasets import fetch_mldata\n",
    "import numpy as np\n",
    "import matplotlib.pyplot as plt\n",
    "import time\n",
    "%matplotlib inline"
   ]
  },
  {
   "cell_type": "markdown",
   "metadata": {},
   "source": [
    "### Первый пункт: загрузка датасета MNIST."
   ]
  },
  {
   "cell_type": "code",
   "execution_count": 2,
   "metadata": {
    "collapsed": true
   },
   "outputs": [],
   "source": [
    "mnist = fetch_mldata(\"MNIST original\")"
   ]
  },
  {
   "cell_type": "markdown",
   "metadata": {},
   "source": [
    "### Второй пункт: разбиение датасета на обучающую и тестовую выборку."
   ]
  },
  {
   "cell_type": "code",
   "execution_count": 3,
   "metadata": {
    "collapsed": false
   },
   "outputs": [],
   "source": [
    "mnist_train, mnist_test = np.split(mnist.data, [60000])\n",
    "mnist_target_train, mnist_target_test = np.split(mnist.target, [60000])"
   ]
  },
  {
   "cell_type": "markdown",
   "metadata": {
    "collapsed": false
   },
   "source": [
    "### Третий пункт: визуализация 5 случайных объектов из каждого из 10 классов."
   ]
  },
  {
   "cell_type": "code",
   "execution_count": 4,
   "metadata": {
    "collapsed": false
   },
   "outputs": [
    {
     "data": {
      "image/png": "[encoded data removed]",
      "text/plain": [
       "<matplotlib.figure.Figure at 0x7ad69e8>"
      ]
     },
     "metadata": {},
     "output_type": "display_data"
    }
   ],
   "source": [
    "k = 1\n",
    "for i in range(10):\n",
    "    #находим 5 различных представителей класса\n",
    "    index = np.random.choice(np.where(mnist_target_train == i)[0], 5, replace=False)\n",
    "    #визуализируем их\n",
    "    for j in range(5):\n",
    "        plt.subplot(10, 5, k)\n",
    "        plt.axis(\"off\")\n",
    "        plt.imshow(mnist_train[index[j]].reshape(28, 28), cmap=\"Greys\")\n",
    "        k += 1"
   ]
  },
  {
   "cell_type": "markdown",
   "metadata": {},
   "source": [
    "### Четвертый пункт:"
   ]
  },
  {
   "cell_type": "markdown",
   "metadata": {},
   "source": [
    "Выбор подмножества признаков:"
   ]
  },
  {
   "cell_type": "code",
   "execution_count": 5,
   "metadata": {
    "collapsed": false
   },
   "outputs": [],
   "source": [
    "from sklearn.neighbors import NearestNeighbors\n",
    "features_1 = np.random.choice(np.arange(784), 10, replace=False)\n",
    "features_2 = np.random.choice(np.arange(784), 20, replace=False)\n",
    "features_3 = np.random.choice(np.arange(784), 100, replace=False)\n",
    "all_features_mnist = np.arange(784)"
   ]
  },
  {
   "cell_type": "markdown",
   "metadata": {},
   "source": [
    "Реализация матрицы евклидовых расстояний из первого задания:"
   ]
  },
  {
   "cell_type": "code",
   "execution_count": 6,
   "metadata": {
    "collapsed": true
   },
   "outputs": [],
   "source": [
    "def euclidian_distance(X, Y):\n",
    "    D = np.zeros((X.shape[0], Y.shape[0]))\n",
    "    for i in range(X.shape[0]):\n",
    "        D[i] = np.sqrt(np.sum(np.square(X[i] - Y), axis=1))\n",
    "    return D"
   ]
  },
  {
   "cell_type": "markdown",
   "metadata": {},
   "source": [
    "Реализации алгоритма ближайших соседей без весов:"
   ]
  },
  {
   "cell_type": "code",
   "execution_count": 7,
   "metadata": {
    "collapsed": false
   },
   "outputs": [],
   "source": [
    "def my_algorithm(train, test, features, neighbor):\n",
    "    res = np.zeros((test.shape[0], 5), dtype='int32')\n",
    "    for i in range(test.shape[0]):\n",
    "        test_elem = test[i][features].reshape(1, features.shape[0])\n",
    "        euclidian_vector = euclidian_distance(test_elem, train[:, features])\n",
    "        knn = np.argsort(euclidian_vector, axis=1)\n",
    "        res[i] = knn[0][1:neighbor + 1]\n",
    "    return res\n",
    "\n",
    "def kd_tree_algorithm(train, test, features, neighbor):\n",
    "    nbrs = NearestNeighbors(n_neighbors=neighbor, \n",
    "                            algorithm='kd_tree').fit(train[:,features])\n",
    "    \n",
    "    res = np.zeros((test.shape[0], neighbor), dtype='int32')\n",
    "    step = 500 # размер блока\n",
    "    size = test.shape[0] // step\n",
    "    for i in range(0, size):\n",
    "        left = i * step\n",
    "        right = (i + 1) * step\n",
    "        res[left: right] = nbrs.kneighbors(test[left: right, features])[1]\n",
    "    #обрабатываем остаток\n",
    "    if (test.shape[0] % step != 0):\n",
    "        left = size * step\n",
    "        right = test.shape[0]\n",
    "        res[left: right] = nbrs.kneighbors(test[left: right, features])[1]\n",
    "    \n",
    "    return res\n",
    "\n",
    "def brute_algorithm(train, test, features, neighbor, metrics='minkowski'):\n",
    "    nbrs = NearestNeighbors(n_neighbors=neighbor, algorithm='brute', \n",
    "                            metric=metrics).fit(train[:,features])\n",
    "    \n",
    "    res = np.zeros((test.shape[0], neighbor), dtype='int32')\n",
    "    step = 500 #размер блока\n",
    "    size = test.shape[0] // step\n",
    "    for i in range(0, size):\n",
    "        left = i * step\n",
    "        right = (i + 1) * step\n",
    "        res[left: right] = nbrs.kneighbors(test[left: right, features])[1]\n",
    "    #обрабатываем остаток\n",
    "    if (test.shape[0] % step != 0):\n",
    "        left = size * step\n",
    "        right = test.shape[0]\n",
    "        res[left: right] = nbrs.kneighbors(test[left: right, features])[1]\n",
    "    \n",
    "    return res\n",
    "\n",
    "def ball_tree_algorithm(train, test, features, neighbor):\n",
    "    nbrs = NearestNeighbors(n_neighbors=neighbor, \n",
    "                            algorithm='ball_tree').fit(train[:,features])\n",
    "    \n",
    "    res = np.zeros((test.shape[0], neighbor), dtype='int32')\n",
    "    step = 500 #размер блока\n",
    "    size = test.shape[0] // step\n",
    "    for i in range(0, size):\n",
    "        left = i * step\n",
    "        right = (i + 1) * step\n",
    "        res[left: right] = nbrs.kneighbors(test[left: right, features])[1]\n",
    "    #обрабатываем остаток\n",
    "    if (test.shape[0] % step != 0):\n",
    "        left = size * step\n",
    "        right = test.shape[0]\n",
    "        res[left: right] = nbrs.kneighbors(test[left: right, features])[1]\n",
    "    \n",
    "    return res"
   ]
  },
  {
   "cell_type": "markdown",
   "metadata": {},
   "source": [
    "В этом пункте были реализованы 4 алгоритма поиска ближайших соседей:\n",
    "* собственная реализация на основе подсчета евклидова расстояния между объектами.\n",
    "* алгоритм __brute__.\n",
    "* алгоритм __kd_tree__.\n",
    "* алгоритм __bal_tree__.\n",
    "\n",
    "Так как некоторые алгоритмы хранят матрицу попарных расстояний между обучающими и тестовыми объектами (из-за чего происходит переполнение по памяти), все __brute__, __kd_tree__, __bal_tree__ обрабатывали тестовые объекты блоками с размером *step = 500*. В собственной реализации обрабатывался каждый тестовый объект."
   ]
  },
  {
   "cell_type": "code",
   "execution_count": 8,
   "metadata": {
    "collapsed": true
   },
   "outputs": [],
   "source": [
    "#функция, возвращающая по номерам классов ближайших соседей номер класса\n",
    "def num_class(knn):\n",
    "    res = np.zeros(knn.shape[0])\n",
    "    for i in range(knn.shape[0]):\n",
    "        res[i] = np.argmax(np.bincount(knn[i]))\n",
    "    return res"
   ]
  },
  {
   "cell_type": "markdown",
   "metadata": {},
   "source": [
    "Также была написана функция, которая возвращает номер класса по номерам классов ближайших соседей из обучающей выборки по формуле:\n",
    "\n",
    "$$\n",
    "    res_i = argmax_{y\\in Y} \\sum_{j = 1}^{l} [knn_{i,j} = y]\n",
    "$$\n",
    "\n",
    ", где $l$ - количество ближайших соседей; $Y$ - множество всех классов (в случае MNIST: 0, 1, 2, ..., 9)."
   ]
  },
  {
   "cell_type": "markdown",
   "metadata": {},
   "source": [
    "Проверка на время выполнения при различном количестве признаков:"
   ]
  },
  {
   "cell_type": "code",
   "execution_count": 10,
   "metadata": {
    "collapsed": false
   },
   "outputs": [],
   "source": [
    "start = time.clock()\n",
    "my_1 = my_algorithm(mnist_train, mnist_test, features_1, 5)\n",
    "t_my_1 = time.clock() - start\n",
    "\n",
    "start = time.clock()\n",
    "my_2 = my_algorithm(mnist_train, mnist_test, features_2, 5)\n",
    "t_my_2 = time.clock() - start\n",
    "\n",
    "start = time.clock()\n",
    "my_3 = my_algorithm(mnist_train, mnist_test, features_3, 5)\n",
    "t_my_3 = time.clock() - start"
   ]
  },
  {
   "cell_type": "code",
   "execution_count": 451,
   "metadata": {
    "collapsed": false
   },
   "outputs": [
    {
     "name": "stdout",
     "output_type": "stream",
     "text": [
      "10:  125.19069785618922\n",
      "20:  191.30365770422213\n",
      "100:  800.5445856842707\n"
     ]
    }
   ],
   "source": [
    "print('10: ', t_my_1)\n",
    "print('20: ', t_my_2)\n",
    "print('100: ', t_my_3)"
   ]
  },
  {
   "cell_type": "code",
   "execution_count": 440,
   "metadata": {
    "collapsed": true
   },
   "outputs": [],
   "source": [
    "start = time.clock()\n",
    "kd_1 = kd_tree_algorithm(mnist_train, mnist_test, features_1, 5)\n",
    "t_kd_1 = time.clock() - start\n",
    "\n",
    "start = time.clock()\n",
    "kd_2 = kd_tree_algorithm(mnist_train, mnist_test, features_2, 5)\n",
    "t_kd_2 = time.clock() - start\n",
    "\n",
    "start = time.clock()\n",
    "kd_3 = kd_tree_algorithm(mnist_train, mnist_test, features_3, 5)\n",
    "t_kd_3 = time.clock() - start"
   ]
  },
  {
   "cell_type": "code",
   "execution_count": 452,
   "metadata": {
    "collapsed": false
   },
   "outputs": [
    {
     "name": "stdout",
     "output_type": "stream",
     "text": [
      "10:  4.680853197205579\n",
      "20:  14.807054000048083\n",
      "100:  118.44362962117884\n"
     ]
    }
   ],
   "source": [
    "print('10: ', t_kd_1)\n",
    "print('20: ', t_kd_2)\n",
    "print('100: ', t_kd_3)"
   ]
  },
  {
   "cell_type": "code",
   "execution_count": 441,
   "metadata": {
    "collapsed": true
   },
   "outputs": [],
   "source": [
    "start = time.clock()\n",
    "br_1 = brute_algorithm(mnist_train, mnist_test, features_1, 5)\n",
    "t_br_1 = time.clock() - start\n",
    "\n",
    "start = time.clock()\n",
    "br_2 = brute_algorithm(mnist_train, mnist_test, features_2, 5)\n",
    "t_br_2 = time.clock() - start\n",
    "\n",
    "start = time.clock()\n",
    "br_3 = brute_algorithm(mnist_train, mnist_test, features_3, 5)\n",
    "t_br_3 = time.clock() - start"
   ]
  },
  {
   "cell_type": "code",
   "execution_count": 453,
   "metadata": {
    "collapsed": false
   },
   "outputs": [
    {
     "name": "stdout",
     "output_type": "stream",
     "text": [
      "10:  16.01518908290018\n",
      "20:  15.778994244828937\n",
      "100:  18.394672984897625\n"
     ]
    }
   ],
   "source": [
    "print('10: ', t_br_1)\n",
    "print('20: ', t_br_2)\n",
    "print('100: ', t_br_3)"
   ]
  },
  {
   "cell_type": "code",
   "execution_count": 442,
   "metadata": {
    "collapsed": true
   },
   "outputs": [],
   "source": [
    "start = time.clock()\n",
    "ball_1 = ball_tree_algorithm(mnist_train, mnist_test, features_1, 5)\n",
    "t_ball_1 = time.clock() - start\n",
    "\n",
    "start = time.clock()\n",
    "ball_2 = ball_tree_algorithm(mnist_train, mnist_test, features_2, 5)\n",
    "t_ball_2 = time.clock() - start\n",
    "\n",
    "start = time.clock()\n",
    "ball_3 = ball_tree_algorithm(mnist_train, mnist_test, features_3, 5)\n",
    "t_ball_3 = time.clock() - start"
   ]
  },
  {
   "cell_type": "code",
   "execution_count": 454,
   "metadata": {
    "collapsed": false
   },
   "outputs": [
    {
     "name": "stdout",
     "output_type": "stream",
     "text": [
      "10:  7.11027905010269\n",
      "20:  23.68215708110074\n",
      "100:  123.4175590488012\n"
     ]
    }
   ],
   "source": [
    "print('10: ', t_ball_1)\n",
    "print('20: ', t_ball_2)\n",
    "print('100: ', t_ball_3)"
   ]
  },
  {
   "cell_type": "markdown",
   "metadata": {},
   "source": [
    "<center> <h4>Таблица работы алгоритмов:"
   ]
  },
  {
   "cell_type": "markdown",
   "metadata": {},
   "source": [
    "|  features  | my_algoritm |   kd_tree   |   brute     |   ball_tree   |\n",
    "|:----------:|:-----------:|:-----------:|:-----------:|:-------------:|\n",
    "|   D = 10   |   2m 5.19s  |    4.68s    |   16.02s    |     7.11s     |\n",
    "|   D = 20   |   3m 1.3s   |    14.8s    |   15.78s    |     23.7s     |\n",
    "|   D = 100  |   13m 20s   |  1m 58.44s  |   18.39s    |    2m 3.42s   |"
   ]
  },
  {
   "cell_type": "markdown",
   "metadata": {},
   "source": [
    "Собственная реализация уступает всем стандартным реализациям из sklearn из-за своей наивности. Алгоритм __brute__ работает одинаково несмотря на увеличение количества признаков. Примечательным является тот факт, что __ball_tree__ работает медленнее, чем __kd_tree__ (в обоих случаях признаковое пространство структурируется)."
   ]
  },
  {
   "cell_type": "code",
   "execution_count": 270,
   "metadata": {
    "collapsed": false
   },
   "outputs": [
    {
     "name": "stdout",
     "output_type": "stream",
     "text": [
      "726.4864860703819\n"
     ]
    }
   ],
   "source": [
    "start = time.clock()\n",
    "kd_tree_algorithm(mnist_train, mnist_test, all_features_mnist, 5)\n",
    "print(time.clock() - start)"
   ]
  },
  {
   "cell_type": "code",
   "execution_count": 271,
   "metadata": {
    "collapsed": false
   },
   "outputs": [
    {
     "name": "stdout",
     "output_type": "stream",
     "text": [
      "572.5072309698298\n"
     ]
    }
   ],
   "source": [
    "start = time.clock()\n",
    "ball_tree_algorithm(mnist_train, mnist_test, all_features_mnist, 5)\n",
    "print(time.clock() - start)"
   ]
  },
  {
   "cell_type": "markdown",
   "metadata": {},
   "source": [
    "Однако применив методы __ball_tree__ и __kd_tree__ на всех признаках убеждаемся, что __bal_tree__ явно выигрывает по времени у __kd_tree__."
   ]
  },
  {
   "cell_type": "markdown",
   "metadata": {
    "collapsed": true
   },
   "source": [
    "### Пятый пункт: генерация индексов для кросс-валидации."
   ]
  },
  {
   "cell_type": "code",
   "execution_count": 11,
   "metadata": {
    "collapsed": false
   },
   "outputs": [],
   "source": [
    "def generate_index(N, D):\n",
    "    index = np.arange(D)\n",
    "    np.random.shuffle(index)\n",
    "    test_index = np.array([], dtype='int32')\n",
    "    train_index = np.array([], dtype='int32')\n",
    "    step = D // N\n",
    "    for i in range(N):\n",
    "        left = i * step\n",
    "        right = (i + 1) * step\n",
    "        \n",
    "        #тестовая валидационная выборка\n",
    "        \n",
    "        test_index_elem = index[left: right]\n",
    "        test_index = np.append(test_index, test_index_elem)\n",
    "        \n",
    "        #обучающая валидационная выборка\n",
    "        \n",
    "        mask = np.ones(D, dtype='bool')\n",
    "        mask[test_index_elem] = False\n",
    "        train_index_elem = index[mask]\n",
    "        train_index = np.append(train_index, train_index_elem)\n",
    "    test_index = test_index.reshape(N, step)\n",
    "    train_index = train_index.reshape(N, D - step)\n",
    "    return (train_index, test_index)"
   ]
  },
  {
   "cell_type": "markdown",
   "metadata": {},
   "source": [
    "Функция возвращает кортеж содержащий индексы обучающей и тестовой выборки: $100 * (1 - 1/N)$ объектов для обучения, а $1/N$ для тестирования алгоритма, где $N$ - число фолдов."
   ]
  },
  {
   "cell_type": "markdown",
   "metadata": {},
   "source": [
    "### Шестой пункт: оценка точности метода k-ближайших соседей при различных k."
   ]
  },
  {
   "cell_type": "code",
   "execution_count": 12,
   "metadata": {
    "collapsed": true
   },
   "outputs": [],
   "source": [
    "#функция, которая считает процент совпадающих данных в двух массивах\n",
    "def precision(x, y):\n",
    "    return np.sum(x == y)/x.shape[0]"
   ]
  },
  {
   "cell_type": "code",
   "execution_count": 13,
   "metadata": {
    "collapsed": true
   },
   "outputs": [],
   "source": [
    "#функция, возвращающая точность при заданном количестве соседей и время выполнения функции\n",
    "def accuracy(train, train_target, k, N, features, cross_val, metric='minkowski'):\n",
    "    k_cnt = k.shape[0]\n",
    "    prec = np.zeros((N, k_cnt))\n",
    "    t = np.zeros((N, k_cnt))\n",
    "    for fold in range(N):\n",
    "        train_idx = cross_val[0][fold]\n",
    "        test_idx = cross_val[1][fold]\n",
    "        my_target = np.zeros(train[test_idx].shape[0])\n",
    "        for neighbor in range(k_cnt):\n",
    "            start = time.clock()\n",
    "            knn = brute_algorithm(train[train_idx], train[test_idx], \n",
    "                                  features, k[neighbor], metrics=metric)\n",
    "            t[fold][neighbor] = time.clock() - start\n",
    "            knn = train_idx[knn]\n",
    "            my_target = num_class(train_target[knn].astype('int32'))\n",
    "            prec[fold][neighbor] = precision(my_target, train_target[test_idx])\n",
    "    return (np.mean(prec, axis=0), np.mean(t, axis=0))"
   ]
  },
  {
   "cell_type": "markdown",
   "metadata": {},
   "source": [
    "### Седьмой пункт: оценка точности методов при различных k и различной метрике."
   ]
  },
  {
   "cell_type": "code",
   "execution_count": 14,
   "metadata": {
    "collapsed": false
   },
   "outputs": [],
   "source": [
    "k = np.arange(1, 11)\n",
    "N = 3\n",
    "cross_val_mnist = generate_index(N, mnist_target_train.shape[0])"
   ]
  },
  {
   "cell_type": "code",
   "execution_count": 16,
   "metadata": {
    "collapsed": false
   },
   "outputs": [],
   "source": [
    "euclid_mnist = accuracy(mnist_train, mnist_target_train, k, \n",
    "         N, all_features_mnist, cross_val_mnist)"
   ]
  },
  {
   "cell_type": "code",
   "execution_count": 17,
   "metadata": {
    "collapsed": true
   },
   "outputs": [],
   "source": [
    "cosine_mnist = accuracy(mnist_train, mnist_target_train, k,\n",
    "                  N, all_features_mnist, cross_val_mnist, metric='cosine')"
   ]
  },
  {
   "cell_type": "code",
   "execution_count": 121,
   "metadata": {
    "collapsed": false
   },
   "outputs": [
    {
     "data": {
      "text/plain": [
       "(array([ 0.98975   ,  0.97678333,  0.97988333,  0.9759    ,  0.97526667,\n",
       "         0.97368333,  0.97293333,  0.97155   ,  0.97065   ,  0.96966667]),\n",
       " array([ 44.20737731,  44.59978496,  44.97660889,  48.44955752,\n",
       "         48.46381144,  48.56845146,  48.52353302,  48.3893688 ,\n",
       "         48.98393099,  48.93317988]))"
      ]
     },
     "execution_count": 121,
     "metadata": {},
     "output_type": "execute_result"
    }
   ],
   "source": [
    "euclid_mnist"
   ]
  },
  {
   "cell_type": "code",
   "execution_count": 122,
   "metadata": {
    "collapsed": false
   },
   "outputs": [
    {
     "data": {
      "text/plain": [
       "(array([ 0.99088333,  0.98115   ,  0.98233333,  0.98031667,  0.97916667,\n",
       "         0.97805   ,  0.97655   ,  0.9755    ,  0.97448333,  0.97341667]),\n",
       " array([ 52.04902747,  56.38391391,  55.40565296,  59.06126535,\n",
       "         60.18520035,  62.96733682,  65.69101677,  64.41453395,\n",
       "         60.2893135 ,  62.08593324]))"
      ]
     },
     "execution_count": 122,
     "metadata": {},
     "output_type": "execute_result"
    }
   ],
   "source": [
    "cosine_mnist"
   ]
  },
  {
   "cell_type": "markdown",
   "metadata": {
    "collapsed": true
   },
   "source": [
    "Для данного пункта был выбран __brute_algorithm__, так как время выполнения этого алгоритма практически не зависит от увеличения количества признаков. В данном пункте нужно было сравнить точность алгоритма ближайших соседей в зависимости от некоторых факторов:\n",
    "* выбор метрики (косинусная и евклидовая)  \n",
    "* количество соседей k от 1 до 10. \n",
    "\n",
    "Результаты экспериментов показали, что точность при __косинусной метрике выше__, чем при __евклидовой__. Также можно заметить, что количество соседей не так сильно влият на качество классификатора, откуда следует, что для определенных задач нужно экспериментально находить наилучшее количество соседей. В данной задаче __k = 1__ является оптимальным параметром."
   ]
  },
  {
   "cell_type": "markdown",
   "metadata": {
    "collapsed": true
   },
   "source": [
    "<center> <h4>Таблица работы алгоритмов (точность):"
   ]
  },
  {
   "cell_type": "markdown",
   "metadata": {},
   "source": [
    "|metric | k = 1 | k = 2 | k = 3 | k = 4 | k = 5 | k = 6 | k = 7 | k = 8 | k = 9 | k = 10 |\n",
    "|:-----:|:-----:|:-----:|:-----:|:-----:|:-----:|:-----:|:-----:|:-----:|:-----:|:------:|\n",
    "|euclid |0.989|0.976|0.979|0.976|0.975|0.973|0.972|0.972|0.970|0.969|\n",
    "|cosine |0.990|0.981|0.982|0.9803|0.9791|0.978| 0.976|0.975|0.974|0.973|"
   ]
  },
  {
   "cell_type": "markdown",
   "metadata": {},
   "source": [
    "Алгоритм ближайших соседей при __косинусной__ метрике работает __дольше__, чем при __евклидовой__:"
   ]
  },
  {
   "cell_type": "markdown",
   "metadata": {},
   "source": [
    "<center> <h4>Таблица работы алгоритмов (время выполнения):"
   ]
  },
  {
   "cell_type": "markdown",
   "metadata": {},
   "source": [
    "|metric | k = 1 | k = 2 | k = 3 | k = 4 | k = 5 | k = 6 | k = 7 | k = 8 | k = 9 | k = 10 |\n",
    "|:-----:|:-----:|:-----:|:-----:|:-----:|:-----:|:-----:|:-----:|:-----:|:-----:|:------:|\n",
    "|euclid |44.2s|44.6s|44.9s|48.4s|48.4s|48.5s|48.5s|48.3s|48.9s|48.9s|\n",
    "|cosine |52s|56.3s|55.4s|59s|60.1s|62.9s|65.6s|64.4s|60.2s|62s|"
   ]
  },
  {
   "cell_type": "markdown",
   "metadata": {},
   "source": [
    "### Восьмой пункт: "
   ]
  },
  {
   "cell_type": "markdown",
   "metadata": {},
   "source": [
    "Реализация алгоритма с весами:"
   ]
  },
  {
   "cell_type": "code",
   "execution_count": 18,
   "metadata": {
    "collapsed": false
   },
   "outputs": [],
   "source": [
    "def weight_brute(train, test, features, neighbor, eps, metrics='minkowski'):\n",
    "    nbrs = NearestNeighbors(n_neighbors=neighbor, algorithm='brute', \n",
    "                            metric=metrics).fit(train[:,features])\n",
    "    res = np.zeros((test.shape[0], neighbor), dtype='int32')\n",
    "    dis = np.zeros((test.shape[0], neighbor))\n",
    "    step = 500\n",
    "    size = test.shape[0] // step\n",
    "    for i in range(0, size):\n",
    "        left = i * step\n",
    "        right = (i + 1) * step\n",
    "        dis[left: right], res[left: right] = nbrs.kneighbors(test[left: right, features])\n",
    "        dis[left: right] = 1 / (dis[left: right] + eps)\n",
    "    if (test.shape[0] % step != 0):\n",
    "        left = size * step\n",
    "        right = test.shape[0]\n",
    "        dis[left: right], res[left: right] = nbrs.kneighbors(test[left: right, features])\n",
    "        dis[left: right] = 1 / (dis[left: right] + eps)\n",
    "    return (dis, res)"
   ]
  },
  {
   "cell_type": "markdown",
   "metadata": {},
   "source": [
    "Данная функция является модификацией функции __brite_algorithm__. Функция возвращает кортеж из ближайших соседей и весов для этих соседей. Веса $dis$ предлаегается считать по формуле:\n",
    "\n",
    "$$\n",
    "    dis = 1 / (distance + eps)\n",
    "$$\n",
    "\n",
    ", где $distance$ - расстояние между объектами, $eps$ - малое число."
   ]
  },
  {
   "cell_type": "code",
   "execution_count": 19,
   "metadata": {
    "collapsed": true
   },
   "outputs": [],
   "source": [
    "def num_class_weight(knn, target_train):\n",
    "    test_cnt = knn[1].shape[0]\n",
    "    neighbor = knn[1].shape[1]\n",
    "    near_neighbor = knn[1] # матрица ближайших соседей\n",
    "    dis = knn[0] # матрица весов\n",
    "    class_cnt = target_train.shape[0]\n",
    "    weight = np.zeros((test_cnt, class_cnt))\n",
    "    for i in range(test_cnt):\n",
    "        for j in range(neighbor):\n",
    "            weight[i][target_train[near_neighbor[i][j]]] += dis[i][j]\n",
    "    return np.argmax(weight, axis=1)"
   ]
  },
  {
   "cell_type": "markdown",
   "metadata": {},
   "source": [
    "Функция __num_class_weight__ находит класс для объекта по кортежу из ближайших соседей и их весов по формуле и из ответов на обучающей выборке:\n",
    "\n",
    "$$\n",
    "    res_i = argmax_{y\\in Y} \\sum_{j = 1}^{l} [train_{knn_{i,j}} = y] * weight_{i, j}\n",
    "$$\n",
    "\n",
    ", где $Y$ - множество всех классов, $train$ - ответы на обучающей выборке, $knn$ - матрица индексов ближайших соседей из обучающей выборки, $weight$ - веса, $l$ - количество соседей."
   ]
  },
  {
   "cell_type": "code",
   "execution_count": 20,
   "metadata": {
    "collapsed": true
   },
   "outputs": [],
   "source": [
    "#функция для алгоритмов с весами, возвращающая точность \n",
    "#при заданном количестве соседей и время выполнения\n",
    "def accuracy_weight(train, train_target, k, N, features, eps, cross_val, metric='minkowski'):\n",
    "    k_cnt = k.shape[0]\n",
    "    prec = np.zeros((N, k_cnt))\n",
    "    t = np.zeros((N, k_cnt))\n",
    "    for fold in range(N):\n",
    "        train_idx = cross_val[0][fold]\n",
    "        test_idx = cross_val[1][fold]\n",
    "        my_target = np.zeros(train[test_idx].shape[0])\n",
    "        for neighbor in range(k_cnt):\n",
    "            start = time.clock()\n",
    "            dis, knn = weight_brute(train[train_idx], train[test_idx], \n",
    "                                features, k[neighbor], eps, metrics=metric)\n",
    "            t[fold][neighbor] = time.clock() - start\n",
    "            knn = train_idx[knn]\n",
    "            my_target = num_class_weight((dis, knn), train_target)\n",
    "            prec[fold][neighbor] = precision(my_target, train_target[test_idx])\n",
    "    return (np.mean(prec, axis=0), np.mean(t, axis=0))"
   ]
  },
  {
   "cell_type": "code",
   "execution_count": 21,
   "metadata": {
    "collapsed": true
   },
   "outputs": [],
   "source": [
    "euclid_weight_mnist = accuracy_weight(mnist_train, mnist_target_train, \n",
    "                            k, N, all_features_mnist, 0.01, cross_val_mnist)"
   ]
  },
  {
   "cell_type": "code",
   "execution_count": 22,
   "metadata": {
    "collapsed": true
   },
   "outputs": [],
   "source": [
    "cosine_weight_mnist = accuracy_weight(mnist_train, mnist_target_train, \n",
    "                            k, N, all_features_mnist, 0.01, cross_val_mnist, metric='cosine')"
   ]
  },
  {
   "cell_type": "code",
   "execution_count": 80,
   "metadata": {
    "collapsed": false
   },
   "outputs": [
    {
     "data": {
      "text/plain": [
       "(array([ 0.98975   ,  0.98975   ,  0.99051667,  0.99068333,  0.98961667,\n",
       "         0.99003333,  0.98931667,  0.98956667,  0.98868333,  0.9887    ]),\n",
       " array([ 43.76388024,  44.44991465,  45.31172627,  48.83384237,\n",
       "         52.72570559,  54.58619858,  49.20270825,  48.89823697,\n",
       "         48.92474496,  48.98374282]))"
      ]
     },
     "execution_count": 80,
     "metadata": {},
     "output_type": "execute_result"
    }
   ],
   "source": [
    "euclid_weight_mnist"
   ]
  },
  {
   "cell_type": "code",
   "execution_count": 81,
   "metadata": {
    "collapsed": false
   },
   "outputs": [
    {
     "data": {
      "text/plain": [
       "(array([ 0.99088333,  0.99088333,  0.99145   ,  0.99175   ,  0.99108333,\n",
       "         0.9914    ,  0.99065   ,  0.99095   ,  0.99056667,  0.99041667]),\n",
       " array([ 50.76833824,  51.88875055,  52.68251172,  57.70069031,\n",
       "         57.22107422,  57.48450372,  57.25295999,  57.36884193,\n",
       "         57.0452928 ,  57.04908629]))"
      ]
     },
     "execution_count": 81,
     "metadata": {},
     "output_type": "execute_result"
    }
   ],
   "source": [
    "cosine_weight_mnist"
   ]
  },
  {
   "cell_type": "markdown",
   "metadata": {},
   "source": [
    "<center> <h4>Таблица работы алгоритмов при весах (точность):"
   ]
  },
  {
   "cell_type": "markdown",
   "metadata": {},
   "source": [
    "|metric | k = 1 | k = 2 | k = 3 | k = 4 | k = 5 | k = 6 | k = 7 | k = 8 | k = 9 | k = 10 |\n",
    "|:-----:|:-----:|:-----:|:-----:|:-----:|:-----:|:-----:|:-----:|:-----:|:-----:|:------:|\n",
    "|w_euclid |0.989|0.989|0.9905|0.9906|0.989|0.990|0.9893|0.9895|0.9886|0.9887|\n",
    "|w_cosine |0.9908|0.9908|0.9914|0.9917|0.9910|0.9914|0.9906|0.9909|0.9905|0.9904|"
   ]
  },
  {
   "cell_type": "markdown",
   "metadata": {},
   "source": [
    "<center> <h4>Таблица работы алгоритмов при весах (время выполнения):"
   ]
  },
  {
   "cell_type": "markdown",
   "metadata": {},
   "source": [
    "|metric | k = 1 | k = 2 | k = 3 | k = 4 | k = 5 | k = 6 | k = 7 | k = 8 | k = 9 | k = 10 |\n",
    "|:-----:|:-----:|:-----:|:-----:|:-----:|:-----:|:-----:|:-----:|:-----:|:-----:|:------:|\n",
    "|w_euclid |43.7s|44.4s|45.3s|48.8s|52.7s|54.5s|49.2s|48.8s|48.9s|48.9|\n",
    "|w_cosine |50.7s|51.8s|52.6s|57.7s|57.2s|57.4s|57.2s|57.3s|57s|57s|"
   ]
  },
  {
   "cell_type": "markdown",
   "metadata": {},
   "source": [
    "По данной таблице можно сделать вывод, что также как и без весов при __косинусной метрике__ алгоритм ближайших соседей работает __дольше__, чем при __евклидовой__. Также __евклидова метрика__ отстает по качеству от __косинусной__, показывая точность на __1% хуже__, чем при косинусной метрике. Также предлагается сравнить с классификатором без весов:"
   ]
  },
  {
   "cell_type": "markdown",
   "metadata": {},
   "source": [
    "|metric | k = 1 | k = 2 | k = 3 | k = 4 | k = 5 | k = 6 | k = 7 | k = 8 | k = 9 | k = 10 |\n",
    "|:-----:|:-----:|:-----:|:-----:|:-----:|:-----:|:-----:|:-----:|:-----:|:-----:|:------:|\n",
    "|w_euclid |0.989|0.989|0.9905|0.9906|0.989|0.990|0.9893|0.9895|0.9886|0.9887|\n",
    "|w_cosine |0.9908|0.9908|0.9914|0.9917|0.9910|0.9914|0.9906|0.9909|0.9905|0.9904|\n",
    "|euclid |0.989|0.976|0.979|0.976|0.975|0.973|0.972|0.972|0.970|0.969|\n",
    "|cosine |0.990|0.981|0.982|0.9803|0.9791|0.978| 0.976|0.975|0.974|0.973|"
   ]
  },
  {
   "cell_type": "markdown",
   "metadata": {},
   "source": [
    "При __k=1__ нет различий между алгоритмами с весами и без весов. А при увеличении количество соседей качество в алгоритме с весами __лучше__."
   ]
  },
  {
   "cell_type": "markdown",
   "metadata": {},
   "source": [
    "### Девятый пункт:"
   ]
  },
  {
   "cell_type": "markdown",
   "metadata": {},
   "source": [
    "По результатам экспериментов на кросс-валидации алгоритм ближайших соседей с __косинусной метрикой__ и с __4 соседями__ показывает наилучшую точность, поэтому запускаем этот алгоритм для тестовой и обучающей выборок."
   ]
  },
  {
   "cell_type": "code",
   "execution_count": 23,
   "metadata": {
    "collapsed": true
   },
   "outputs": [],
   "source": [
    "cos_weight_brute = weight_brute(mnist_train, mnist_test, \n",
    "                        all_features_mnist, 4, 0.01, metrics='cosine')"
   ]
  },
  {
   "cell_type": "code",
   "execution_count": 24,
   "metadata": {
    "collapsed": true
   },
   "outputs": [],
   "source": [
    "class_of_test = num_class_weight(cos_weight_brute, mnist_target_train)"
   ]
  },
  {
   "cell_type": "code",
   "execution_count": 25,
   "metadata": {
    "collapsed": true
   },
   "outputs": [],
   "source": [
    "prec_mnist = precision(class_of_test, mnist_target_test)"
   ]
  },
  {
   "cell_type": "code",
   "execution_count": 26,
   "metadata": {
    "collapsed": false
   },
   "outputs": [
    {
     "data": {
      "text/plain": [
       "97.519999999999996"
      ]
     },
     "execution_count": 26,
     "metadata": {},
     "output_type": "execute_result"
    }
   ],
   "source": [
    "prec_mnist * 100"
   ]
  },
  {
   "cell_type": "markdown",
   "metadata": {},
   "source": [
    "Итоговая точность - __97.5%__, однако при кросс-валидации точность была - __99.2%__. Сравнивая с наилучшими алгоритмами на данном датасете в Интернете можно сделать вывод, что алгоритм __k Nearest Neighbors__ - далеко не лучший по точности."
   ]
  },
  {
   "cell_type": "markdown",
   "metadata": {},
   "source": [
    "### Десятый пункт:"
   ]
  },
  {
   "cell_type": "markdown",
   "metadata": {},
   "source": [
    "Функция, показывающая объекты на которых были допущены ошибки:"
   ]
  },
  {
   "cell_type": "code",
   "execution_count": 188,
   "metadata": {
    "collapsed": false
   },
   "outputs": [],
   "source": [
    "def error(answer, test_target, test, class_cnt):\n",
    "    idx_of_error = np.where(answer != test_target)[0] #индексы, на которых были допущены ошибки\n",
    "    k = 1\n",
    "    new = test_target[idx_of_error]\n",
    "    for i in range(class_cnt):\n",
    "        index = np.where(new == i)[0][0]\n",
    "        plt.subplot(1, class_cnt, k)\n",
    "        plt.axis(\"off\")\n",
    "        print(answer[idx_of_error[index]])\n",
    "        plt.imshow(test[idx_of_error[index]].reshape(28, 28), \n",
    "                    cmap=\"Greys\")\n",
    "        k += 1"
   ]
  },
  {
   "cell_type": "code",
   "execution_count": 189,
   "metadata": {
    "collapsed": false
   },
   "outputs": [
    {
     "name": "stdout",
     "output_type": "stream",
     "text": [
      "7\n",
      "2\n",
      "7\n",
      "7\n",
      "9\n",
      "4\n",
      "0\n",
      "4\n",
      "0\n",
      "8\n"
     ]
    },
    {
     "data": {
      "image/png": "[encoded data removed]",
      "text/plain": [
       "<matplotlib.figure.Figure at 0xcb20e10>"
      ]
     },
     "metadata": {},
     "output_type": "display_data"
    }
   ],
   "source": [
    "error(class_of_test, mnist_target_test, mnist_test, 10)"
   ]
  },
  {
   "cell_type": "markdown",
   "metadata": {},
   "source": [
    "На основе работы функции можно сделать вывод, что классификатор ошибается на объектах, схожих по написанию или где четко не прорисованы линии цифры:\n",
    "* объект 0 он отнес к классу \"7\", так как в визуализации объекта отсутствует левая граница 0.\n",
    "* объект 2 отнес к классу \"7\", так как нижняя черта в визуализации объекта 2 отсутсвует.\n",
    "* объект 6 отнес к классу \"0\" и т.д."
   ]
  },
  {
   "cell_type": "code",
   "execution_count": 220,
   "metadata": {
    "collapsed": true
   },
   "outputs": [],
   "source": [
    "from sklearn.metrics import confusion_matrix"
   ]
  },
  {
   "cell_type": "code",
   "execution_count": 38,
   "metadata": {
    "collapsed": false
   },
   "outputs": [
    {
     "data": {
      "text/plain": [
       "array([[ 977,    1,    0,    0,    0,    0,    1,    1,    0,    0],\n",
       "       [   0, 1129,    3,    1,    0,    0,    2,    0,    0,    0],\n",
       "       [   8,    0, 1009,    1,    1,    0,    0,    8,    5,    0],\n",
       "       [   0,    1,    3,  976,    1,   12,    0,    4,    9,    4],\n",
       "       [   2,    1,    0,    0,  946,    0,    6,    2,    0,   25],\n",
       "       [   4,    0,    0,    9,    1,  863,    7,    1,    4,    3],\n",
       "       [   3,    3,    0,    0,    1,    3,  948,    0,    0,    0],\n",
       "       [   2,   10,    4,    0,    1,    0,    0,  998,    0,   13],\n",
       "       [   7,    1,    2,    9,    3,    3,    5,    4,  936,    4],\n",
       "       [   7,    7,    2,    5,    7,    3,    1,    4,    3,  970]])"
      ]
     },
     "execution_count": 38,
     "metadata": {},
     "output_type": "execute_result"
    }
   ],
   "source": [
    "confusion_matrix(mnist_target_test, class_of_test)"
   ]
  },
  {
   "cell_type": "markdown",
   "metadata": {},
   "source": [
    "Благодаря матрице ошибок можно сделать вывод, что наибольшее количесто раз классификатор ошибался на классе \"4\", выдавая ее за класс \"9\". Наибольшее количество правильно обработанных объектов находится в классе \"1\"."
   ]
  },
  {
   "cell_type": "markdown",
   "metadata": {},
   "source": [
    "### Одиннадцатый пункт: загрузка датасета 20 newsgroups"
   ]
  },
  {
   "cell_type": "code",
   "execution_count": 27,
   "metadata": {
    "collapsed": true
   },
   "outputs": [],
   "source": [
    "from sklearn.datasets import fetch_20newsgroups"
   ]
  },
  {
   "cell_type": "markdown",
   "metadata": {},
   "source": [
    "Загружаем объекты датасета:"
   ]
  },
  {
   "cell_type": "code",
   "execution_count": 28,
   "metadata": {
    "collapsed": false
   },
   "outputs": [],
   "source": [
    "newsgroups_train = fetch_20newsgroups(subset='train', remove=('headers', 'footers', 'quotes'))"
   ]
  },
  {
   "cell_type": "markdown",
   "metadata": {},
   "source": [
    "### Двенадцатый пункт:"
   ]
  },
  {
   "cell_type": "markdown",
   "metadata": {},
   "source": [
    "Перевод всех документов в нижний регистр:"
   ]
  },
  {
   "cell_type": "code",
   "execution_count": 29,
   "metadata": {
    "collapsed": false
   },
   "outputs": [],
   "source": [
    "newsgroups_train = list(map(lambda x: x.lower(), newsgroups_train.data))"
   ]
  },
  {
   "cell_type": "markdown",
   "metadata": {},
   "source": [
    "Замена всех символов, не являющихся буквами и цифрами на пробелы:"
   ]
  },
  {
   "cell_type": "code",
   "execution_count": 30,
   "metadata": {
    "collapsed": false
   },
   "outputs": [],
   "source": [
    "for i in range(len(newsgroups_train)):\n",
    "    s = ''.join(map(lambda x: [' ', x][x.isalnum()], \n",
    "                        list(newsgroups_train[i])))\n",
    "    newsgroups_train[i] = s"
   ]
  },
  {
   "cell_type": "markdown",
   "metadata": {},
   "source": [
    "### Тринадцатый пункт: разделение документов на слова."
   ]
  },
  {
   "cell_type": "code",
   "execution_count": 31,
   "metadata": {
    "collapsed": false
   },
   "outputs": [],
   "source": [
    "newsgroups_train = list(map(lambda x: x.split(), newsgroups_train))"
   ]
  },
  {
   "cell_type": "markdown",
   "metadata": {},
   "source": [
    "### Четырнадцатый пункт: преобразование датасета в разреженную матрицу."
   ]
  },
  {
   "cell_type": "code",
   "execution_count": 32,
   "metadata": {
    "collapsed": true
   },
   "outputs": [],
   "source": [
    "from scipy.sparse import csr_matrix"
   ]
  },
  {
   "cell_type": "markdown",
   "metadata": {},
   "source": [
    "Находим все слова из всех документов:"
   ]
  },
  {
   "cell_type": "code",
   "execution_count": 33,
   "metadata": {
    "collapsed": false
   },
   "outputs": [],
   "source": [
    "from collections import defaultdict\n",
    "import functools\n",
    "all_words_train = list(functools.reduce(lambda x, y: x + y, newsgroups_train))\n",
    "all_words_train = sorted(list(set(all_words_train)))"
   ]
  },
  {
   "cell_type": "markdown",
   "metadata": {},
   "source": [
    "Функция, которая принимает все слова из всех документов и сами документы и возвращает параметры для построения разреженной матрицы __csr_matrix__:\n",
    "* *data* - массив, который хранит ненулевые элементы.\n",
    "* *indices* - конкатенация массивов *no_null*, которые хранят индексы ненулевых элементов.\n",
    "* *indptr* - массив: indptr[i] = indptr[i - 1] + size(no_null)."
   ]
  },
  {
   "cell_type": "code",
   "execution_count": 38,
   "metadata": {
    "collapsed": false
   },
   "outputs": [],
   "source": [
    "def param_for_csr(all_words, document_words):\n",
    "    size_of_data = 0\n",
    "    dictionary = defaultdict(int)\n",
    "    for document in document_words:\n",
    "        for word in document:\n",
    "            dictionary[word] += 1\n",
    "        for value in dictionary.values():\n",
    "            size_of_data += 1\n",
    "        dictionary.clear()\n",
    "    data = np.zeros(size_of_data, dtype='int32')\n",
    "    indices = np.zeros(size_of_data, dtype='int32')\n",
    "    indptr = np.zeros(len(document_words) + 1, dtype='int32')\n",
    "    k = 0\n",
    "    l = 1\n",
    "    for document in document_words:\n",
    "        for word in all_words:\n",
    "            dictionary[word]\n",
    "        for word in document:\n",
    "            dictionary[word] += 1\n",
    "        dic = sorted(dictionary.items())\n",
    "        dic = np.asarray(dic)[:,1].astype('int32')\n",
    "        no_null = np.where(dic != 0)[0]\n",
    "        indptr[l] = indptr[l - 1] + no_null.size\n",
    "        l += 1\n",
    "        for i in no_null:\n",
    "            data[k] = dic[i]\n",
    "            indices[k] = i\n",
    "            k += 1\n",
    "        dictionary.clear()\n",
    "    return (data, indices, indptr)"
   ]
  },
  {
   "cell_type": "markdown",
   "metadata": {},
   "source": [
    "Создается __csr_matrix__, так как в данном датасете матрица \"объект-признак\" имеет большую размерность и вследствие чего происходило бы переполнение по памяти.   "
   ]
  },
  {
   "cell_type": "code",
   "execution_count": 46,
   "metadata": {
    "collapsed": false
   },
   "outputs": [
    {
     "name": "stdout",
     "output_type": "stream",
     "text": [
      "4413.6244471910795\n"
     ]
    }
   ],
   "source": [
    "start = time.clock()\n",
    "param_csr = param_for_csr(all_words_train, newsgroups_train)\n",
    "print(time.clock() - start)"
   ]
  },
  {
   "cell_type": "code",
   "execution_count": 47,
   "metadata": {
    "collapsed": false
   },
   "outputs": [],
   "source": [
    "CSR = csr_matrix(param_csr)"
   ]
  },
  {
   "cell_type": "code",
   "execution_count": 57,
   "metadata": {
    "collapsed": false
   },
   "outputs": [
    {
     "data": {
      "text/plain": [
       "<11314x98749 sparse matrix of type '<class 'numpy.int32'>'\n",
       "\twith 1147082 stored elements in Compressed Sparse Row format>"
      ]
     },
     "execution_count": 57,
     "metadata": {},
     "output_type": "execute_result"
    }
   ],
   "source": [
    "CSR"
   ]
  },
  {
   "cell_type": "markdown",
   "metadata": {},
   "source": [
    ", где $CSR_{i, j}$ - количество слов j в i-ом документе."
   ]
  },
  {
   "cell_type": "markdown",
   "metadata": {},
   "source": [
    "### Пятнадцатый пункт: tf-idf преобразование."
   ]
  },
  {
   "cell_type": "code",
   "execution_count": 49,
   "metadata": {
    "collapsed": true
   },
   "outputs": [],
   "source": [
    "from sklearn.feature_extraction.text import TfidfTransformer\n",
    "tf_idf = TfidfTransformer()"
   ]
  },
  {
   "cell_type": "code",
   "execution_count": 50,
   "metadata": {
    "collapsed": false
   },
   "outputs": [
    {
     "data": {
      "text/plain": [
       "TfidfTransformer(norm='l2', smooth_idf=True, sublinear_tf=False, use_idf=True)"
      ]
     },
     "execution_count": 50,
     "metadata": {},
     "output_type": "execute_result"
    }
   ],
   "source": [
    "tf_idf.fit(CSR)"
   ]
  },
  {
   "cell_type": "code",
   "execution_count": 51,
   "metadata": {
    "collapsed": true
   },
   "outputs": [],
   "source": [
    "CSR_tf_idf = tf_idf.transform(CSR)"
   ]
  },
  {
   "cell_type": "code",
   "execution_count": 58,
   "metadata": {
    "collapsed": false
   },
   "outputs": [
    {
     "data": {
      "text/plain": [
       "<11314x98749 sparse matrix of type '<class 'numpy.float64'>'\n",
       "\twith 1147082 stored elements in Compressed Sparse Row format>"
      ]
     },
     "execution_count": 58,
     "metadata": {},
     "output_type": "execute_result"
    }
   ],
   "source": [
    "CSR_tf_idf"
   ]
  },
  {
   "cell_type": "markdown",
   "metadata": {},
   "source": [
    "Было сделано tf-idf преобразование датасета, которое показывает важность слова в данном документе. Были использованы параметры по умолчанию. Предполагается, что благодаря этому преобразованию __качество__ классификатора __улучшится__."
   ]
  },
  {
   "cell_type": "markdown",
   "metadata": {},
   "source": [
    "### Шестнадцатый пункт:"
   ]
  },
  {
   "cell_type": "markdown",
   "metadata": {},
   "source": [
    "Генерируем индексы для кросс-валидации с помощью функции из 5 пункта."
   ]
  },
  {
   "cell_type": "code",
   "execution_count": 59,
   "metadata": {
    "collapsed": false
   },
   "outputs": [],
   "source": [
    "cross_val_doc = generate_index(3, CSR.shape[0])"
   ]
  },
  {
   "cell_type": "code",
   "execution_count": 60,
   "metadata": {
    "collapsed": true
   },
   "outputs": [],
   "source": [
    "newsgroups_train_target = fetch_20newsgroups(subset='train', \n",
    "                            remove=('headers', 'footers', 'quotes')).target"
   ]
  },
  {
   "cell_type": "code",
   "execution_count": 62,
   "metadata": {
    "collapsed": true
   },
   "outputs": [],
   "source": [
    "all_features_doc = np.arange(CSR.shape[1])"
   ]
  },
  {
   "cell_type": "code",
   "execution_count": 72,
   "metadata": {
    "collapsed": false
   },
   "outputs": [],
   "source": [
    "euclid_doc = accuracy(CSR, newsgroups_train_target, \n",
    "                            k, N, all_features_doc, cross_val_doc)"
   ]
  },
  {
   "cell_type": "code",
   "execution_count": 73,
   "metadata": {
    "collapsed": true
   },
   "outputs": [],
   "source": [
    "cosine_doc = accuracy(CSR, newsgroups_train_target, k, \n",
    "                    N, all_features_doc, cross_val_doc, metric='cosine')"
   ]
  },
  {
   "cell_type": "code",
   "execution_count": 76,
   "metadata": {
    "collapsed": true
   },
   "outputs": [],
   "source": [
    "euclid_doc_tf_idf = accuracy(CSR_tf_idf, newsgroups_train_target, k, \n",
    "                    N, all_features_doc, cross_val_doc)"
   ]
  },
  {
   "cell_type": "code",
   "execution_count": 77,
   "metadata": {
    "collapsed": true
   },
   "outputs": [],
   "source": [
    "cosine_doc_tf_idf = accuracy(CSR_tf_idf, newsgroups_train_target, k, \n",
    "                    N, all_features_doc, cross_val_doc, metric='cosine')"
   ]
  },
  {
   "cell_type": "code",
   "execution_count": 74,
   "metadata": {
    "collapsed": false
   },
   "outputs": [
    {
     "data": {
      "text/plain": [
       "(array([ 0.7211173 ,  0.46291877,  0.39070096,  0.3713427 ,  0.36091222,\n",
       "         0.34809511,  0.33695748,  0.3309467 ,  0.32440555,  0.31689207]),\n",
       " array([ 2.19142976,  2.19811643,  2.21393082,  2.36384653,  2.37970066,\n",
       "         2.34943761,  2.39878851,  2.87642661,  2.82023863,  2.36087361]))"
      ]
     },
     "execution_count": 74,
     "metadata": {},
     "output_type": "execute_result"
    }
   ],
   "source": [
    "euclid_doc"
   ]
  },
  {
   "cell_type": "code",
   "execution_count": 75,
   "metadata": {
    "collapsed": false
   },
   "outputs": [
    {
     "data": {
      "text/plain": [
       "(array([ 0.74286219,  0.57314594,  0.4970388 ,  0.4464775 ,  0.41412534,\n",
       "         0.39573941,  0.37770706,  0.36603907,  0.36091222,  0.35065853]),\n",
       " array([ 2.1343087 ,  2.15578444,  2.17951347,  2.3685273 ,  2.45249676,\n",
       "         2.39991739,  2.36687577,  2.36496922,  2.36947328,  2.37194801]))"
      ]
     },
     "execution_count": 75,
     "metadata": {},
     "output_type": "execute_result"
    }
   ],
   "source": [
    "cosine_doc"
   ]
  },
  {
   "cell_type": "code",
   "execution_count": 78,
   "metadata": {
    "collapsed": false
   },
   "outputs": [
    {
     "data": {
      "text/plain": [
       "(array([ 0.70202422,  0.37744188,  0.28100415,  0.2962079 ,  0.27419783,\n",
       "         0.25501635,  0.24202245,  0.22734907,  0.21912844,  0.20931672]),\n",
       " array([ 2.34546121,  2.37567966,  2.3669438 ,  2.54118291,  2.59984575,\n",
       "         2.6422005 ,  2.67724039,  2.61211601,  2.64778593,  2.6951641 ]))"
      ]
     },
     "execution_count": 78,
     "metadata": {},
     "output_type": "execute_result"
    }
   ],
   "source": [
    "euclid_doc_tf_idf"
   ]
  },
  {
   "cell_type": "code",
   "execution_count": 79,
   "metadata": {
    "collapsed": false
   },
   "outputs": [
    {
     "data": {
      "text/plain": [
       "(array([ 0.84478034,  0.72703969,  0.69433395,  0.67683196,  0.66339609,\n",
       "         0.65437992,  0.64527535,  0.6373199 ,  0.62724299,  0.61981791]),\n",
       " array([ 2.28395137,  2.29857267,  2.30367992,  2.49086984,  2.51364724,\n",
       "         2.48056509,  2.51531259,  2.51399147,  2.498755  ,  2.53571525]))"
      ]
     },
     "execution_count": 79,
     "metadata": {},
     "output_type": "execute_result"
    }
   ],
   "source": [
    "cosine_doc_tf_idf"
   ]
  },
  {
   "cell_type": "markdown",
   "metadata": {},
   "source": [
    "<center> <h4>Таблица работы алгоритмов (точность):"
   ]
  },
  {
   "cell_type": "markdown",
   "metadata": {},
   "source": [
    "|metric | k = 1 | k = 2 | k = 3 | k = 4 | k = 5 | k = 6 | k = 7 | k = 8 | k = 9 | k = 10 |\n",
    "|:-----:|:-----:|:-----:|:-----:|:-----:|:-----:|:-----:|:-----:|:-----:|:-----:|:------:|\n",
    "|euclid |0.721|0.462|0.39|0.371|0.36|0.348|0.337|0.33|0.324|0.317|\n",
    "|cosine |0.743|0.573|0.497|0.446|0.414|0.396|0.378| 0.366|0.36|0.35|\n",
    "|euclid_tf_idf |0.7|0.377|0.281|0.296|0.274|0.255|0.242|0.227|0.219|0.209|\n",
    "|cosine_tf_idf |0.8447|0.727|0.694|0.677|0.663|0.654|0.645|0.637|0.627|0.62|"
   ]
  },
  {
   "cell_type": "markdown",
   "metadata": {},
   "source": [
    "По этой таблице можно сделать вывод, что при увеличении количества соседей ухудшается качество классификатора. Также, как и в случае с датасетом *Mnist*: __косинусная__ метрика __лучше__, чем __евклидова__. __Tf_idf__ преобразование __ухудшает__ качество при __евклидовой метрике__, но заметно __улучшает__ для __косинусной метрики__. Все алгоритмы работают работают одинаково по времени."
   ]
  },
  {
   "cell_type": "code",
   "execution_count": 95,
   "metadata": {
    "collapsed": false
   },
   "outputs": [],
   "source": [
    "euclid_doc_weight = accuracy_weight(CSR, newsgroups_train_target, k, \n",
    "                    N, all_features_doc, 0.01, cross_val_doc)"
   ]
  },
  {
   "cell_type": "code",
   "execution_count": 96,
   "metadata": {
    "collapsed": false
   },
   "outputs": [],
   "source": [
    "cosine_doc_weight = accuracy_weight(CSR, newsgroups_train_target, k, \n",
    "                    N, all_features_doc, 0.01, cross_val_doc, metric='cosine')"
   ]
  },
  {
   "cell_type": "code",
   "execution_count": 97,
   "metadata": {
    "collapsed": false
   },
   "outputs": [],
   "source": [
    "euclid_doc_weight_tf_idf = accuracy_weight(CSR_tf_idf, newsgroups_train_target, k, \n",
    "                            N, all_features_doc, 0.01, cross_val_doc)"
   ]
  },
  {
   "cell_type": "code",
   "execution_count": 98,
   "metadata": {
    "collapsed": true
   },
   "outputs": [],
   "source": [
    "cosine_doc_weight_tf_idf = accuracy_weight(CSR_tf_idf, newsgroups_train_target, k, \n",
    "                            N, all_features_doc, 0.01, cross_val_doc, metric='cosine')"
   ]
  },
  {
   "cell_type": "code",
   "execution_count": 99,
   "metadata": {
    "collapsed": false
   },
   "outputs": [
    {
     "data": {
      "text/plain": [
       "(array([ 0.7211173 ,  0.72076372,  0.72032175,  0.72023336,  0.72032175,\n",
       "         0.72076372,  0.72244321,  0.72058694,  0.72129409,  0.7210289 ]),\n",
       " array([ 2.28206956,  2.31056752,  2.34065227,  2.46420146,  2.4623982 ,\n",
       "         2.45827022,  2.43533545,  2.44652184,  2.46401145,  2.47525731]))"
      ]
     },
     "execution_count": 99,
     "metadata": {},
     "output_type": "execute_result"
    }
   ],
   "source": [
    "euclid_doc_weight"
   ]
  },
  {
   "cell_type": "code",
   "execution_count": 100,
   "metadata": {
    "collapsed": false
   },
   "outputs": [
    {
     "data": {
      "text/plain": [
       "(array([ 0.74286219,  0.74242022,  0.74215504,  0.74197826,  0.7399452 ,\n",
       "         0.73826571,  0.73879608,  0.73897286,  0.7384425 ,  0.73729338]),\n",
       " array([ 2.49826905,  2.52647713,  2.61878808,  2.82585182,  2.7498566 ,\n",
       "         3.11624301,  3.27936218,  3.10725121,  2.83260178,  2.95845727]))"
      ]
     },
     "execution_count": 100,
     "metadata": {},
     "output_type": "execute_result"
    }
   ],
   "source": [
    "cosine_doc_weight"
   ]
  },
  {
   "cell_type": "code",
   "execution_count": 101,
   "metadata": {
    "collapsed": false
   },
   "outputs": [
    {
     "data": {
      "text/plain": [
       "(array([ 0.70202422,  0.70202422,  0.7008751 ,  0.70052152,  0.69884204,\n",
       "         0.69610183,  0.69521789,  0.69132856,  0.69150535,  0.69017944]),\n",
       " array([ 2.88126949,  3.15542706,  2.83893633,  2.91384885,  3.20270759,\n",
       "         2.95413652,  2.53794537,  2.52225572,  2.55219007,  2.53717112]))"
      ]
     },
     "execution_count": 101,
     "metadata": {},
     "output_type": "execute_result"
    }
   ],
   "source": [
    "euclid_doc_weight_tf_idf"
   ]
  },
  {
   "cell_type": "code",
   "execution_count": 102,
   "metadata": {
    "collapsed": false
   },
   "outputs": [
    {
     "data": {
      "text/plain": [
       "(array([ 0.84478034,  0.84433837,  0.84318925,  0.84283568,  0.84221692,\n",
       "         0.84089101,  0.83912313,  0.83797401,  0.83832759,  0.83576417]),\n",
       " array([ 2.28313857,  2.35169102,  2.39799597,  2.7077245 ,  2.71314058,\n",
       "         2.63998038,  2.62859965,  2.5534908 ,  2.61349398,  2.63525645]))"
      ]
     },
     "execution_count": 102,
     "metadata": {},
     "output_type": "execute_result"
    }
   ],
   "source": [
    "cosine_doc_weight_tf_idf"
   ]
  },
  {
   "cell_type": "markdown",
   "metadata": {},
   "source": [
    "<center> <h4>Таблица работы алгоритмов (точность):"
   ]
  },
  {
   "cell_type": "markdown",
   "metadata": {},
   "source": [
    "|metric | k = 1 | k = 2 | k = 3 | k = 4 | k = 5 | k = 6 | k = 7 | k = 8 | k = 9 | k = 10 |\n",
    "|:-----:|:-----:|:-----:|:-----:|:-----:|:-----:|:-----:|:-----:|:-----:|:-----:|:------:|\n",
    "|euclid_w|0.721|0.7207|0.7203|0.7202|0.7203|0.7207|0.722|0.7205|0.7212|0.721|\n",
    "|cosine_w|0.7429|0.7424|0.7422|0.742|0.74|0.738|0.739|0.7389|0.7384|0.7373|\n",
    "|euclid_tf_idf_w|0.702|0.702|0.7008|0.7005|0.699|0.696|0.695|0.691|0.6915|0.69|\n",
    "|cosine_tf_idf_w|0.8447|0.8443|0.8431|0.8428|0.8422|0.8409|0.8391|0.8379|0.8383|0.8357|"
   ]
  },
  {
   "cell_type": "markdown",
   "metadata": {},
   "source": [
    "Алгоритм с __косинусной метрикой__ с весами с __tf-idf__ преобразованием. Самым оптимальным алгоритмом является алгоритм при одном соседе с __косинусной метрикой__ с весами и __tf-idf__ преобразованием."
   ]
  },
  {
   "cell_type": "markdown",
   "metadata": {},
   "source": [
    "### Семнадцатый пункт:"
   ]
  },
  {
   "cell_type": "markdown",
   "metadata": {},
   "source": [
    "Загружаем тестовую выборку, ответы на тестовой выборке, преобразуем всё в разреженную матрицу."
   ]
  },
  {
   "cell_type": "code",
   "execution_count": 125,
   "metadata": {
    "collapsed": true
   },
   "outputs": [],
   "source": [
    "newsgroups_test = fetch_20newsgroups(subset='test', \n",
    "                            remove=('headers', 'footers', 'quotes'))\n",
    "\n",
    "newsgroups_test_target = fetch_20newsgroups(subset='test', \n",
    "                            remove=('headers', 'footers', 'quotes')).target\n",
    "\n",
    "newsgroups_test = list(map(lambda x: x.lower(), newsgroups_test.data))\n",
    "\n",
    "for i in range(len(newsgroups_test)):\n",
    "    s = ''.join(map(lambda x: [' ', x][x.isalnum()], \n",
    "                        list(newsgroups_test[i])))\n",
    "    newsgroups_test[i] = s\n",
    "\n",
    "newsgroups_test = list(map(lambda x: x.split(), newsgroups_test))\n",
    "\n",
    "all_words_test = list(functools.reduce(lambda x, y: x + y, newsgroups_test))\n",
    "all_words_test = sorted(list(set(all_words_test)))"
   ]
  },
  {
   "cell_type": "code",
   "execution_count": 126,
   "metadata": {
    "collapsed": true
   },
   "outputs": [],
   "source": [
    "all_words = list(functools.reduce(lambda x, y: x + y, [all_words_train, all_words_test]))\n",
    "all_words = sorted(list(set(all_words)))"
   ]
  },
  {
   "cell_type": "code",
   "execution_count": 145,
   "metadata": {
    "collapsed": false
   },
   "outputs": [
    {
     "name": "stdout",
     "output_type": "stream",
     "text": [
      "11800.424427374237\n"
     ]
    }
   ],
   "source": [
    "start = time.clock()\n",
    "param_train = param_for_csr(all_words, newsgroups_train)\n",
    "print(time.clock() - start)"
   ]
  },
  {
   "cell_type": "code",
   "execution_count": 142,
   "metadata": {
    "collapsed": false,
    "scrolled": true
   },
   "outputs": [
    {
     "name": "stdout",
     "output_type": "stream",
     "text": [
      "8035.360963745843\n"
     ]
    }
   ],
   "source": [
    "start = time.clock()\n",
    "param_test = param_for_csr(all_words, newsgroups_test)\n",
    "print(time.clock() - start)"
   ]
  },
  {
   "cell_type": "markdown",
   "metadata": {},
   "source": [
    "Так как количество термов в обучающей и тестовой выборке __отличаются__ передаем параметр shape=(M, N):"
   ]
  },
  {
   "cell_type": "code",
   "execution_count": 175,
   "metadata": {
    "collapsed": true
   },
   "outputs": [],
   "source": [
    "M_train = len(newsgroups_train)\n",
    "N_train = len(all_words)\n",
    "CSR_train = csr_matrix(param_train, shape=(M_train, N_train))"
   ]
  },
  {
   "cell_type": "code",
   "execution_count": 177,
   "metadata": {
    "collapsed": true
   },
   "outputs": [],
   "source": [
    "M_test = len(newsgroups_test)\n",
    "N_test = len(all_words)\n",
    "CSR_test = csr_matrix(param_test, shape=(M_test, N_test))"
   ]
  },
  {
   "cell_type": "code",
   "execution_count": 178,
   "metadata": {
    "collapsed": false
   },
   "outputs": [
    {
     "data": {
      "text/plain": [
       "<11314x130098 sparse matrix of type '<class 'numpy.int32'>'\n",
       "\twith 1147082 stored elements in Compressed Sparse Row format>"
      ]
     },
     "execution_count": 178,
     "metadata": {},
     "output_type": "execute_result"
    }
   ],
   "source": [
    "CSR_train "
   ]
  },
  {
   "cell_type": "code",
   "execution_count": 179,
   "metadata": {
    "collapsed": false
   },
   "outputs": [
    {
     "data": {
      "text/plain": [
       "<7532x130098 sparse matrix of type '<class 'numpy.int32'>'\n",
       "\twith 731378 stored elements in Compressed Sparse Row format>"
      ]
     },
     "execution_count": 179,
     "metadata": {},
     "output_type": "execute_result"
    }
   ],
   "source": [
    "CSR_test"
   ]
  },
  {
   "cell_type": "markdown",
   "metadata": {},
   "source": [
    "__Tf-idf__ преобразование разреженной матрицы:"
   ]
  },
  {
   "cell_type": "code",
   "execution_count": 180,
   "metadata": {
    "collapsed": true
   },
   "outputs": [],
   "source": [
    "tf_idf = TfidfTransformer()\n",
    "tf_idf.fit(CSR_train)\n",
    "CSR_train_tf_idf = tf_idf.transform(CSR_train)"
   ]
  },
  {
   "cell_type": "code",
   "execution_count": 181,
   "metadata": {
    "collapsed": true
   },
   "outputs": [],
   "source": [
    "tf_idf = TfidfTransformer()\n",
    "tf_idf.fit(CSR_test)\n",
    "CSR_test_tf_idf = tf_idf.transform(CSR_test)"
   ]
  },
  {
   "cell_type": "markdown",
   "metadata": {},
   "source": [
    "Применяем лучший алгоритм с кросс-валидации:"
   ]
  },
  {
   "cell_type": "code",
   "execution_count": 182,
   "metadata": {
    "collapsed": true
   },
   "outputs": [],
   "source": [
    "all_features_doc = np.arange(len(all_words))\n",
    "cos_weight_brute_doc = weight_brute(CSR_train_tf_idf, CSR_test_tf_idf, \n",
    "                        all_features_doc, 1, 0.01, metrics='cosine')"
   ]
  },
  {
   "cell_type": "code",
   "execution_count": 185,
   "metadata": {
    "collapsed": false
   },
   "outputs": [],
   "source": [
    "class_of_test_doc = num_class_weight(cos_weight_brute_doc, \n",
    "                                     newsgroups_train_target)"
   ]
  },
  {
   "cell_type": "code",
   "execution_count": 186,
   "metadata": {
    "collapsed": true
   },
   "outputs": [],
   "source": [
    "prec_doc = precision(class_of_test_doc, newsgroups_test_target)"
   ]
  },
  {
   "cell_type": "code",
   "execution_count": 187,
   "metadata": {
    "collapsed": false
   },
   "outputs": [
    {
     "data": {
      "text/plain": [
       "0.50092936802973975"
      ]
     },
     "execution_count": 187,
     "metadata": {},
     "output_type": "execute_result"
    }
   ],
   "source": [
    "prec_doc"
   ]
  },
  {
   "cell_type": "markdown",
   "metadata": {},
   "source": [
    "Итоговая точность оказалась на __30%__ хуже, чем при кросс-валидации."
   ]
  },
  {
   "cell_type": "markdown",
   "metadata": {},
   "source": [
    "### Восемнадцатый пункт:"
   ]
  },
  {
   "cell_type": "markdown",
   "metadata": {},
   "source": [
    "Перепишем функцию визуализации ошибок:"
   ]
  },
  {
   "cell_type": "code",
   "execution_count": 215,
   "metadata": {
    "collapsed": true
   },
   "outputs": [],
   "source": [
    "def error_doc(answer, test_target, test, class_cnt, target_names):\n",
    "    idx_of_error = np.where(answer != test_target)[0] #индексы, на которых были допущены ошибки\n",
    "    k = 1\n",
    "    new = test_target[idx_of_error]\n",
    "    print(idx_of_error)\n",
    "    for i in range(class_cnt):\n",
    "        index = np.where(new == i)[0][0]\n",
    "        print(target_names[answer[idx_of_error[index]]], \":\")\n",
    "        print(test[idx_of_error[index]])\n",
    "        k += 1"
   ]
  },
  {
   "cell_type": "markdown",
   "metadata": {},
   "source": [
    "Визуализация объектов, на которых были допущены ошибки:"
   ]
  },
  {
   "cell_type": "code",
   "execution_count": 216,
   "metadata": {
    "collapsed": false
   },
   "outputs": [],
   "source": [
    "class_cnt = max(newsgroups_test_target) + 1\n",
    "target_names_doc = fetch_20newsgroups(subset='train')\n",
    "target_names_doc = target_names_doc.target_names"
   ]
  },
  {
   "cell_type": "markdown",
   "metadata": {},
   "source": [
    "Наименования классов:"
   ]
  },
  {
   "cell_type": "markdown",
   "metadata": {},
   "source": [
    "target_names_doc"
   ]
  },
  {
   "cell_type": "code",
   "execution_count": 217,
   "metadata": {
    "collapsed": false
   },
   "outputs": [
    {
     "name": "stdout",
     "output_type": "stream",
     "text": [
      "[   0    2    4 ..., 7527 7529 7530]\n",
      "talk.politics.mideast :\n",
      "['in', 'a', 'word', 'yes']\n",
      "talk.politics.misc :\n",
      "['this', 'is', 'an', 'invitation', 'to', 'send', 'articles', 'to', 'the', 'informatica', 'magazine', 'the', 'first', 'fully', 'international', 'issue', 'has', 'been', 'published', 'and', 'echoes', 'are', 'quite', 'favourable', 'for', 'any', 'information', 'contact', 'matjaz', 'gams', 'ijs', 'si', 'dear', 'colleague', 'april', '25', '1993', 'number', '1', 'of', 'volume', '17', 'of', 'informatica', 'is', 'now', 'out', 'of', 'print', 'and', 'some', 'of', 'you', 'will', 'receive', 'it', 'in', 'a', 'week', 'or', 'so', 'as', 'you', 'will', 'see', 'the', 'journal', 'is', 'structured', 'in', 'the', 'following', 'way', 'the', 'editorial', 'first', 'page', 'profiles', 'second', 'page', 'biography', 'of', 'an', 'editor', 'in', 'this', 'issue', 'terry', 'winograd', 'the', 'edited', 'part', 'of', 'papers', 'pp', '3', '80', 'mission', 'and', 'research', 'reports', 'a', 'plan', 'for', 'knowledge', 'archives', 'project', 'in', 'japan', 'and', 'csli', 'in', 'stanford', 'pp', '81', '100', 'and', 'news', 'and', 'announcements', 'pp', '101', '108', 'this', 'structure', 'is', 'mentioned', 'to', 'give', 'you', 'a', 'suggestion', 'how', 'could', 'you', 'help', 'to', 'make', 'the', 'contents', 'of', 'the', 'journal', 'significant', 'diverse', 'and', 'interesting', 'bringing', 'your', 'own', 'views', 'into', 'the', 'discourse', 'a', 'great', 'emphasis', 'is', 'given', 'to', 'the', 'so', 'called', 'editorial', 'page', 'this', 'page', 'expresses', 'an', 'opinion', 'belief', 'of', 'the', 'writing', 'editor', 'to', 'some', 'problems', 'within', 'the', 'scope', 'of', 'computing', 'and', 'informatics', 'extending', 'into', 'other', 'concerning', 'disciplines', 'e', 'g', 'cybernetics', 'advanced', 'ai', 'cognitive', 'sciences', 'mind', 'informationally', 'concerned', 'neural', 'sciences', 'advanced', 'technology', 'e', 'g', 'photonics', 'etc', 'i', 'asked', 'professor', 'terry', 'winograd', 'to', 'write', 'this', 'page', 'for', 'number', '2', 'i', 'certainly', 'would', 'appreciate', 'very', 'much', 'to', 'get', 'suggestions', 'or', 'possible', 'offers', 'from', 'other', 'editors', 'who', 'like', 'to', 'express', 'their', 'strong', 'directed', 'beliefs', 'concerning', 'a', 'future', 'development', 'of', 'the', 'area', 'in', 'question', 'on', 'the', 'second', 'page', 'of', 'each', 'number', 'an', 'editor', 's', 'profile', 'is', 'published', 'the', 'aim', 'of', 'the', 'profile', 'is', 'twofold', 'to', 'show', 'his', 'her', 'professional', 'achievements', 'interests', 'scientific', 'and', 'philosophical', 'orientation', 'on', 'one', 'side', 'to', 'narrate', 'his', 'her', 'life', 'story', 'in', 'the', 'environments', 'in', 'which', 'editors', 'has', 'lived', 'and', 'live', 'on', 'the', 'other', 'side', 'this', 'kind', 'of', 'story', 'should', 'be', 'instructive', 'adequately', 'factically', 'faced', 'contributing', 'to', 'the', 'understanding', 'of', 'circumstances', 'in', 'which', 'editors', 'have', 'to', 'act', 'and', 'live', 'the', 'edited', 'part', 'edited', 'papers', 'is', 'still', 'critical', 'i', 'would', 'like', 'to', 'have', 'a', 'stock', 'of', 'accepted', 'papers', 'in', 'advance', 'so', 'the', 'issuing', 'dates', 'of', 'a', 'particular', 'number', 'can', 'be', 'fixed', 'e', 'g', 'january', 'april', 'july', 'and', 'october', 'in', 'situation', 'right', 'now', 'i', 'ask', 'you', 'to', 'help', 'me', 'with', 'contributions', 'of', 'yours', 'or', 'your', 'colleagues', 'collaborators', 'students', 'etc', 'some', 'critical', 'views', 'to', 'the', 'contemporary', 'development', 'of', 'computing', 'and', 'informatics', 'are', 'appreciated', 'a', 'special', 'emphasis', 'should', 'be', 'given', 'also', 'to', 'originality', 'by', 'which', 'fresh', 'ideas', 'are', 'coming', 'into', 'the', 'circulation', 'of', 'different', 'professional', 'communities', 'reports', 'of', 'different', 'occasions', 'symposia', 'conferences', 'meetings', 'etc', 'and', 'particularly', 'on', 'new', 'books', 'papers', 'and', 'interesting', 'events', 'are', 'welcome', 'you', 'can', 'send', 'these', 'news', 'immediately', 'also', 'by', 'your', 'secretary', 'by', 'e', 'mail', 'on', 'the', 'other', 'hand', 'you', 'can', 'send', 'books', 'and', 'other', 'publications', 'annual', 'reports', 'journals', 'calls', 'for', 'papers', 'etc', 'for', 'reviewing', 'and', 'publishing', 'in', 'informatica', 'we', 'in', 'the', 'editorial', 'staff', 'will', 'manage', 'the', 'rest', 'e', 'mail', 'is', 'functioning', 'satisfactorily', 'so', 'please', 'use', 'it', 'in', 'every', 'respect', 'you', 'can', 'submit', 'editorial', 'notes', 'profiles', 'reports', 'news', 'and', 'even', 'complete', 'papers', 'written', 'in', 'standard', 'latex', 'format', 'especially', 'formulas', 'we', 'received', 'several', 'final', 'corrected', 'texts', 'in', 'number', '1', 'from', 'different', 'sites', 'us', 'russia', 'etc', 'in', 'this', 'way', 'you', 'can', 'compose', 'reports', 'from', 'already', 'typed', 'texts', 'using', 'your', 'own', 'choice', 'and', 'editing', 'and', 'submit', 'them', 'to', 'the', 'contact', 'person', 'matjaz', 'gams', 'ijs', 'si', 'who', 'is', 'always', 'being', 'on', 'your', 'disposal', 'so', 'you', 'will', 'receive', 'a', 'prompt', 'confirmation', 'and', 'any', 'information', 'concerning', 'our', 'common', 'interest', 'and', 'job', 'at', 'the', 'end', 'please', 'do', 'not', 'forget', 'we', 'need', 'your', 'cooperation', 'and', 'help', 'in', 'every', 'mentioned', 'respect', 'the', 'aim', 'of', 'informatica', 'is', 'to', 'open', 'various', 'possibilities', 'of', 'communication', 'concerning', 'strong', 'scientific', 'and', 'philosophical', 'orientations', 'as', 'well', 'as', 'those', 'coming', 'up', 'still', 'unrevealed', 'and', 'on', 'the', 'way', 'to', 'become', 'significant', 'please', 'do', 'not', 'apprehend', 'to', 'give', 'proposals', 'suggestions', 'and', 'certainly', 'contributions', 'via', 'the', 'e', 'mail', 'and', 'by', 'other', 'means', 'sincerely', 'yours']\n",
      "sci.electronics :\n",
      "['from', 'article', 'c68ubg', 'k2w', 'world', 'std', 'com', 'by', 'cfw', 'world', 'std', 'com', 'christopher', 'f', 'wroten', 'good', 'question', 'answer', 'the', 'eisa', 'bus', 'does', 'move', '32', 'bits', 'rather', 'than', 'isa', 's', '8', '16', 'but', 'it', 'still', 'moves', 'it', 'at', 'about', 'the', 'speed', 'as', 'the', 'isa', 'bus', 'i', 'think', 'that', 's', 'either', '8', 'or', '10', 'mhz', 'the', 'local', 'bus', 'designs', 'also', 'move', '32', 'bits', 'like', 'the', 'eisa', 'but', 'they', 'move', 'the', 'data', 'at', 'the', 'cpu', 'speed', 'up', 'to', '40', 'mhz', 'so', 'on', 'a', '33mhz', 'cpu', 'the', 'local', 'bus', 'is', 'moving', '32bit', 'data', 'at', '33', 'mhz', 'and', 'the', 'eisa', 'is', 'moving', '32bit', 'data', 'at', '8', 'or', '10', 'mhz', 'so', 'the', 'local', 'bus', 'should', 'be', '3', 'to', '4', 'times', 'faster', 'than', 'eisa', 'on', 'a', '33', 'mhz', 'cpu', 'eisa', 'should', 'be', 'about', 'two', 'maybe', '3', 'times', 'as', 'fast', 'as', 'isa', 'that', 's', 'a', 'very', 'good', 'question', 'the', 'eisa', 'bus', 'does', 'have', 'more', 'advantages', 'over', 'the', 'isa', 'bus', 'than', 'just', 'it', 's', 'width', 'for', 'example', 'more', 'better', 'interrupts', 'and', 'bus', 'mastering', 'but', 'these', 'other', 'factors', 'do', 'not', 'impact', 'a', 'video', 'card', 'very', 'much', 'they', 'have', 'more', 'impact', 'on', 'file', 'servers', 'with', 'multiple', 'hard', 'drives', 'full', 'throttle', 'network', 'cards', 'cd', 'roms', 'etc']\n",
      "rec.sport.hockey :\n",
      "['there', 'should', 'be', 'no', 'problem', 'with', 'this', 'just', 'remember', 'to', 'get', 'the', 'number', 'of', 'wait', 'states', 'correct', 'guy']\n",
      "misc.forsale :\n",
      "['iv', 'e', 'got', 'a', 'problem', 'printing', 'with', 'a', 'stylewriterii', 'i', 'am', 'printing', 'from', 'a', 'iivx', 'with', '20', 'megs', 'ram', 'i', 'am', 'trying', 'to', 'print', 'a', 'quark', 'file', 'that', 'has', '2', 'fonts', 'a', 'couple', 'of', 'boxes', 'and', '3', 'gradient', 'fills', 'two', 'things', 'happen', 'i', 'get', 'a', 'disk', 'is', 'full', 'error', 'that', 'i', 'can', 't', 'find', 'documented', 'i', 'also', 'have', 'parts', 'of', 'letters', 'that', 'are', 'over', 'one', 'of', 'the', 'gradient', 'fills', 'get', 'cut', 'off', 'this', 'only', 'happens', 'to', 'the', 'text', 'over', 'the', 'fill', 'text', 'adjecent', 'in', 'a', 'different', 'box', 'is', 'uneffected', 'any', 'ideas']\n",
      "comp.graphics :\n",
      "['most', 'graphics', 'systems', 'i', 'have', 'seen', 'have', 'drawing', 'routines', 'that', 'also', 'specify', 'a', 'color', 'for', 'drawing', 'like', 'drawpoint', 'x', 'y', 'color', 'or', 'drawline', 'x1', 'y1', 'x2', 'y2', 'color', 'or', 'fillrectangle', 'x1', 'y1', 'x2', 'y2', 'color', 'with', 'x', 'i', 'have', 'to', 'do', 'something', 'like', 'xsetforeground', 'current', 'color', 'xdrawpoint', 'd', 'w', 'x', 'y', 'why', 'split', 'this', 'into', 'two', 'functions', 'why', 'did', 'x', 'designers', 'decide', 'to', 'not', 'associate', 'the', 'color', 'with', 'the', 'object', 'being', 'drawn', 'and', 'instead', 'associate', 'it', 'with', 'the', 'display', 'it', 'is', 'being', 'drawn', 'on']\n",
      "talk.politics.mideast :\n",
      "['i', 'said', 'what', 'a', 'silly', 'boy', 'i', 'was', 'now', 'i', 'have', 'zillions', 'of', 'messages', 'like', 'does', 'that', 'include', 'shipping', 'is', 'it', 'scsi', 'what', 'rom', 'version', 'is', 'it', 'will', 'it', 'work', 'on', 'a', 'maximegalon', 'gargantuabrain', '9000', 'ok', 'the', 'deal', 'is', 'this', 'if', 'you', 'live', 'in', 'the', 'twin', 'cities', 'email', 'me', 'and', 'set', 'up', 'a', 'time', 'sure', 'you', 'can', 'drop', 'round', 'and', 'grab', 'one', 'for', 'a', 'tenner', 'else', 'min', 'order', '20', '2', 'drives', 'shipping', 'no', 'guarantees', 'they', 'are', 'good', 'for', 'any', 'purpose', 'at', 'all', 'they', 'look', 'newish', 'clean', 'no', 'technical', 'negotiations', 'they', 'are', 'model', '525', 'floppytape', 'part', '960273', '639', 'revision', 'd', '17', 'pin', 'floppy', 'style', 'connector', 'on', 'the', 'back', 'else', 'they', 'go', 'in', 'the', 'bin', 'life', 'is', 'too', 'short', 'for', 'extended', 'negotiations', 'over', '10', 'items', 'cheers', 'mike']\n",
      "talk.politics.misc :\n",
      "['i', 'am', 'a', 'little', 'confused', 'on', 'all', 'of', 'the', 'models', 'of', 'the', '88', '89', 'bonnevilles', 'i', 'have', 'heard', 'of', 'the', 'le', 'se', 'lse', 'sse', 'ssei', 'could', 'someone', 'tell', 'me', 'the', 'differences', 'are', 'far', 'as', 'features', 'or', 'performance', 'i', 'am', 'also', 'curious', 'to', 'know', 'what', 'the', 'book', 'value', 'is', 'for', 'prefereably', 'the', '89', 'model', 'and', 'how', 'much', 'less', 'than', 'book', 'value', 'can', 'you', 'usually', 'get', 'them', 'for', 'in', 'other', 'words', 'how', 'much', 'are', 'they', 'in', 'demand', 'this', 'time', 'of', 'year', 'i', 'have', 'heard', 'that', 'the', 'mid', 'spring', 'early', 'summer', 'is', 'the', 'best', 'time', 'to', 'buy']\n",
      "rec.autos :\n",
      "['accusation', 'i', 'thought', 'it', 'was', 'a', 'recommendation', 'i', 'mean', 'i', 'did', 'grow', 'up', 'there', 'i', 'oughta', 'know', 'bring', 'the', 'truck', 'and', 'about', '10', 'pounds', 'of', 'crawfish', 'and', 'we', 'll', 'talk']\n",
      "soc.religion.christian :\n",
      "['let', 's', 'be', 'careful', 'here', 'if', 'players', 'performance', 'was', 'completely', 'random', 'in', 'clutch', 'no', 'clutch', 'then', 'you', 'would', 'still', 'expect', 'some', 'players', 'to', 'be', 'good', 'in', 'the', 'clutch', 'every', 'year', 'and', 'some', 'to', 'be', 'not', 'so', 'good', 'every', 'year', 'with', 'two', 'years', 'worth', 'of', 'data', 'you', 'd', 'have', '1', '4', 'of', 'the', 'players', 'good', 'each', 'year', '1', '4', 'bad', 'each', 'year', 'and', '1', '2', 'would', 'have', 'one', 'good', 'and', 'one', 'bad', 'year', 'we', 'have', '96', 'players', 'for', '5', 'years', '84', '88', 'just', 'flipping', 'a', 'coin', 'you', 'd', 'expect', '3', 'players', 'to', 'be', 'good', 'all', '5', 'years', 'and', '3', 'to', 'be', 'bad', 'every', 'year', 'this', 'is', 'what', 'we', 'actually', 'get', 'no', 'of', 'good', 'years', '0', '1', '2', '3', '4', '5', 'clutch', 'performers', '4', '10', '37', '24', '18', '3', 'coin', 'flip', 'random', '3', '15', '30', '30', '15', '3', 'essentially', 'the', 'distribution', 'of', 'clutch', 'performers', 'by', 'number', 'of', 'years', 'of', 'good', 'performance', 'is', 'the', 'same', 'as', 'what', 'you', 'would', 'get', 'if', 'the', 'process', 'leading', 'to', 'deviations', 'from', 'non', 'clutch', 'performance', 'was', 'completely', 'random', 'if', 'there', 'was', 'anything', 'to', 'clutch', 'hitting', 'at', 'least', 'in', 'this', 'definition', 'that', 'had', 'any', 'predictive', 'capability', 'you', 'expect', 'to', 'see', 'the', 'number', 'of', 'players', 'at', 'the', 'ends', 'to', 'be', 'much', 'larger', 'than', 'that', 'predicted', 'by', 'flipping', 'a', 'coin', 'further', 'if', 'you', 'limit', 'yourself', 'to', 'players', 'who', 'were', 'a', 'lot', 'above', 'or', 'below', 'average', 'in', 'clutch', 'situations', 'say', '1', 'standard', 'deviation', 'from', 'the', 'mean', 'more', 'than', 'one', 'year', 'the', 'random', 'explanation', 'still', 'looks', 'good', 'in', 'the', 'four', 'years', '84', '87', 'that', 'i', 'looked', 'at', 'the', 'data', 'from', 'elias', 'there', 'were', '79', '29', 'players', 'with', 'a', 'minimum', 'of', '25', '50', 'at', 'bats', 'in', 'clutch', 'situations', 'that', 'were', '1', 'sigma', 'from', 'the', 'mean', 'two', 'different', 'years', 'of', 'those', '79', '29', 'players', '38', '14', 'of', 'them', 'changed', 'sign', 'between', 'the', 'two', 'years', 'in', 'other', 'words', 'they', 'were', 'great', 'clutch', 'hitters', 'one', 'year', 'and', 'really', 'horrible', 'the', 'other', 'year', 'if', 'it', 'was', 'just', 'a', 'random', 'process', 'you', 'd', 'expect', 'those', 'numbers', 'to', 'be', '39', '5', '14', '5', 'everything', 'that', 's', 'been', 'measured', 'about', 'clutch', 'hitting', 'over', 'a', 'period', 'of', 'years', 'that', 'could', 'be', 'used', 'to', 'predict', 'any', 'ability', 'with', 'any', 'proposed', 'definition', 'has', 'looked', 'like', 'a', 'random', 'process', 'with', 'the', 'caveat', 'that', 'there', 'may', 'be', 'something', 'related', 'to', 'platoon', 'advantage', 'that', 'could', 'be', 'dragged', 'out', 'of', 'the', 'data', 'e', 'g', 'john', 'lowenstein', 'probably', 'never', 'had', 'a', 'clutch', 'ab', 'against', 'a', 'left', 'handed', 'pitcher', 'but', 'he', 'might', 'well', 'have', 'had', 'some', 'in', 'blowouts', 'so', 'that', 'there', 'would', 'be', 'a', 'bias', 'since', 'his', 'clutch', 'abs', 'would', 'be', 'more', 'geared', 'to', 'his', 'platoon', 'advantage', 'this', 'is', 'not', 'a', 'subject', 'that', 'has', 'been', 'glanced', 'at', 'casually', 'a', 'lot', 'of', 'people', 'have', 'put', 'a', 'lot', 'of', 'effort', 'into', 'studying', 'it', 'and', 'every', 'one', 'of', 'them', 'with', 'the', 'exception', 'of', 'the', 'elias', 'study', 'has', 'been', 'unable', 'to', 'find', 'anything', 'that', 'would', 'allow', 'you', 'to', 'predict', 'how', 'someone', 'will', 'do', 'in', 'clutch', 'situations', 'better', 'than', 'flipping', 'a', 'coin', 'self', 'serving', 'plug', 'follows', 'some', 'of', 'the', 'flaws', 'in', 'the', 'elias', 'study', 'are', 'discussed', 'in', 'my', 'paper', 'in', 'the', 'forth', 'coming', 'sabr', 'book', 'the', 'perfect', 'game', 'by', 'taylor', 'publishing', 'the', 'authors', 'are', 'supposed', 'to', 'get', 'a', 'slice', 'of', 'the', 'advance', 'so', 'go', 'bug', 'your', 'local', 'bookstores', 'now', 'and', 'maybe', 'i', 'can', 'get', 'enough', 'to', 'take', 'my', 'wife', 'to', 'dinner', 'once', 'harold']\n",
      "comp.graphics :\n",
      "['watch', 'out', 'pitsburgh', 'here', 'come', 'the', 'isles', 'they', 'said', 'we', 'wouldn', 't', 'make', 'the', 'playoffs', 'and', 'we', 'came', 'in', 'third', 'they', 'said', 'the', 'caps', 'would', 'beat', 'us', 'and', 'they', 're', 'not', 'going', 'to', 'they', 'say', 'that', 'pitsburgh', 'has', 'a', '1', '1', 'ratio', 'of', 'winning', 'the', 'cup', 'but', 'we', 'll', 'prove', 'them', 'wrong', 'l', 'e', 't', 's', 'g', 'o', 'i', 's', 'l', 'a', 'n', 'd', 'e', 'r', 's', 'bring', 'it', 'back', 'home']\n",
      "comp.sys.mac.hardware :\n",
      "['i', 'have', 'seen', 'various', 'references', 'to', 'triple', 'des', 'recently', 'could', 'anyone', 'tell', 'me', 'what', 'it', 'is', 'from', 'context', 'i', 'would', 'guess', 'that', 'it', 'means', 'encrypting', 'each', 'block', '3', 'times', 'with', 'a', 'different', 'key', 'each', 'time', 'but', 'i', 'd', 'like', 'to', 'be', 'sure', 'replies', 'by', 'email', 'preferred', 'our', 'news', 'is', 'unreliable', 'could', 'people', 'replying', 'to', 'the', 'above', 'question', 'post', 'their', 'responses', 'here', 'as', 'well', 'as', 'i', 'm', 'sure', 'others', 'including', 'myself', 'would', 'like', 'to', 'hear', 'them', 'thanks', 'jon']\n",
      "comp.sys.ibm.pc.hardware :\n",
      "['i', 'm', 'working', 'on', 'an', 'audio', 'mixer', 'project', 'but', 'i', 'm', 'having', 'trouble', 'finding', 'parts', 'i', 'want', 'to', 'use', 'op', 'amps', 'for', 'the', 'gain', 'control', 'stages', 'the', 'ones', 'i', 'have', 'found', 'that', 'are', 'good', 'for', 'audio', 'are', 'lm739', 'and', 'lm833', 'but', 'i', 'cannot', 'find', 'either', 'of', 'these', 'in', 'the', 'electronic', 'parts', 'places', 'i', 've', 'looked', 'are', 'there', 'any', 'good', 'substitute', 'op', 'amps', 'and', 'or', 'are', 'there', 'any', 'parts', 'suppliers', 'in', 'the', 'la', 'area', 'that', 'carry', 'this', 'kind', 'of', 'thing', '10kohm', 'dual', 'audio', 'taper', 'slider', 'pots', 'would', 'be', 'nice', 'too', 'any', 'info', 'would', 'be', 'appreciated', 'thanks', 'in', 'advance']\n",
      "soc.religion.christian :\n",
      "['hi', 'sci', 'med', 'folks', 'i', 'would', 'like', 'to', 'know', 'anything', 'you', 'folks', 'can', 'tell', 'me', 'regarding', 'lithium', 'i', 'have', 'a', '10', 'year', 'old', 'son', 'that', 'lives', 'with', 'my', 'ex', 'wife', 'she', 'has', 'been', 'having', 'difficulty', 'with', 'his', 'behavior', 'and', 'has', 'had', 'him', 'on', 'ritalin', 'tofranil', 'and', 'now', 'wants', 'to', 'try', 'lithuim', 'at', 'the', 'local', 'doctors', 'suggestion', 'i', 'would', 'like', 'to', 'know', 'whatever', 'is', 'important', 'that', 'i', 'should', 'know', 'i', 'worry', 'about', 'this', 'sort', 'of', 'thing', 'and', 'would', 'like', 'pros', 'cons', 'regarding', 'lithium', 'therapy', 'i', 'have', 'a', 'booklet', 'from', 'the', 'lithium', 'information', 'center', 'based', 'at', 'the', 'university', 'of', 'wisconsin', 'but', 'feel', 'that', 'it', 'is', 'pro', 'lithium', 'and', 'would', 'be', 'interested', 'in', 'comments', 'from', 'the', 'not', 'necessarily', 'pro', 'side', 'of', 'the', 'fence', 'i', 'am', 'a', 'concerned', 'father', 'and', 'just', 'wish', 'to', 'be', 'well', 'informed', 'thanks', 'for', 'any', 'information', 'you', 'can', 'provide', 'please', 'email', 'me', 'directly']\n",
      "rec.sport.baseball :\n",
      "['i', 'd', 'like', 'to', 'thank', 'everyone', 'and', 'anyone', 'who', 'sent', 'me', 'information', 'to', 'help', 'me', 'with', 'my', 'project', 'i', 'll', 'send', 'my', 'report', 'to', 'all', 'who', 'requested', 'a', 'copy']\n",
      "talk.politics.guns :\n",
      "['dishonest', 'money', 'dwindles', 'away', 'but', 'he', 'who', 'gathers', 'money', 'little', 'by', 'little', 'makes', 'it', 'grow', 'proverbs', '13', '11']\n",
      "soc.religion.christian :\n",
      "['you', 'forgot', 'the', 'part', 'about', 'encasing', 'it', 'in', 'a', 'small', 'shaped', 'charge', 'so', 'that', 'if', 'anyone', 'tries', 'to', 'tamper', 'with', 'it', 'it', 'explodes', 'and', 'kills', 'you', 'oh', 'and', 'the', 'shaped', 'charge', 'can', 'be', 'set', 'off', 'by', 'remote', 'control', 'but', 'only', 'if', 'you', 'get', 'out', 'of', 'line', 'properly', 'patriotic', 'citizens', 'have', 'nothing', 'to', 'fear']\n",
      "alt.atheism :\n",
      "['bosnian', 'muslims', 'are', 'citizens', 'od', 'bosnia', 'herzegovina', 'who', 'identify', 'themselves', 'with', 'bosnian', 'muslim', 'cultural', 'and', 'religious', 'tradition', 'in', 'bosnia', 'muslim', 'is', 'not', 'merely', 'a', 'religious', 'category', 'but', 'an', 'ethnic', 'one', 'as', 'well', 'actually', 'here', 'are', 'the', 'two', 'contradictory', 'arguments', 'made', 'by', 'people', 'on', 'this', 'subject', '1', 'there', 'is', 'only', 'serbian', 'and', 'croatian', 'nationality', 'and', 'bosnian', 'muslims', 'are', 'simply', 'croats', 'and', 'serbs', 'of', 'islamic', 'faith', '2', 'bosnian', 'muslims', 'are', 'a', 'separate', 'nationality', 'since', 'they', 'do', 'not', 'feel', 'themselves', 'to', 'be', 'croats', 'nor', 'serbs', 'in', '1968', 'argument', '2', 'was', 'accepted', 'by', 'former', 'yugoslavia', 'as', 'valid', 'and', '1', 'was', 'soundly', 'rejected', 'the', 'reasons', 'are', 'pragmatic', 'even', 'if', 'bosnian', 'muslims', 'are', 'croats', 'and', 'serbs', 'who', 'converted', 'to', 'islam', 'under', 'turkish', 'rule', 'centuries', 'ago', 'none', 'of', 'the', 'present', 'generation', 'has', 'any', 'clue', 'what', 'was', 'their', 'ancestor', 's', 'actual', 'nationality', 'in', 'fact', 'although', 'bosnian', 'muslims', 'have', 'felt', 'drawn', 'to', 'croatian', 'or', 'serbian', 'national', 'allegiance', 'most', 'of', 'them', 'feel', 'they', 'have', 'a', 'separate', 'cultural', 'and', 'historic', 'identity', 'so', 'arguments', 'like', 'yes', 'but', 'your', 'ancestors', 'were', 'croats', 'or', 'serbs', 'carry', 'very', 'little', 'weight', 'regardless', 'of', 'what', 'their', 'ancestors', 'might', 'have', 'been', 'as', 'long', 'as', 'bosnian', 'muslims', 'feel', 'that', 'they', 'are', 'a', 'separate', 'national', 'group', 'that', 'ends', 'the', 'debate', 'what', 'outsiders', 'say', 'is', 'simply', 'not', 'relevant', 'in', 'the', 'case', 'of', 'former', 'yugoslavia', 'the', 'date', 'is', '1971', 'when', 'muslim', 'nationality', 'appeared', 'as', 'a', 'census', 'category', 'for', 'the', 'first', 'time', 'this', 'was', 'the', 'result', 'of', 'a', 'sequence', 'of', 'decisions', 'over', 'the', 'past', 'decade', 'from', 'recognizing', 'bosniaks', 'as', 'an', 'ethnic', 'group', '1961', 'to', 'february', '1968', 'resolution', 'in', 'b', 'h', 'declaring', 'that', 'muslims', 'are', 'a', 'separate', 'nation', 'to', 'formal', 'endorsement', 'of', 'this', 'in', 'january', '1969', 'and', 'eventually', 'to', 'the', '1971', 'inclusion', 'of', 'muslim', 'nationality', 'choice', 'in', 'census', 'forms', 'for', 'comparison', 'in', '1948', 'census', 'there', 'were', 'three', 'national', 'categories', 'available', 'to', 'muslims', 'in', 'bosnia', 'herzegovina', 'serb', 'muslims', '71', '991', 'croat', 'muslims', '25', '295', 'muslims', 'ethnically', 'undeclared', '788', '403', 'this', 'clearly', 'demonstrates', 'that', 'muslims', 'feel', 'themselves', 'to', 'be', 'their', 'own', 'nationality', 'only', 'a', 'tiny', 'minority', 'felt', 'able', 'to', 'choose', 'serb', 'or', 'croat', 'nationality', 'census', 'results', 'show', 'that', 'bosnian', 'muslims', 'have', 'consistently', 'opted', 'for', 'a', 'third', 'category', 'in', '1948', 'they', 'chose', 'undeclared', 'in', '1953', 'they', 'chose', 'yugoslavs', 'in', '1961', 'both', 'yugoslavs', 'and', 'bosniak', 'ethnic', 'group', 'and', 'in', '1971', '1981', 'and', '1991', 'they', 'chose', 'muslim', 'nationality', 'perhaps', 'the', 'term', 'bosnian', 'muslim', 'nationality', 'is', 'too', 'confusing', 'for', 'the', 'rest', 'of', 'the', 'world', 'but', 'in', 'the', 'present', 'context', 'we', 'are', 'talking', 'about', 'muslims', 'as', 'nationality', 'not', 'as', 'a', 'religous', 'group', 'within', 'some', 'separate', 'national', 'identity', 'the', 'reasons', 'are', 'mostly', 'historical', 'and', 'cultural', 'religion', 'plays', 'a', 'smaller', 'role', 'as', 'a', 'part', 'of', 'culture', 'in', 'general', 'because', 'the', 'area', 'is', 'simply', 'not', 'known', 'for', 'religious', 'fanaticism', 'political', 'fanaticism', 'yes', 'religious', 'fanaticism', 'no', 'group', 'security', 'and', 'survival', 'dominate', 'people', 's', 'thinking', 'not', 'fine', 'points', 'of', 'theology', 'in', 'fact', 'bosnia', 'herzegovina', 'is', 'as', 'well', 'known', 'for', 'religious', 'tolerance', 'in', 'peacetime', 'as', 'it', 'is', 'known', 'for', 'terrible', 'carnage', 'in', 'wartime']\n",
      "talk.politics.guns :\n",
      "['the', 'white', 'house', 'office', 'of', 'the', 'press', 'secretary', 'for', 'immediate', 'release', 'april', '19', '1993', 'statement', 'of', 'president', 'clinton', 'i', 'am', 'deeply', 'saddened', 'by', 'the', 'loss', 'of', 'life', 'in', 'waco', 'today', 'my', 'thoughts', 'and', 'prayers', 'are', 'with', 'the', 'families', 'of', 'david', 'koresh', 's', 'victims', 'the', 'law', 'enforcement', 'agencies', 'involved', 'in', 'the', 'waco', 'siege', 'recommended', 'the', 'course', 'of', 'action', 'pursued', 'today', 'the', 'attorney', 'general', 'informed', 'me', 'of', 'their', 'analysis', 'and', 'judgment', 'and', 'recommended', 'that', 'we', 'proceed', 'with', 'today', 's', 'action', 'given', 'the', 'risks', 'of', 'maintaining', 'the', 'previous', 'policy', 'indefinitely', 'i', 'told', 'the', 'attorney', 'general', 'to', 'do', 'what', 'she', 'thought', 'was', 'right', 'and', 'i', 'stand', 'by', 'that', 'decision']\n",
      "alt.atheism :\n",
      "['i', 've', 'just', 'spent', 'two', 'solid', 'months', 'arguing', 'that', 'no', 'such', 'thing', 'as', 'an', 'objective', 'moral', 'system', 'exists']\n"
     ]
    }
   ],
   "source": [
    "error_doc(class_of_test_doc, newsgroups_test_target, newsgroups_test, class_cnt, target_names_doc)"
   ]
  },
  {
   "cell_type": "markdown",
   "metadata": {},
   "source": [
    "Ошибки происходят из-за схожести классов и нехватки ключевых слов и термов."
   ]
  },
  {
   "cell_type": "markdown",
   "metadata": {},
   "source": [
    "Матрица ошибок:"
   ]
  },
  {
   "cell_type": "code",
   "execution_count": 225,
   "metadata": {
    "collapsed": false
   },
   "outputs": [
    {
     "name": "stdout",
     "output_type": "stream",
     "text": [
      "[[157   2   3   3   2   0   0  12   2   2   3   8   3   6   5  36   6  22\n",
      "   12  35]\n",
      " [  3 183  28  13  12  32   8  11   8   5   4  19   7   8   6  11   4   7\n",
      "   14   6]\n",
      " [  5  22 169  33  18  21  15  20   5   5   3   6   4   7  10  10   2  13\n",
      "   11  15]\n",
      " [  0  17  36 213  29   4  17  12   1   3   1  11  18   4   2   2   1  10\n",
      "    6   5]\n",
      " [  1  11  14  49 187   9  10  18   1   1   2   6  12   8   3  18   6  11\n",
      "   15   3]\n",
      " [  1  34  26   7   3 249   4   6   2  11   4  11   3   3   6   4   3   6\n",
      "    8   4]\n",
      " [  1   3  11  39  29   6 184  26   8  20   6   4  11   6   9   6   2   7\n",
      "    3   9]\n",
      " [  6  10   0   4   5   1  11 217  22   6   4   6  18   3   8  17   7  24\n",
      "   18   9]\n",
      " [  7   3   7   5   7   3   3  35 203   3   2   8   8   5   9  21   7  40\n",
      "   11  11]\n",
      " [  7   2   4   5   2   1   3  22   5 218  24   3   2   5   4  22   3  47\n",
      "   12   6]\n",
      " [  6   3   3   0   2   1   3  10   6  28 268   3   4   4   3  13   3  31\n",
      "    3   5]\n",
      " [  9   9   4   4   5   1   4  17   6   2  12 230   2   5   1  17  10  28\n",
      "   19  11]\n",
      " [  8   9  10  28  24  11   8  23  13   7   4  27 124  17   6  21   6  29\n",
      "   11   7]\n",
      " [ 21   8   3   5   3   1   2  19   7   5   3   8   6 199   7  28   5  30\n",
      "   20  16]\n",
      " [ 15  10   8   1   7   3   3  26   8  13   3  13  12   6 189   7  10  26\n",
      "   26   8]\n",
      " [ 56   1   1   1   2   0   3  15   1   2   1   4   0   8   2 223   3  29\n",
      "    7  39]\n",
      " [ 12   2   3   3   0   2   3  17   2   8   2  20   1   6   6  13 162  61\n",
      "   20  21]\n",
      " [ 41   0   0   3   0   0   1  10   5   3   2  10   1   3   3  20  16 226\n",
      "   16  16]\n",
      " [ 20   1   0   3   2   0   4  12   2   4   6   7   1   1   4   9  62  44\n",
      "  100  28]\n",
      " [ 42   1   1   2   2   1   2  12   4   4   1   9   1   7   3  46  16  16\n",
      "    9  72]]\n"
     ]
    }
   ],
   "source": [
    "print(confusion_matrix(newsgroups_test_target, class_of_test_doc))"
   ]
  },
  {
   "cell_type": "markdown",
   "metadata": {},
   "source": [
    "По матрице ошибок можно сделать вывод, что наибольшее количество правильно отклассифицированных текстов на тематику __'comp.windows.x'__. Наибольшее количество неправильно отклассифицированных текстов на тематику __'talk.politics.misc'__: классификатор выдает ее за __'talk.politics.guns'__ из-за схожести текстов."
   ]
  },
  {
   "cell_type": "code",
   "execution_count": 230,
   "metadata": {
    "collapsed": false
   },
   "outputs": [
    {
     "name": "stdout",
     "output_type": "stream",
     "text": [
      "310\n"
     ]
    }
   ],
   "source": [
    "cnt_empty = 0\n",
    "for text in newsgroups_train:\n",
    "    if (len(text) == 0):\n",
    "        cnt_empty += 1\n",
    "print(cnt_empty)"
   ]
  },
  {
   "cell_type": "markdown",
   "metadata": {},
   "source": [
    "Важно заметить, что также в датасете есть тексты с __пустым__ содержанием."
   ]
  },
  {
   "cell_type": "markdown",
   "metadata": {},
   "source": [
    "### Девятнадцатый пункт:"
   ]
  },
  {
   "cell_type": "markdown",
   "metadata": {},
   "source": [
    "Используемые алгоритмы:\n",
    "\n",
    "1. В ходе данного задания были изучены различные реализации алгоритма k ближайших соседей:\n",
    "    * kd_tree\n",
    "    * ball_tree\n",
    "    * brute\n",
    "2. В результате экспериментов __brute__ показал свою \"независимость\" от количества признаков, в отличие от __kd_tree__ и __ball_tree__.\n",
    "3. Были проведены эксперименты на различном количестве соседей k от 1 до 10. Как оказалось, количество соседей не так сильно влияют на точность алгоритма.\n",
    "4. Были проведены эксперименты на двух разных метриках:\n",
    "    * евклидова\n",
    "    * косинусная\n",
    "5. Косинусная метрика работает дольше, чем евклидова из-за двойного подсчета нормы.\n",
    "6. Косинусная метрика показывает лучшую точность, чем евклидова.\n",
    "7. При добавлении весов улучшается точность как косинусной так и евклидовой метрики.\n",
    "\n",
    "Работа с датасетами:\n",
    "\n",
    "1. MNIST:\n",
    "    * На MNIST наилучшую точность показал алгоритм с косинусой метрикой и с добавленными весами, при этом точность на тестовой выборке составила 97,5%, что отличается с точностью при кросс-валидации - 99,17%.\n",
    "    * Большинство ошибок были допущены на цифрах, одинаковых по написанию, а также на цифрах, где отсутвуют четкие линии.\n",
    "    * Классом на котором допущено было наибольшее количество ошибок является \"4\" (классификатор путает его с классом \"9\").\n",
    "2. 20newsgroups:\n",
    "    * На 20newsgroups наилучшую точность показал алгоритм с косинусной метрикой с tf-idf преобразованием, весами и при одном соседе, при этом точность на тестовой выборке составила 50%, что очень сильно отличается от точности при кросс-валидации - 84,47 %.\n",
    "    * Большинство ошибок были допущены из-за нехватки слов в документе, а также из-за схожести по тематики тексто из различных классов.\n",
    "    * При выводе матрицы ошибок тексты из класса 'talk.politics.misc' классификатор выдает за класс 'talk.politics.guns'\n",
    "    * Также в этом датасете существуют пустые тексты (310).\n",
    "    \n",
    "Работа с параметрами:\n",
    "\n",
    "1. Важно заметить, что количество соседей не так сильно влияют на точность классификатора.\n",
    "2. Выбор метрики является важной частью решения задачи, так как результаты экспериментов показали косинусная метрика гораздо лучше классифицирует объекты, чем евклидова.\n",
    "3. Введение весов также является важным параметром для улучшения точности. Так, при k = 5 при евклидовой метрике без весов на датасете MNIST точность на кросс-валидации составил 97,5%, а при добавлении весов: 98,9%."
   ]
  }
 ],
 "metadata": {
  "kernelspec": {
   "display_name": "Python 3",
   "language": "python",
   "name": "python3"
  },
  "language_info": {
   "codemirror_mode": {
    "name": "ipython",
    "version": 3
   },
   "file_extension": ".py",
   "mimetype": "text/x-python",
   "name": "python",
   "nbconvert_exporter": "python",
   "pygments_lexer": "ipython3",
   "version": "3.5.2"
  }
 },
 "nbformat": 4,
 "nbformat_minor": 0
}
