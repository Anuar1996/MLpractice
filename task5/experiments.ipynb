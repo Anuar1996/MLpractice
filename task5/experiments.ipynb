{
 "cells": [
  {
   "cell_type": "code",
   "execution_count": 1,
   "metadata": {
    "collapsed": false
   },
   "outputs": [],
   "source": [
    "import numpy as np\n",
    "import pickle\n",
    "%matplotlib inline\n",
    "import matplotlib.pyplot as plt\n",
    "from PIL import Image, ImageFilter\n",
    "import autoencoder\n",
    "import display_layer\n",
    "import gradient\n",
    "import sample_patches\n",
    "from importlib import reload\n",
    "from scipy.optimize import minimize\n",
    "import time"
   ]
  },
  {
   "cell_type": "code",
   "execution_count": 2,
   "metadata": {
    "collapsed": true
   },
   "outputs": [],
   "source": [
    "def norm_weight(x):\n",
    "    return (x - np.min(x)) / (np.max(x) - np.min(x))"
   ]
  },
  {
   "cell_type": "code",
   "execution_count": 3,
   "metadata": {
    "collapsed": false
   },
   "outputs": [
    {
     "data": {
      "text/plain": [
       "<module 'gradient' from '/home/anuar/Рабочий стол/Student/3 kurs/2 sm/Prack/task 5/gradient.py'>"
      ]
     },
     "execution_count": 3,
     "metadata": {},
     "output_type": "execute_result"
    }
   ],
   "source": [
    "reload(display_layer)\n",
    "reload(sample_patches)\n",
    "reload(autoencoder)\n",
    "reload(gradient)"
   ]
  },
  {
   "cell_type": "markdown",
   "metadata": {},
   "source": [
    "##Первый пункт."
   ]
  },
  {
   "cell_type": "markdown",
   "metadata": {},
   "source": [
    "<font size=4, face=\"Times New Roman\"> Генерируются случайные участки изображения 8x8. Находится в модуле *sample_pathces.py*.</font>"
   ]
  },
  {
   "cell_type": "markdown",
   "metadata": {},
   "source": [
    "##Второй пункт."
   ]
  },
  {
   "cell_type": "markdown",
   "metadata": {},
   "source": [
    "<font size=4, face=\"Times New Roman\"> Эти участки изображения нормализуются по правилу трех сигма. </font>"
   ]
  },
  {
   "cell_type": "markdown",
   "metadata": {},
   "source": [
    "##Третий пункт."
   ]
  },
  {
   "cell_type": "markdown",
   "metadata": {},
   "source": [
    "<font size=4, face=\"Times New Roman\"> В модуле *autoencoder.py* реализован метод обратного распространения ошибки с учетом использования регуляризатора разреженности. </font>"
   ]
  },
  {
   "cell_type": "markdown",
   "metadata": {},
   "source": [
    "##Четвертый пункт."
   ]
  },
  {
   "cell_type": "markdown",
   "metadata": {},
   "source": [
    "<font size=4, face=\"Times New Roman\"> Функция потерь многослойного разреженного автокодировщика реализован в модуле *autoencoder.py*. При написании кода максимально были использованы матричные вычисления. </font>"
   ]
  },
  {
   "cell_type": "markdown",
   "metadata": {},
   "source": [
    "##Пятый пункт."
   ]
  },
  {
   "cell_type": "markdown",
   "metadata": {},
   "source": [
    "###A). Проверяется на отдельной простой функции."
   ]
  },
  {
   "cell_type": "code",
   "execution_count": 5,
   "metadata": {
    "collapsed": false
   },
   "outputs": [
    {
     "name": "stdout",
     "output_type": "stream",
     "text": [
      "Difference between gradients:  1.54679262192e-11\n"
     ]
    }
   ],
   "source": [
    "gradient.check_gradient()"
   ]
  },
  {
   "cell_type": "markdown",
   "metadata": {},
   "source": [
    "<font size=4, face=\"Times New Roman\"> Это означает, что функция <b> compute_gradient </b> реализована правильно. </font>"
   ]
  },
  {
   "cell_type": "markdown",
   "metadata": {},
   "source": [
    "###B). Проверяется на функции потерь автокодировщика."
   ]
  },
  {
   "cell_type": "markdown",
   "metadata": {},
   "source": [
    "<font size=4, face=\"Times New Roman\"> Необходимо было проверить корректность вычислений градиентов в методе обратного распространения ошибки с помощью функции <b> compute_gradient </b>. </font>"
   ]
  },
  {
   "cell_type": "code",
   "execution_count": 18,
   "metadata": {
    "collapsed": true
   },
   "outputs": [],
   "source": [
    "#проверяем на нейронной сети с одним слоем\n",
    "hidden_size = np.array([7, 4, 7])\n",
    "visible_size = 8\n",
    "theta = autoencoder.initialize(hidden_size, visible_size)\n",
    "patches = np.random.rand(10, 8)"
   ]
  },
  {
   "cell_type": "code",
   "execution_count": 3,
   "metadata": {
    "collapsed": true
   },
   "outputs": [],
   "source": [
    "#сама функция потерь\n",
    "def J(theta):\n",
    "    return autoencoder.autoencoder_loss(theta, visible_size, hidden_size, \n",
    "                                        lambda_, sparsity_param, beta, patches)"
   ]
  },
  {
   "cell_type": "code",
   "execution_count": 20,
   "metadata": {
    "collapsed": true
   },
   "outputs": [],
   "source": [
    "grad_1 = J(theta)[1]\n",
    "grad_2 = gradient.compute_gradient(J, theta)"
   ]
  },
  {
   "cell_type": "code",
   "execution_count": 21,
   "metadata": {
    "collapsed": false
   },
   "outputs": [
    {
     "data": {
      "text/plain": [
       "1.3237701933209175e-09"
      ]
     },
     "execution_count": 21,
     "metadata": {},
     "output_type": "execute_result"
    }
   ],
   "source": [
    "np.linalg.norm(grad_1 - grad_2)"
   ]
  },
  {
   "cell_type": "markdown",
   "metadata": {},
   "source": [
    "<font size=4, face=\"Times New Roman\"> Как мы видим ошибка составляет <b> $ 1.3 * 10^{-9} $ </b>, что говорит о том, что градиенты вычислены правильно. </font>"
   ]
  },
  {
   "cell_type": "markdown",
   "metadata": {},
   "source": [
    "##Шестой пункт."
   ]
  },
  {
   "cell_type": "markdown",
   "metadata": {},
   "source": [
    "<font size=4, face=\"Times New Roman\"> Минимизация проводится с помощью функции <b> minimize. </b> </font>"
   ]
  },
  {
   "cell_type": "code",
   "execution_count": 10,
   "metadata": {
    "collapsed": false
   },
   "outputs": [
    {
     "name": "stdout",
     "output_type": "stream",
     "text": [
      "CPU times: user 73.2 ms, sys: 0 ns, total: 73.2 ms\n",
      "Wall time: 72.6 ms\n"
     ]
    },
    {
     "data": {
      "text/plain": [
       " message: b'CONVERGENCE: NORM_OF_PROJECTED_GRADIENT_<=_PGTOL'\n",
       "     jac: array([  6.93753490e-07,   7.21060756e-07,  -1.16941775e-06,\n",
       "         7.19558136e-07,   1.96337209e-06,   2.08306887e-06,\n",
       "        -2.91996726e-07,   1.04291861e-06,  -1.69551315e-06,\n",
       "        -2.06629925e-06,  -1.46221081e-06,  -2.78042087e-06,\n",
       "        -1.39557868e-06,  -1.35817462e-06,  -9.34283373e-07,\n",
       "        -8.04019283e-07,  -5.25174995e-07,  -7.19739862e-07,\n",
       "        -2.42525282e-06,  -2.33098200e-06,   2.70410597e-06,\n",
       "         7.48379633e-07,   6.28876872e-07,   2.19052432e-06,\n",
       "        -1.18237799e-07,   2.23575735e-06,   3.43707996e-06,\n",
       "         4.44717884e-06,  -1.67879664e-06,   1.73494609e-07,\n",
       "        -2.73060135e-06,   5.66763554e-07,  -4.37128967e-07,\n",
       "        -3.62015336e-06,  -4.48749697e-06,  -5.10747384e-07,\n",
       "        -1.48451888e-06,  -2.99467333e-06,  -7.90450542e-07,\n",
       "         2.01072492e-06,  -1.09779442e-06,   1.12659354e-06,\n",
       "        -1.53959292e-06,  -8.38347861e-07,   7.91576976e-07,\n",
       "         5.39661047e-07,   7.97034949e-07,  -1.13609445e-06,\n",
       "         6.63286213e-07,   1.27400379e-06,   9.80998006e-07,\n",
       "         1.82673004e-07,   8.50779600e-07,   1.03160600e-06,\n",
       "         7.59720609e-07,  -4.54550858e-07,  -2.89389592e-07,\n",
       "         2.74292658e-07,   1.78646849e-07,  -1.41296755e-06,\n",
       "        -1.50837206e-06,  -6.54937556e-07,   1.94840528e-06,\n",
       "        -6.43550072e-07,  -9.20907571e-07,  -9.54127157e-07,\n",
       "         2.37674415e-06,  -7.75908784e-07,  -4.23703126e-07,\n",
       "         1.95852487e-06,  -4.02679566e-07,  -9.33931110e-07,\n",
       "         5.62278480e-08,  -4.85143234e-07,   1.79776183e-06,\n",
       "        -1.16630543e-06,   1.57827763e-07,   2.10114958e-06,\n",
       "         1.26762450e-06,   2.06242630e-06,   5.30183106e-06,\n",
       "        -1.91281093e-06,   5.15307831e-07,   3.36605268e-06,\n",
       "        -5.82259165e-06,   1.13185212e-06,   1.09499962e-06,\n",
       "        -3.02160239e-07,   3.52132625e-06,   2.58529019e-07,\n",
       "         3.77479264e-07,  -1.86802055e-06,   5.91824004e-07])\n",
       "    nfev: 243\n",
       "     fun: 0.21813098362868599\n",
       "       x: array([-2.19813885, -0.04992229,  2.77569363,  2.79914926, -1.8776102 ,\n",
       "       -1.9387721 , -2.61977047,  0.54455586,  0.45971109, -2.71449669,\n",
       "       -2.90334559, -1.38323778,  2.94215339,  0.02239139,  2.61814402,\n",
       "       -0.24971223, -3.3903623 , -2.26028549,  0.96134139, -0.07822828,\n",
       "        2.62317989,  0.96869197, -1.10317332,  3.79605631, -0.93895926,\n",
       "       -0.92530265,  1.87128255, -1.81272059, -1.46375576, -4.75995484,\n",
       "        2.96681897,  0.96312757,  0.60702894,  2.13073247,  1.51097696,\n",
       "       -2.62712731, -1.99497406,  2.10796627,  0.07055587, -0.80034231,\n",
       "       -6.28711698, -0.93728295, -7.40497494, -5.84696422, -1.43239604,\n",
       "       -0.82650233, -6.65116277, -5.52028231, -4.47494949,  5.65804029,\n",
       "        6.65086625, -4.8869558 ,  2.28036687,  5.1105294 ,  6.70098644,\n",
       "        3.74502078, -3.80080328, -0.37843517, -7.00813194, -7.98641679,\n",
       "       -2.96699805,  5.7847702 ,  4.46665629, -3.12110579, -5.04538417,\n",
       "       -4.15323624, -1.00592324, -0.3482381 , -8.50033117,  5.30360296,\n",
       "       -5.23586609,  5.50702001, -2.1021915 ,  4.68376145, -1.38725619,\n",
       "        1.09463918,  0.2872243 ,  5.2916453 ,  1.29768623, -5.60911036,\n",
       "       -5.04828223, -5.82757629, -7.25096493, -3.14649445, -6.41820803,\n",
       "        0.26041812,  0.18189753, -0.39691493,  0.91995796,  0.28855482,\n",
       "        0.3837103 ,  0.084299  ,  0.11074328])\n",
       "  status: 0\n",
       "     nit: 225\n",
       " success: True"
      ]
     },
     "execution_count": 10,
     "metadata": {},
     "output_type": "execute_result"
    }
   ],
   "source": [
    "%time minimize(J, theta, method='L-BFGS-B', jac=True)"
   ]
  },
  {
   "cell_type": "markdown",
   "metadata": {},
   "source": [
    "##Седьмой пункт."
   ]
  },
  {
   "cell_type": "markdown",
   "metadata": {},
   "source": [
    "<font size=4, face='Times New Roman'> Необходимо \"прогнать\" патчи через автокодировщик и вывести веса на скрытых слоях </font>"
   ]
  },
  {
   "cell_type": "code",
   "execution_count": 4,
   "metadata": {
    "collapsed": true
   },
   "outputs": [],
   "source": [
    "with open('unlabeled.pk', 'rb') as f:\n",
    "    unl = pickle.load(f)"
   ]
  },
  {
   "cell_type": "code",
   "execution_count": 5,
   "metadata": {
    "collapsed": false
   },
   "outputs": [
    {
     "name": "stdout",
     "output_type": "stream",
     "text": [
      "CPU times: user 16.9 s, sys: 0 ns, total: 16.9 s\n",
      "Wall time: 1min 2s\n"
     ]
    }
   ],
   "source": [
    "hidden_size = np.array([75])\n",
    "visible_size = 192\n",
    "theta = autoencoder.initialize(hidden_size, visible_size)\n",
    "%time patches = sample_patches.sample_patches(unl['X'])\n",
    "beta = 3\n",
    "sparsity_param = 1e-2\n",
    "lambda_ = 1e-5"
   ]
  },
  {
   "cell_type": "code",
   "execution_count": 243,
   "metadata": {
    "collapsed": false
   },
   "outputs": [
    {
     "name": "stdout",
     "output_type": "stream",
     "text": [
      "CPU times: user 24.5 ms, sys: 0 ns, total: 24.5 ms\n",
      "Wall time: 24 ms\n"
     ]
    }
   ],
   "source": [
    "%time display_layer.display_layer(patches[:256], filename='patches_unl.png')"
   ]
  },
  {
   "cell_type": "markdown",
   "metadata": {},
   "source": [
    "<font size=4, face='Times New Roman'> Время выполнения одной итерации <b> autoencoder_loss </b> составляет 512 ms. </font>"
   ]
  },
  {
   "cell_type": "code",
   "execution_count": 220,
   "metadata": {
    "collapsed": false,
    "scrolled": true
   },
   "outputs": [
    {
     "name": "stdout",
     "output_type": "stream",
     "text": [
      "CPU times: user 500 ms, sys: 12.2 ms, total: 513 ms\n",
      "Wall time: 512 ms\n"
     ]
    },
    {
     "data": {
      "text/plain": [
       "(168.64542800892752,\n",
       " array([ 1.08329654,  1.08123896,  1.08203725, ...,  0.02288452,\n",
       "        -0.03893653,  0.01575775]))"
      ]
     },
     "execution_count": 220,
     "metadata": {},
     "output_type": "execute_result"
    }
   ],
   "source": [
    "%time autoencoder.autoencoder_loss(theta, visible_size, hidden_size, lambda_, sparsity_param, beta, patches)"
   ]
  },
  {
   "cell_type": "code",
   "execution_count": 8,
   "metadata": {
    "collapsed": false
   },
   "outputs": [
    {
     "name": "stdout",
     "output_type": "stream",
     "text": [
      "CPU times: user 9min 57s, sys: 11.5 s, total: 10min 9s\n",
      "Wall time: 10min 10s\n"
     ]
    },
    {
     "name": "stderr",
     "output_type": "stream",
     "text": [
      "/root/anaconda3/lib/python3.4/site-packages/IPython/kernel/__main__.py:1: OptimizeWarning: Unknown solver options: max_iter\n",
      "  if __name__ == '__main__':\n"
     ]
    }
   ],
   "source": [
    "%time result = minimize(J, theta, method='L-BFGS-B', jac=True, tol=1e-5, options={'max_iter': 4000})"
   ]
  },
  {
   "cell_type": "markdown",
   "metadata": {},
   "source": [
    "<font size=4, face=\"Times New Roman\"> Веса между первым и вторым слоями сети. </font>"
   ]
  },
  {
   "cell_type": "code",
   "execution_count": 253,
   "metadata": {
    "collapsed": false
   },
   "outputs": [
    {
     "name": "stdout",
     "output_type": "stream",
     "text": [
      "CPU times: user 167 ms, sys: 179 µs, total: 168 ms\n",
      "Wall time: 468 ms\n"
     ]
    }
   ],
   "source": [
    "layer_number = 1\n",
    "%time activation, W = autoencoder.autoencoder_transform(result['x'], visible_size, hidden_size, layer_number, patches)\n",
    "display_layer.display_layer(norm_weight(W), filename='layer1_W_1.bmp')"
   ]
  },
  {
   "cell_type": "markdown",
   "metadata": {},
   "source": [
    "<font size=4, face=\"Times New Roman\"> Веса между вторым и третьем слоями сети. </font>"
   ]
  },
  {
   "cell_type": "code",
   "execution_count": 254,
   "metadata": {
    "collapsed": false
   },
   "outputs": [
    {
     "name": "stdout",
     "output_type": "stream",
     "text": [
      "CPU times: user 181 ms, sys: 36 µs, total: 181 ms\n",
      "Wall time: 180 ms\n"
     ]
    }
   ],
   "source": [
    "layer_number = 2\n",
    "%time activation, W = autoencoder.autoencoder_transform(result['x'], visible_size, hidden_size, layer_number, patches)\n",
    "display_layer.display_layer(norm_weight(W.T), filename='layer2_W_1.bmp')"
   ]
  },
  {
   "cell_type": "markdown",
   "metadata": {},
   "source": [
    "<font size=4.5, face=\"Times New Roman\"> Изменение гиперпараметров сети: </font>"
   ]
  },
  {
   "cell_type": "markdown",
   "metadata": {},
   "source": [
    "$\\lambda = 10^{-3}$"
   ]
  },
  {
   "cell_type": "code",
   "execution_count": 68,
   "metadata": {
    "collapsed": false
   },
   "outputs": [
    {
     "name": "stdout",
     "output_type": "stream",
     "text": [
      "CPU times: user 14.5 s, sys: 32.9 ms, total: 14.5 s\n",
      "Wall time: 17.6 s\n"
     ]
    }
   ],
   "source": [
    "%time patches = sample_patches.sample_patches(train['X'])"
   ]
  },
  {
   "cell_type": "code",
   "execution_count": 81,
   "metadata": {
    "collapsed": true
   },
   "outputs": [],
   "source": [
    "hidden_size = np.array([75])\n",
    "visible_size = 192\n",
    "theta = autoencoder.initialize(hidden_size, visible_size)\n",
    "beta = 3\n",
    "sparsity_param = 1e-2\n",
    "lambda_ = 1e-3"
   ]
  },
  {
   "cell_type": "code",
   "execution_count": 82,
   "metadata": {
    "collapsed": false
   },
   "outputs": [
    {
     "name": "stdout",
     "output_type": "stream",
     "text": [
      "CPU times: user 31.4 s, sys: 0 ns, total: 31.4 s\n",
      "Wall time: 31.4 s\n"
     ]
    },
    {
     "name": "stderr",
     "output_type": "stream",
     "text": [
      "/root/anaconda3/lib/python3.4/site-packages/IPython/kernel/__main__.py:1: OptimizeWarning: Unknown solver options: max_iter\n",
      "  if __name__ == '__main__':\n"
     ]
    }
   ],
   "source": [
    "%time result = minimize(J, theta, method='L-BFGS-B', jac=True, tol=1e-5, options={'max_iter': 4000})"
   ]
  },
  {
   "cell_type": "code",
   "execution_count": 83,
   "metadata": {
    "collapsed": false
   },
   "outputs": [
    {
     "name": "stdout",
     "output_type": "stream",
     "text": [
      "CPU times: user 191 ms, sys: 0 ns, total: 191 ms\n",
      "Wall time: 191 ms\n"
     ]
    }
   ],
   "source": [
    "layer_number = 1\n",
    "%time activation, W = autoencoder.autoencoder_transform(result['x'], visible_size, hidden_size, layer_number, patches)\n",
    "display_layer.display_layer(norm_weight(W), filename='layer1_W_1_lambda.png')"
   ]
  },
  {
   "cell_type": "code",
   "execution_count": 84,
   "metadata": {
    "collapsed": false
   },
   "outputs": [
    {
     "name": "stdout",
     "output_type": "stream",
     "text": [
      "CPU times: user 175 ms, sys: 0 ns, total: 175 ms\n",
      "Wall time: 173 ms\n"
     ]
    }
   ],
   "source": [
    "layer_number = 2\n",
    "%time activation, W = autoencoder.autoencoder_transform(result['x'], visible_size, hidden_size, layer_number, patches)\n",
    "display_layer.display_layer(norm_weight(W.T), filename='layer2_W_1_lambda.png')"
   ]
  },
  {
   "cell_type": "markdown",
   "metadata": {},
   "source": [
    "$\\rho = 0.1$"
   ]
  },
  {
   "cell_type": "code",
   "execution_count": 73,
   "metadata": {
    "collapsed": true
   },
   "outputs": [],
   "source": [
    "hidden_size = np.array([75])\n",
    "visible_size = 192\n",
    "theta = autoencoder.initialize(hidden_size, visible_size)\n",
    "beta = 3\n",
    "sparsity_param = 0.1\n",
    "lambda_ = 1e-5"
   ]
  },
  {
   "cell_type": "code",
   "execution_count": 74,
   "metadata": {
    "collapsed": false
   },
   "outputs": [
    {
     "name": "stdout",
     "output_type": "stream",
     "text": [
      "CPU times: user 7min 15s, sys: 120 ms, total: 7min 15s\n",
      "Wall time: 7min 15s\n"
     ]
    },
    {
     "name": "stderr",
     "output_type": "stream",
     "text": [
      "/root/anaconda3/lib/python3.4/site-packages/IPython/kernel/__main__.py:1: OptimizeWarning: Unknown solver options: max_iter\n",
      "  if __name__ == '__main__':\n"
     ]
    }
   ],
   "source": [
    "%time result = minimize(J, theta, method='L-BFGS-B', jac=True, tol=1e-5, options={'max_iter': 4000})"
   ]
  },
  {
   "cell_type": "code",
   "execution_count": 79,
   "metadata": {
    "collapsed": false
   },
   "outputs": [
    {
     "name": "stdout",
     "output_type": "stream",
     "text": [
      "CPU times: user 174 ms, sys: 213 µs, total: 174 ms\n",
      "Wall time: 173 ms\n"
     ]
    }
   ],
   "source": [
    "layer_number = 1\n",
    "%time activation, W = autoencoder.autoencoder_transform(result['x'], visible_size, hidden_size, layer_number, patches)\n",
    "display_layer.display_layer(norm_weight(W), filename='layer1_W_1_rho.png')"
   ]
  },
  {
   "cell_type": "code",
   "execution_count": 80,
   "metadata": {
    "collapsed": false
   },
   "outputs": [
    {
     "name": "stdout",
     "output_type": "stream",
     "text": [
      "CPU times: user 171 ms, sys: 3.86 ms, total: 175 ms\n",
      "Wall time: 174 ms\n"
     ]
    }
   ],
   "source": [
    "layer_number = 2\n",
    "%time activation, W = autoencoder.autoencoder_transform(result['x'], visible_size, hidden_size, layer_number, patches)\n",
    "display_layer.display_layer(norm_weight(W.T), filename='layer2_W_1_rho.png')"
   ]
  },
  {
   "cell_type": "markdown",
   "metadata": {},
   "source": [
    "##Восьмой пункт."
   ]
  },
  {
   "cell_type": "markdown",
   "metadata": {},
   "source": [
    "<font size=4, face=\"Times New Roman\"> Обучаем нейронную сеть на *unlabeled.pk* и дальше применяем классификаторы RandomForest и LogisticRegression. </font>"
   ]
  },
  {
   "cell_type": "code",
   "execution_count": 9,
   "metadata": {
    "collapsed": true
   },
   "outputs": [],
   "source": [
    "with open('train.pk', 'rb') as f:\n",
    "    train = pickle.load(f)"
   ]
  },
  {
   "cell_type": "code",
   "execution_count": 10,
   "metadata": {
    "collapsed": true
   },
   "outputs": [],
   "source": [
    "with open('test.pk', 'rb') as f:\n",
    "    test = pickle.load(f)"
   ]
  },
  {
   "cell_type": "code",
   "execution_count": 4,
   "metadata": {
    "collapsed": true
   },
   "outputs": [],
   "source": [
    "def image_patches(image, step, patch_size=8):\n",
    "    N, D = image.shape\n",
    "    d = int(np.sqrt(D / 3))\n",
    "    \n",
    "    n = int((d - patch_size) / step) + 1\n",
    "    patches = np.zeros((N, n, n, patch_size * patch_size * 3))\n",
    "    img = image.reshape((N, d, d, 3))\n",
    "    for i in range(n):\n",
    "        for j in range(n):\n",
    "            patch = img[: , i * step: i * step + patch_size, j * step: j * step + patch_size, :]     \n",
    "            patches[: , i, j, : ] = patch.reshape((N, patch_size * patch_size * 3))\n",
    "    return sample_patches.normalize_data(patches.reshape((N * n * n, patch_size * patch_size * 3)))"
   ]
  },
  {
   "cell_type": "markdown",
   "metadata": {},
   "source": [
    "<font size=3, face=\"Times New Roman\"> Примечание: время работы для выделения патчей оказалось долгим из-за того, что все патчи были не в основной памяти, а хранились в swap'e </font>"
   ]
  },
  {
   "cell_type": "markdown",
   "metadata": {},
   "source": [
    "<font size=5, face=\"Times New Roman\"> step = 32 </font>"
   ]
  },
  {
   "cell_type": "code",
   "execution_count": 101,
   "metadata": {
    "collapsed": false
   },
   "outputs": [
    {
     "name": "stdout",
     "output_type": "stream",
     "text": [
      "CPU times: user 280 ms, sys: 0 ns, total: 280 ms\n",
      "Wall time: 279 ms\n"
     ]
    }
   ],
   "source": [
    "step = 32\n",
    "%time patches = image_patches(train['X'], step)"
   ]
  },
  {
   "cell_type": "code",
   "execution_count": 102,
   "metadata": {
    "collapsed": false
   },
   "outputs": [
    {
     "name": "stdout",
     "output_type": "stream",
     "text": [
      "CPU times: user 764 ms, sys: 0 ns, total: 764 ms\n",
      "Wall time: 763 ms\n"
     ]
    }
   ],
   "source": [
    "layer_number = 2\n",
    "%time activation = autoencoder.autoencoder_transform(result['x'], visible_size, hidden_size, layer_number, patches)[0]"
   ]
  },
  {
   "cell_type": "code",
   "execution_count": 103,
   "metadata": {
    "collapsed": false
   },
   "outputs": [],
   "source": [
    "N, D = activation.shape\n",
    "n_samples = train['X'].shape[0]\n",
    "activation = activation.reshape((n_samples, N * D // n_samples))"
   ]
  },
  {
   "cell_type": "code",
   "execution_count": 5,
   "metadata": {
    "collapsed": true
   },
   "outputs": [],
   "source": [
    "from sklearn.ensemble import RandomForestClassifier as RFC\n",
    "from sklearn.linear_model import LogisticRegression as LR\n",
    "from sklearn.metrics import accuracy_score as accuracy"
   ]
  },
  {
   "cell_type": "code",
   "execution_count": 105,
   "metadata": {
    "collapsed": true
   },
   "outputs": [],
   "source": [
    "alg_RFC_1 = RFC(n_estimators=20)\n",
    "alg_LR_1 = LR()\n",
    "alg_RFC_2 = RFC(n_estimators=20)\n",
    "alg_LR_2 = LR()"
   ]
  },
  {
   "cell_type": "code",
   "execution_count": 106,
   "metadata": {
    "collapsed": false
   },
   "outputs": [],
   "source": [
    "#на признаках, выделенных автокодировщиком\n",
    "acc_RFC_1 = []\n",
    "acc_LR_1 = []\n",
    "\n",
    "#на исходных признаках (интенсивность каналов)\n",
    "acc_RFC_2 = []\n",
    "acc_LR_2 = []"
   ]
  },
  {
   "cell_type": "code",
   "execution_count": 107,
   "metadata": {
    "collapsed": false
   },
   "outputs": [
    {
     "name": "stdout",
     "output_type": "stream",
     "text": [
      "CPU times: user 2.26 s, sys: 0 ns, total: 2.26 s\n",
      "Wall time: 2.8 s\n"
     ]
    },
    {
     "data": {
      "text/plain": [
       "RandomForestClassifier(bootstrap=True, class_weight=None, criterion='gini',\n",
       "            max_depth=None, max_features='auto', max_leaf_nodes=None,\n",
       "            min_samples_leaf=1, min_samples_split=2,\n",
       "            min_weight_fraction_leaf=0.0, n_estimators=20, n_jobs=1,\n",
       "            oob_score=False, random_state=None, verbose=0,\n",
       "            warm_start=False)"
      ]
     },
     "execution_count": 107,
     "metadata": {},
     "output_type": "execute_result"
    }
   ],
   "source": [
    "%time alg_RFC_1.fit(activation, train['y'].reshape(train['y'].shape[0]))"
   ]
  },
  {
   "cell_type": "code",
   "execution_count": 108,
   "metadata": {
    "collapsed": false
   },
   "outputs": [
    {
     "name": "stdout",
     "output_type": "stream",
     "text": [
      "CPU times: user 12.5 s, sys: 0 ns, total: 12.5 s\n",
      "Wall time: 12.5 s\n"
     ]
    },
    {
     "data": {
      "text/plain": [
       "RandomForestClassifier(bootstrap=True, class_weight=None, criterion='gini',\n",
       "            max_depth=None, max_features='auto', max_leaf_nodes=None,\n",
       "            min_samples_leaf=1, min_samples_split=2,\n",
       "            min_weight_fraction_leaf=0.0, n_estimators=20, n_jobs=1,\n",
       "            oob_score=False, random_state=None, verbose=0,\n",
       "            warm_start=False)"
      ]
     },
     "execution_count": 108,
     "metadata": {},
     "output_type": "execute_result"
    }
   ],
   "source": [
    "%time alg_RFC_2.fit(train['X'], train['y'].reshape(train['y'].shape[0]))"
   ]
  },
  {
   "cell_type": "code",
   "execution_count": 109,
   "metadata": {
    "collapsed": false
   },
   "outputs": [
    {
     "name": "stdout",
     "output_type": "stream",
     "text": [
      "CPU times: user 4.03 s, sys: 7.64 ms, total: 4.04 s\n",
      "Wall time: 4.35 s\n"
     ]
    },
    {
     "data": {
      "text/plain": [
       "LogisticRegression(C=1.0, class_weight=None, dual=False, fit_intercept=True,\n",
       "          intercept_scaling=1, max_iter=100, multi_class='ovr',\n",
       "          penalty='l2', random_state=None, solver='liblinear', tol=0.0001,\n",
       "          verbose=0)"
      ]
     },
     "execution_count": 109,
     "metadata": {},
     "output_type": "execute_result"
    }
   ],
   "source": [
    "%time alg_LR_1.fit(activation, train['y'].reshape(train['y'].shape[0]))"
   ]
  },
  {
   "cell_type": "code",
   "execution_count": 110,
   "metadata": {
    "collapsed": false
   },
   "outputs": [
    {
     "name": "stdout",
     "output_type": "stream",
     "text": [
      "CPU times: user 23min 36s, sys: 1.6 s, total: 23min 38s\n",
      "Wall time: 27min 35s\n"
     ]
    },
    {
     "data": {
      "text/plain": [
       "LogisticRegression(C=1.0, class_weight=None, dual=False, fit_intercept=True,\n",
       "          intercept_scaling=1, max_iter=100, multi_class='ovr',\n",
       "          penalty='l2', random_state=None, solver='liblinear', tol=0.0001,\n",
       "          verbose=0)"
      ]
     },
     "execution_count": 110,
     "metadata": {},
     "output_type": "execute_result"
    }
   ],
   "source": [
    "%time alg_LR_2.fit(train['X'], train['y'].reshape(train['y'].shape[0]))"
   ]
  },
  {
   "cell_type": "code",
   "execution_count": 111,
   "metadata": {
    "collapsed": false
   },
   "outputs": [
    {
     "name": "stdout",
     "output_type": "stream",
     "text": [
      "CPU times: user 461 ms, sys: 169 ms, total: 630 ms\n",
      "Wall time: 21.3 s\n"
     ]
    }
   ],
   "source": [
    "%time patches = image_patches(test['X'], step)"
   ]
  },
  {
   "cell_type": "code",
   "execution_count": 112,
   "metadata": {
    "collapsed": false
   },
   "outputs": [
    {
     "name": "stdout",
     "output_type": "stream",
     "text": [
      "CPU times: user 1.27 s, sys: 20 ms, total: 1.29 s\n",
      "Wall time: 2.71 s\n"
     ]
    }
   ],
   "source": [
    "layer_number = 2\n",
    "%time activation = autoencoder.autoencoder_transform(result['x'], visible_size, hidden_size, layer_number, patches)[0]"
   ]
  },
  {
   "cell_type": "code",
   "execution_count": 113,
   "metadata": {
    "collapsed": true
   },
   "outputs": [],
   "source": [
    "N, D = activation.shape\n",
    "n_samples = test['X'].shape[0]\n",
    "activation = activation.reshape((n_samples, N * D // n_samples))"
   ]
  },
  {
   "cell_type": "code",
   "execution_count": 114,
   "metadata": {
    "collapsed": false
   },
   "outputs": [
    {
     "name": "stdout",
     "output_type": "stream",
     "text": [
      "CPU times: user 81 ms, sys: 20 ms, total: 101 ms\n",
      "Wall time: 2.45 s\n"
     ]
    }
   ],
   "source": [
    "%time y_predict_RFC_1 = alg_RFC_1.predict(activation)"
   ]
  },
  {
   "cell_type": "code",
   "execution_count": 115,
   "metadata": {
    "collapsed": false
   },
   "outputs": [
    {
     "name": "stdout",
     "output_type": "stream",
     "text": [
      "CPU times: user 455 ms, sys: 91.9 ms, total: 547 ms\n",
      "Wall time: 13.5 s\n"
     ]
    }
   ],
   "source": [
    "%time y_predict_RFC_2 = alg_RFC_2.predict(test['X'])"
   ]
  },
  {
   "cell_type": "code",
   "execution_count": 116,
   "metadata": {
    "collapsed": false
   },
   "outputs": [
    {
     "name": "stdout",
     "output_type": "stream",
     "text": [
      "CPU times: user 28.6 ms, sys: 0 ns, total: 28.6 ms\n",
      "Wall time: 1.69 s\n"
     ]
    }
   ],
   "source": [
    "%time y_predict_LR_1 = alg_LR_1.predict(activation)"
   ]
  },
  {
   "cell_type": "code",
   "execution_count": 117,
   "metadata": {
    "collapsed": false
   },
   "outputs": [
    {
     "name": "stdout",
     "output_type": "stream",
     "text": [
      "CPU times: user 1.56 s, sys: 1.04 s, total: 2.59 s\n",
      "Wall time: 2min 22s\n"
     ]
    }
   ],
   "source": [
    "%time y_predict_LR_2 = alg_LR_2.predict(test['X'])"
   ]
  },
  {
   "cell_type": "code",
   "execution_count": 118,
   "metadata": {
    "collapsed": true
   },
   "outputs": [],
   "source": [
    "acc_RFC_1.append(accuracy(test['y'].reshape(test['y'].shape[0]), y_predict_RFC_1))\n",
    "acc_LR_1.append(accuracy(test['y'].reshape(test['y'].shape[0]), y_predict_LR_1))\n",
    "acc_RFC_2.append(accuracy(test['y'].reshape(test['y'].shape[0]), y_predict_RFC_2))\n",
    "acc_LR_2.append(accuracy(test['y'].reshape(test['y'].shape[0]), y_predict_LR_2))"
   ]
  },
  {
   "cell_type": "markdown",
   "metadata": {},
   "source": [
    "<font size=5, face=\"Times New Roman\"> step = 28 </font>"
   ]
  },
  {
   "cell_type": "code",
   "execution_count": 119,
   "metadata": {
    "collapsed": false
   },
   "outputs": [
    {
     "name": "stdout",
     "output_type": "stream",
     "text": [
      "CPU times: user 490 ms, sys: 425 ms, total: 915 ms\n",
      "Wall time: 1min 6s\n"
     ]
    }
   ],
   "source": [
    "step = 28\n",
    "%time patches = image_patches(train['X'], step)"
   ]
  },
  {
   "cell_type": "code",
   "execution_count": 120,
   "metadata": {
    "collapsed": false
   },
   "outputs": [
    {
     "name": "stdout",
     "output_type": "stream",
     "text": [
      "CPU times: user 1.49 s, sys: 121 ms, total: 1.62 s\n",
      "Wall time: 21 s\n"
     ]
    }
   ],
   "source": [
    "layer_number = 2\n",
    "%time activation = autoencoder.autoencoder_transform(result['x'], visible_size, hidden_size, layer_number, patches)[0]"
   ]
  },
  {
   "cell_type": "code",
   "execution_count": 121,
   "metadata": {
    "collapsed": true
   },
   "outputs": [],
   "source": [
    "N, D = activation.shape\n",
    "n_samples = train['X'].shape[0]\n",
    "activation = activation.reshape((n_samples, N * D // n_samples))"
   ]
  },
  {
   "cell_type": "code",
   "execution_count": 122,
   "metadata": {
    "collapsed": false
   },
   "outputs": [
    {
     "name": "stdout",
     "output_type": "stream",
     "text": [
      "CPU times: user 3.03 s, sys: 28.2 ms, total: 3.06 s\n",
      "Wall time: 14.2 s\n"
     ]
    },
    {
     "data": {
      "text/plain": [
       "RandomForestClassifier(bootstrap=True, class_weight=None, criterion='gini',\n",
       "            max_depth=None, max_features='auto', max_leaf_nodes=None,\n",
       "            min_samples_leaf=1, min_samples_split=2,\n",
       "            min_weight_fraction_leaf=0.0, n_estimators=20, n_jobs=1,\n",
       "            oob_score=False, random_state=None, verbose=0,\n",
       "            warm_start=False)"
      ]
     },
     "execution_count": 122,
     "metadata": {},
     "output_type": "execute_result"
    }
   ],
   "source": [
    "%time alg_RFC_1.fit(activation, train['y'].reshape(train['y'].shape[0]))"
   ]
  },
  {
   "cell_type": "code",
   "execution_count": 123,
   "metadata": {
    "collapsed": false
   },
   "outputs": [
    {
     "name": "stdout",
     "output_type": "stream",
     "text": [
      "CPU times: user 6.56 s, sys: 28.1 ms, total: 6.59 s\n",
      "Wall time: 12.9 s\n"
     ]
    },
    {
     "data": {
      "text/plain": [
       "LogisticRegression(C=1.0, class_weight=None, dual=False, fit_intercept=True,\n",
       "          intercept_scaling=1, max_iter=100, multi_class='ovr',\n",
       "          penalty='l2', random_state=None, solver='liblinear', tol=0.0001,\n",
       "          verbose=0)"
      ]
     },
     "execution_count": 123,
     "metadata": {},
     "output_type": "execute_result"
    }
   ],
   "source": [
    "%time alg_LR_1.fit(activation, train['y'].reshape(train['y'].shape[0]))"
   ]
  },
  {
   "cell_type": "code",
   "execution_count": 124,
   "metadata": {
    "collapsed": false
   },
   "outputs": [
    {
     "name": "stdout",
     "output_type": "stream",
     "text": [
      "CPU times: user 760 ms, sys: 405 ms, total: 1.17 s\n",
      "Wall time: 1min 42s\n"
     ]
    }
   ],
   "source": [
    "%time patches = image_patches(test['X'], step)"
   ]
  },
  {
   "cell_type": "code",
   "execution_count": 125,
   "metadata": {
    "collapsed": false
   },
   "outputs": [
    {
     "name": "stdout",
     "output_type": "stream",
     "text": [
      "CPU times: user 2.24 s, sys: 92.3 ms, total: 2.33 s\n",
      "Wall time: 17.9 s\n"
     ]
    }
   ],
   "source": [
    "%time activation = autoencoder.autoencoder_transform(result['x'], visible_size, hidden_size, layer_number, patches)[0]"
   ]
  },
  {
   "cell_type": "code",
   "execution_count": 126,
   "metadata": {
    "collapsed": true
   },
   "outputs": [],
   "source": [
    "N, D = activation.shape\n",
    "n_samples = test['X'].shape[0]\n",
    "activation = activation.reshape((n_samples, N * D // n_samples))"
   ]
  },
  {
   "cell_type": "code",
   "execution_count": 127,
   "metadata": {
    "collapsed": false
   },
   "outputs": [
    {
     "name": "stdout",
     "output_type": "stream",
     "text": [
      "CPU times: user 106 ms, sys: 187 µs, total: 106 ms\n",
      "Wall time: 3.94 s\n"
     ]
    }
   ],
   "source": [
    "%time y_predict_RFC_1 = alg_RFC_1.predict(activation)"
   ]
  },
  {
   "cell_type": "code",
   "execution_count": 128,
   "metadata": {
    "collapsed": false
   },
   "outputs": [
    {
     "name": "stdout",
     "output_type": "stream",
     "text": [
      "CPU times: user 44.7 ms, sys: 0 ns, total: 44.7 ms\n",
      "Wall time: 605 ms\n"
     ]
    }
   ],
   "source": [
    "%time y_predict_LR_1 = alg_LR_1.predict(activation)"
   ]
  },
  {
   "cell_type": "code",
   "execution_count": 129,
   "metadata": {
    "collapsed": true
   },
   "outputs": [],
   "source": [
    "acc_RFC_1.append(accuracy(test['y'].reshape(test['y'].shape[0]), y_predict_RFC_1))\n",
    "acc_LR_1.append(accuracy(test['y'].reshape(test['y'].shape[0]), y_predict_LR_1))"
   ]
  },
  {
   "cell_type": "markdown",
   "metadata": {},
   "source": [
    "<font size=5, face=\"Times New Roman\"> step = 24 </font>"
   ]
  },
  {
   "cell_type": "code",
   "execution_count": 130,
   "metadata": {
    "collapsed": false
   },
   "outputs": [
    {
     "name": "stdout",
     "output_type": "stream",
     "text": [
      "CPU times: user 479 ms, sys: 36.2 ms, total: 516 ms\n",
      "Wall time: 24 s\n"
     ]
    }
   ],
   "source": [
    "step = 24\n",
    "%time patches = image_patches(train['X'], step)"
   ]
  },
  {
   "cell_type": "code",
   "execution_count": 131,
   "metadata": {
    "collapsed": false
   },
   "outputs": [
    {
     "name": "stdout",
     "output_type": "stream",
     "text": [
      "CPU times: user 1.4 s, sys: 24.3 ms, total: 1.43 s\n",
      "Wall time: 10.5 s\n"
     ]
    }
   ],
   "source": [
    "layer_number = 2\n",
    "%time activation = autoencoder.autoencoder_transform(result['x'], visible_size, hidden_size, layer_number, patches)[0]"
   ]
  },
  {
   "cell_type": "code",
   "execution_count": 132,
   "metadata": {
    "collapsed": true
   },
   "outputs": [],
   "source": [
    "N, D = activation.shape\n",
    "n_samples = train['X'].shape[0]\n",
    "activation = activation.reshape((n_samples, N * D // n_samples))"
   ]
  },
  {
   "cell_type": "code",
   "execution_count": 133,
   "metadata": {
    "collapsed": false
   },
   "outputs": [
    {
     "name": "stdout",
     "output_type": "stream",
     "text": [
      "CPU times: user 2.99 s, sys: 4.01 ms, total: 2.99 s\n",
      "Wall time: 4.19 s\n"
     ]
    },
    {
     "data": {
      "text/plain": [
       "RandomForestClassifier(bootstrap=True, class_weight=None, criterion='gini',\n",
       "            max_depth=None, max_features='auto', max_leaf_nodes=None,\n",
       "            min_samples_leaf=1, min_samples_split=2,\n",
       "            min_weight_fraction_leaf=0.0, n_estimators=20, n_jobs=1,\n",
       "            oob_score=False, random_state=None, verbose=0,\n",
       "            warm_start=False)"
      ]
     },
     "execution_count": 133,
     "metadata": {},
     "output_type": "execute_result"
    }
   ],
   "source": [
    "%time alg_RFC_1.fit(activation, train['y'].reshape(train['y'].shape[0]))"
   ]
  },
  {
   "cell_type": "code",
   "execution_count": 134,
   "metadata": {
    "collapsed": false
   },
   "outputs": [
    {
     "name": "stdout",
     "output_type": "stream",
     "text": [
      "CPU times: user 6.41 s, sys: 0 ns, total: 6.41 s\n",
      "Wall time: 7.01 s\n"
     ]
    },
    {
     "data": {
      "text/plain": [
       "LogisticRegression(C=1.0, class_weight=None, dual=False, fit_intercept=True,\n",
       "          intercept_scaling=1, max_iter=100, multi_class='ovr',\n",
       "          penalty='l2', random_state=None, solver='liblinear', tol=0.0001,\n",
       "          verbose=0)"
      ]
     },
     "execution_count": 134,
     "metadata": {},
     "output_type": "execute_result"
    }
   ],
   "source": [
    "%time alg_LR_1.fit(activation, train['y'].reshape(train['y'].shape[0]))"
   ]
  },
  {
   "cell_type": "code",
   "execution_count": 135,
   "metadata": {
    "collapsed": false
   },
   "outputs": [
    {
     "name": "stdout",
     "output_type": "stream",
     "text": [
      "CPU times: user 922 ms, sys: 88.8 ms, total: 1.01 s\n",
      "Wall time: 58 s\n"
     ]
    }
   ],
   "source": [
    "%time patches = image_patches(test['X'], step)"
   ]
  },
  {
   "cell_type": "code",
   "execution_count": 136,
   "metadata": {
    "collapsed": false
   },
   "outputs": [
    {
     "name": "stdout",
     "output_type": "stream",
     "text": [
      "CPU times: user 2.69 s, sys: 3.95 ms, total: 2.69 s\n",
      "Wall time: 3.24 s\n"
     ]
    }
   ],
   "source": [
    "%time activation = autoencoder.autoencoder_transform(result['x'], visible_size, hidden_size, layer_number, patches)[0]"
   ]
  },
  {
   "cell_type": "code",
   "execution_count": 137,
   "metadata": {
    "collapsed": true
   },
   "outputs": [],
   "source": [
    "N, D = activation.shape\n",
    "n_samples = test['X'].shape[0]\n",
    "activation = activation.reshape((n_samples, N * D // n_samples))"
   ]
  },
  {
   "cell_type": "code",
   "execution_count": 138,
   "metadata": {
    "collapsed": false
   },
   "outputs": [
    {
     "name": "stdout",
     "output_type": "stream",
     "text": [
      "CPU times: user 86.4 ms, sys: 3.99 ms, total: 90.3 ms\n",
      "Wall time: 293 ms\n"
     ]
    }
   ],
   "source": [
    "%time y_predict_RFC_1 = alg_RFC_1.predict(activation)"
   ]
  },
  {
   "cell_type": "code",
   "execution_count": 139,
   "metadata": {
    "collapsed": false
   },
   "outputs": [
    {
     "name": "stdout",
     "output_type": "stream",
     "text": [
      "CPU times: user 41.2 ms, sys: 0 ns, total: 41.2 ms\n",
      "Wall time: 40.8 ms\n"
     ]
    }
   ],
   "source": [
    "%time y_predict_LR_1 = alg_LR_1.predict(activation)"
   ]
  },
  {
   "cell_type": "code",
   "execution_count": 140,
   "metadata": {
    "collapsed": true
   },
   "outputs": [],
   "source": [
    "acc_RFC_1.append(accuracy(test['y'].reshape(test['y'].shape[0]), y_predict_RFC_1))\n",
    "acc_LR_1.append(accuracy(test['y'].reshape(test['y'].shape[0]), y_predict_LR_1))"
   ]
  },
  {
   "cell_type": "markdown",
   "metadata": {},
   "source": [
    "<font size=5, face=\"Times New Roman\"> step = 20 </font>"
   ]
  },
  {
   "cell_type": "code",
   "execution_count": 141,
   "metadata": {
    "collapsed": false
   },
   "outputs": [
    {
     "name": "stdout",
     "output_type": "stream",
     "text": [
      "CPU times: user 702 ms, sys: 132 ms, total: 834 ms\n",
      "Wall time: 31 s\n"
     ]
    }
   ],
   "source": [
    "step = 20\n",
    "%time patches = image_patches(train['X'], step)"
   ]
  },
  {
   "cell_type": "code",
   "execution_count": 142,
   "metadata": {
    "collapsed": false
   },
   "outputs": [
    {
     "name": "stdout",
     "output_type": "stream",
     "text": [
      "CPU times: user 2.66 s, sys: 180 ms, total: 2.84 s\n",
      "Wall time: 30.8 s\n"
     ]
    }
   ],
   "source": [
    "layer_number = 2\n",
    "%time activation = autoencoder.autoencoder_transform(result['x'], visible_size, hidden_size, layer_number, patches)[0]"
   ]
  },
  {
   "cell_type": "code",
   "execution_count": 143,
   "metadata": {
    "collapsed": true
   },
   "outputs": [],
   "source": [
    "N, D = activation.shape\n",
    "n_samples = train['X'].shape[0]\n",
    "activation = activation.reshape((n_samples, N * D // n_samples))"
   ]
  },
  {
   "cell_type": "code",
   "execution_count": 144,
   "metadata": {
    "collapsed": false
   },
   "outputs": [
    {
     "name": "stdout",
     "output_type": "stream",
     "text": [
      "CPU times: user 4.16 s, sys: 0 ns, total: 4.16 s\n",
      "Wall time: 4.63 s\n"
     ]
    },
    {
     "data": {
      "text/plain": [
       "RandomForestClassifier(bootstrap=True, class_weight=None, criterion='gini',\n",
       "            max_depth=None, max_features='auto', max_leaf_nodes=None,\n",
       "            min_samples_leaf=1, min_samples_split=2,\n",
       "            min_weight_fraction_leaf=0.0, n_estimators=20, n_jobs=1,\n",
       "            oob_score=False, random_state=None, verbose=0,\n",
       "            warm_start=False)"
      ]
     },
     "execution_count": 144,
     "metadata": {},
     "output_type": "execute_result"
    }
   ],
   "source": [
    "%time alg_RFC_1.fit(activation, train['y'].reshape(train['y'].shape[0]))"
   ]
  },
  {
   "cell_type": "code",
   "execution_count": 145,
   "metadata": {
    "collapsed": false
   },
   "outputs": [
    {
     "name": "stdout",
     "output_type": "stream",
     "text": [
      "CPU times: user 11.7 s, sys: 23.9 ms, total: 11.7 s\n",
      "Wall time: 15.1 s\n"
     ]
    },
    {
     "data": {
      "text/plain": [
       "LogisticRegression(C=1.0, class_weight=None, dual=False, fit_intercept=True,\n",
       "          intercept_scaling=1, max_iter=100, multi_class='ovr',\n",
       "          penalty='l2', random_state=None, solver='liblinear', tol=0.0001,\n",
       "          verbose=0)"
      ]
     },
     "execution_count": 145,
     "metadata": {},
     "output_type": "execute_result"
    }
   ],
   "source": [
    "%time alg_LR_1.fit(activation, train['y'].reshape(train['y'].shape[0]))"
   ]
  },
  {
   "cell_type": "code",
   "execution_count": 146,
   "metadata": {
    "collapsed": false
   },
   "outputs": [
    {
     "name": "stdout",
     "output_type": "stream",
     "text": [
      "CPU times: user 1.28 s, sys: 317 ms, total: 1.6 s\n",
      "Wall time: 42.9 s\n"
     ]
    }
   ],
   "source": [
    "%time patches = image_patches(test['X'], step)"
   ]
  },
  {
   "cell_type": "code",
   "execution_count": 147,
   "metadata": {
    "collapsed": false
   },
   "outputs": [
    {
     "name": "stdout",
     "output_type": "stream",
     "text": [
      "CPU times: user 3.76 s, sys: 201 ms, total: 3.96 s\n",
      "Wall time: 22.1 s\n"
     ]
    }
   ],
   "source": [
    "%time activation = autoencoder.autoencoder_transform(result['x'], visible_size, hidden_size, layer_number, patches)[0]"
   ]
  },
  {
   "cell_type": "code",
   "execution_count": 148,
   "metadata": {
    "collapsed": true
   },
   "outputs": [],
   "source": [
    "N, D = activation.shape\n",
    "n_samples = test['X'].shape[0]\n",
    "activation = activation.reshape((n_samples, N * D // n_samples))"
   ]
  },
  {
   "cell_type": "code",
   "execution_count": 149,
   "metadata": {
    "collapsed": false
   },
   "outputs": [
    {
     "name": "stdout",
     "output_type": "stream",
     "text": [
      "CPU times: user 116 ms, sys: 0 ns, total: 116 ms\n",
      "Wall time: 1.05 s\n"
     ]
    }
   ],
   "source": [
    "%time y_predict_RFC_1 = alg_RFC_1.predict(activation)"
   ]
  },
  {
   "cell_type": "code",
   "execution_count": 150,
   "metadata": {
    "collapsed": false
   },
   "outputs": [
    {
     "name": "stdout",
     "output_type": "stream",
     "text": [
      "CPU times: user 65.7 ms, sys: 0 ns, total: 65.7 ms\n",
      "Wall time: 416 ms\n"
     ]
    }
   ],
   "source": [
    "%time y_predict_LR_1 = alg_LR_1.predict(activation)"
   ]
  },
  {
   "cell_type": "code",
   "execution_count": 151,
   "metadata": {
    "collapsed": true
   },
   "outputs": [],
   "source": [
    "acc_RFC_1.append(accuracy(test['y'].reshape(test['y'].shape[0]), y_predict_RFC_1))\n",
    "acc_LR_1.append(accuracy(test['y'].reshape(test['y'].shape[0]), y_predict_LR_1))"
   ]
  },
  {
   "cell_type": "markdown",
   "metadata": {},
   "source": [
    "<font size=5, face=\"Times New Roman\"> step = 16 </font>"
   ]
  },
  {
   "cell_type": "code",
   "execution_count": 152,
   "metadata": {
    "collapsed": false
   },
   "outputs": [
    {
     "name": "stdout",
     "output_type": "stream",
     "text": [
      "CPU times: user 1.03 s, sys: 24.5 ms, total: 1.05 s\n",
      "Wall time: 10.2 s\n"
     ]
    }
   ],
   "source": [
    "step = 16\n",
    "%time patches = image_patches(train['X'], step)"
   ]
  },
  {
   "cell_type": "code",
   "execution_count": 153,
   "metadata": {
    "collapsed": false
   },
   "outputs": [
    {
     "name": "stdout",
     "output_type": "stream",
     "text": [
      "CPU times: user 3.17 s, sys: 0 ns, total: 3.17 s\n",
      "Wall time: 3.3 s\n"
     ]
    }
   ],
   "source": [
    "layer_number = 2\n",
    "%time activation = autoencoder.autoencoder_transform(result['x'], visible_size, hidden_size, layer_number, patches)[0]"
   ]
  },
  {
   "cell_type": "code",
   "execution_count": 154,
   "metadata": {
    "collapsed": true
   },
   "outputs": [],
   "source": [
    "N, D = activation.shape\n",
    "n_samples = train['X'].shape[0]\n",
    "activation = activation.reshape((n_samples, N * D // n_samples))"
   ]
  },
  {
   "cell_type": "code",
   "execution_count": 155,
   "metadata": {
    "collapsed": false
   },
   "outputs": [
    {
     "name": "stdout",
     "output_type": "stream",
     "text": [
      "CPU times: user 4.57 s, sys: 3.98 ms, total: 4.58 s\n",
      "Wall time: 6.22 s\n"
     ]
    },
    {
     "data": {
      "text/plain": [
       "RandomForestClassifier(bootstrap=True, class_weight=None, criterion='gini',\n",
       "            max_depth=None, max_features='auto', max_leaf_nodes=None,\n",
       "            min_samples_leaf=1, min_samples_split=2,\n",
       "            min_weight_fraction_leaf=0.0, n_estimators=20, n_jobs=1,\n",
       "            oob_score=False, random_state=None, verbose=0,\n",
       "            warm_start=False)"
      ]
     },
     "execution_count": 155,
     "metadata": {},
     "output_type": "execute_result"
    }
   ],
   "source": [
    "%time alg_RFC_1.fit(activation, train['y'].reshape(train['y'].shape[0]))"
   ]
  },
  {
   "cell_type": "code",
   "execution_count": 156,
   "metadata": {
    "collapsed": false
   },
   "outputs": [
    {
     "name": "stdout",
     "output_type": "stream",
     "text": [
      "CPU times: user 16.3 s, sys: 3.84 ms, total: 16.3 s\n",
      "Wall time: 17.5 s\n"
     ]
    },
    {
     "data": {
      "text/plain": [
       "LogisticRegression(C=1.0, class_weight=None, dual=False, fit_intercept=True,\n",
       "          intercept_scaling=1, max_iter=100, multi_class='ovr',\n",
       "          penalty='l2', random_state=None, solver='liblinear', tol=0.0001,\n",
       "          verbose=0)"
      ]
     },
     "execution_count": 156,
     "metadata": {},
     "output_type": "execute_result"
    }
   ],
   "source": [
    "%time alg_LR_1.fit(activation, train['y'].reshape(train['y'].shape[0]))"
   ]
  },
  {
   "cell_type": "code",
   "execution_count": 157,
   "metadata": {
    "collapsed": false
   },
   "outputs": [
    {
     "name": "stdout",
     "output_type": "stream",
     "text": [
      "CPU times: user 1.68 s, sys: 169 ms, total: 1.85 s\n",
      "Wall time: 37.1 s\n"
     ]
    }
   ],
   "source": [
    "%time patches = image_patches(test['X'], step)"
   ]
  },
  {
   "cell_type": "code",
   "execution_count": 158,
   "metadata": {
    "collapsed": false
   },
   "outputs": [
    {
     "name": "stdout",
     "output_type": "stream",
     "text": [
      "CPU times: user 5.48 s, sys: 929 ms, total: 6.41 s\n",
      "Wall time: 3min 11s\n"
     ]
    }
   ],
   "source": [
    "%time activation = autoencoder.autoencoder_transform(result['x'], visible_size, hidden_size, layer_number, patches)[0]"
   ]
  },
  {
   "cell_type": "code",
   "execution_count": 159,
   "metadata": {
    "collapsed": true
   },
   "outputs": [],
   "source": [
    "N, D = activation.shape\n",
    "n_samples = test['X'].shape[0]\n",
    "activation = activation.reshape((n_samples, N * D // n_samples))"
   ]
  },
  {
   "cell_type": "code",
   "execution_count": 160,
   "metadata": {
    "collapsed": false
   },
   "outputs": [
    {
     "name": "stdout",
     "output_type": "stream",
     "text": [
      "CPU times: user 198 ms, sys: 56.4 ms, total: 255 ms\n",
      "Wall time: 21.3 s\n"
     ]
    }
   ],
   "source": [
    "%time y_predict_RFC_1 = alg_RFC_1.predict(activation)"
   ]
  },
  {
   "cell_type": "code",
   "execution_count": 161,
   "metadata": {
    "collapsed": false
   },
   "outputs": [
    {
     "name": "stdout",
     "output_type": "stream",
     "text": [
      "CPU times: user 95.3 ms, sys: 0 ns, total: 95.3 ms\n",
      "Wall time: 887 ms\n"
     ]
    }
   ],
   "source": [
    "%time y_predict_LR_1 = alg_LR_1.predict(activation)"
   ]
  },
  {
   "cell_type": "code",
   "execution_count": 162,
   "metadata": {
    "collapsed": true
   },
   "outputs": [],
   "source": [
    "acc_RFC_1.append(accuracy(test['y'].reshape(test['y'].shape[0]), y_predict_RFC_1))\n",
    "acc_LR_1.append(accuracy(test['y'].reshape(test['y'].shape[0]), y_predict_LR_1))"
   ]
  },
  {
   "cell_type": "markdown",
   "metadata": {},
   "source": [
    "<font size=5, face=\"Times New Roman\"> step = 12 </font>"
   ]
  },
  {
   "cell_type": "code",
   "execution_count": 163,
   "metadata": {
    "collapsed": false
   },
   "outputs": [
    {
     "name": "stdout",
     "output_type": "stream",
     "text": [
      "CPU times: user 1.82 s, sys: 318 ms, total: 2.14 s\n",
      "Wall time: 1min 9s\n"
     ]
    }
   ],
   "source": [
    "step = 12\n",
    "%time patches = image_patches(train['X'], step)"
   ]
  },
  {
   "cell_type": "code",
   "execution_count": 164,
   "metadata": {
    "collapsed": false
   },
   "outputs": [
    {
     "name": "stdout",
     "output_type": "stream",
     "text": [
      "CPU times: user 6.04 s, sys: 772 ms, total: 6.81 s\n",
      "Wall time: 2min 9s\n"
     ]
    }
   ],
   "source": [
    "layer_number = 2\n",
    "%time activation = autoencoder.autoencoder_transform(result['x'], visible_size, hidden_size, layer_number, patches)[0]"
   ]
  },
  {
   "cell_type": "code",
   "execution_count": 165,
   "metadata": {
    "collapsed": true
   },
   "outputs": [],
   "source": [
    "N, D = activation.shape\n",
    "n_samples = train['X'].shape[0]\n",
    "activation = activation.reshape((n_samples, N * D // n_samples))"
   ]
  },
  {
   "cell_type": "code",
   "execution_count": 166,
   "metadata": {
    "collapsed": false
   },
   "outputs": [
    {
     "name": "stdout",
     "output_type": "stream",
     "text": [
      "CPU times: user 6.31 s, sys: 48.3 ms, total: 6.36 s\n",
      "Wall time: 20.4 s\n"
     ]
    },
    {
     "data": {
      "text/plain": [
       "RandomForestClassifier(bootstrap=True, class_weight=None, criterion='gini',\n",
       "            max_depth=None, max_features='auto', max_leaf_nodes=None,\n",
       "            min_samples_leaf=1, min_samples_split=2,\n",
       "            min_weight_fraction_leaf=0.0, n_estimators=20, n_jobs=1,\n",
       "            oob_score=False, random_state=None, verbose=0,\n",
       "            warm_start=False)"
      ]
     },
     "execution_count": 166,
     "metadata": {},
     "output_type": "execute_result"
    }
   ],
   "source": [
    "%time alg_RFC_1.fit(activation, train['y'].reshape(train['y'].shape[0]))"
   ]
  },
  {
   "cell_type": "code",
   "execution_count": 167,
   "metadata": {
    "collapsed": false
   },
   "outputs": [
    {
     "name": "stdout",
     "output_type": "stream",
     "text": [
      "CPU times: user 33.6 s, sys: 141 ms, total: 33.7 s\n",
      "Wall time: 1min 3s\n"
     ]
    },
    {
     "data": {
      "text/plain": [
       "LogisticRegression(C=1.0, class_weight=None, dual=False, fit_intercept=True,\n",
       "          intercept_scaling=1, max_iter=100, multi_class='ovr',\n",
       "          penalty='l2', random_state=None, solver='liblinear', tol=0.0001,\n",
       "          verbose=0)"
      ]
     },
     "execution_count": 167,
     "metadata": {},
     "output_type": "execute_result"
    }
   ],
   "source": [
    "%time alg_LR_1.fit(activation, train['y'].reshape(train['y'].shape[0]))"
   ]
  },
  {
   "cell_type": "code",
   "execution_count": 168,
   "metadata": {
    "collapsed": false
   },
   "outputs": [
    {
     "name": "stdout",
     "output_type": "stream",
     "text": [
      "CPU times: user 2.82 s, sys: 2.55 s, total: 5.37 s\n",
      "Wall time: 3min 32s\n"
     ]
    }
   ],
   "source": [
    "%time patches = image_patches(test['X'], step)"
   ]
  },
  {
   "cell_type": "code",
   "execution_count": 169,
   "metadata": {
    "collapsed": false
   },
   "outputs": [
    {
     "name": "stdout",
     "output_type": "stream",
     "text": [
      "CPU times: user 9.47 s, sys: 3.58 s, total: 13 s\n",
      "Wall time: 5min 7s\n"
     ]
    }
   ],
   "source": [
    "%time activation = autoencoder.autoencoder_transform(result['x'], visible_size, hidden_size, layer_number, patches)[0]"
   ]
  },
  {
   "cell_type": "code",
   "execution_count": 170,
   "metadata": {
    "collapsed": true
   },
   "outputs": [],
   "source": [
    "N, D = activation.shape\n",
    "n_samples = test['X'].shape[0]\n",
    "activation = activation.reshape((n_samples, N * D // n_samples))"
   ]
  },
  {
   "cell_type": "code",
   "execution_count": 171,
   "metadata": {
    "collapsed": false
   },
   "outputs": [
    {
     "name": "stdout",
     "output_type": "stream",
     "text": [
      "CPU times: user 249 ms, sys: 173 ms, total: 423 ms\n",
      "Wall time: 53.5 s\n"
     ]
    }
   ],
   "source": [
    "%time y_predict_RFC_1 = alg_RFC_1.predict(activation)"
   ]
  },
  {
   "cell_type": "code",
   "execution_count": 172,
   "metadata": {
    "collapsed": false
   },
   "outputs": [
    {
     "name": "stdout",
     "output_type": "stream",
     "text": [
      "CPU times: user 168 ms, sys: 1e+03 ns, total: 168 ms\n",
      "Wall time: 1.02 s\n"
     ]
    }
   ],
   "source": [
    "%time y_predict_LR_1 = alg_LR_1.predict(activation)"
   ]
  },
  {
   "cell_type": "code",
   "execution_count": 173,
   "metadata": {
    "collapsed": true
   },
   "outputs": [],
   "source": [
    "acc_RFC_1.append(accuracy(test['y'].reshape(test['y'].shape[0]), y_predict_RFC_1))\n",
    "acc_LR_1.append(accuracy(test['y'].reshape(test['y'].shape[0]), y_predict_LR_1))"
   ]
  },
  {
   "cell_type": "markdown",
   "metadata": {},
   "source": [
    "<font size=5, face=\"Times New Roman\"> step = 8 </font>"
   ]
  },
  {
   "cell_type": "code",
   "execution_count": 194,
   "metadata": {
    "collapsed": false
   },
   "outputs": [
    {
     "name": "stdout",
     "output_type": "stream",
     "text": [
      "CPU times: user 3.36 s, sys: 6.22 s, total: 9.58 s\n",
      "Wall time: 2min 48s\n"
     ]
    }
   ],
   "source": [
    "step = 8\n",
    "%time patches = image_patches(train['X'], step)"
   ]
  },
  {
   "cell_type": "code",
   "execution_count": 195,
   "metadata": {
    "collapsed": false
   },
   "outputs": [
    {
     "name": "stdout",
     "output_type": "stream",
     "text": [
      "CPU times: user 13.8 s, sys: 6.07 s, total: 19.9 s\n",
      "Wall time: 11min\n"
     ]
    }
   ],
   "source": [
    "layer_number = 2\n",
    "%time activation = autoencoder.autoencoder_transform(result['x'], visible_size, hidden_size, layer_number, patches)[0]"
   ]
  },
  {
   "cell_type": "code",
   "execution_count": 196,
   "metadata": {
    "collapsed": true
   },
   "outputs": [],
   "source": [
    "N, D = activation.shape\n",
    "n_samples = train['X'].shape[0]\n",
    "activation = activation.reshape((n_samples, N * D // n_samples))"
   ]
  },
  {
   "cell_type": "code",
   "execution_count": 197,
   "metadata": {
    "collapsed": false
   },
   "outputs": [
    {
     "name": "stdout",
     "output_type": "stream",
     "text": [
      "CPU times: user 9.7 s, sys: 157 ms, total: 9.85 s\n",
      "Wall time: 23.4 s\n"
     ]
    },
    {
     "data": {
      "text/plain": [
       "RandomForestClassifier(bootstrap=True, class_weight=None, criterion='gini',\n",
       "            max_depth=None, max_features='auto', max_leaf_nodes=None,\n",
       "            min_samples_leaf=1, min_samples_split=2,\n",
       "            min_weight_fraction_leaf=0.0, n_estimators=20, n_jobs=1,\n",
       "            oob_score=False, random_state=None, verbose=0,\n",
       "            warm_start=False)"
      ]
     },
     "execution_count": 197,
     "metadata": {},
     "output_type": "execute_result"
    }
   ],
   "source": [
    "%time alg_RFC_1.fit(activation, train['y'].reshape(train['y'].shape[0]))"
   ]
  },
  {
   "cell_type": "code",
   "execution_count": 198,
   "metadata": {
    "collapsed": false
   },
   "outputs": [
    {
     "name": "stdout",
     "output_type": "stream",
     "text": [
      "CPU times: user 1min 30s, sys: 332 ms, total: 1min 30s\n",
      "Wall time: 2min\n"
     ]
    },
    {
     "data": {
      "text/plain": [
       "LogisticRegression(C=1.0, class_weight=None, dual=False, fit_intercept=True,\n",
       "          intercept_scaling=1, max_iter=100, multi_class='ovr',\n",
       "          penalty='l2', random_state=None, solver='liblinear', tol=0.0001,\n",
       "          verbose=0)"
      ]
     },
     "execution_count": 198,
     "metadata": {},
     "output_type": "execute_result"
    }
   ],
   "source": [
    "%time alg_LR_1.fit(activation, train['y'].reshape(train['y'].shape[0]))"
   ]
  },
  {
   "cell_type": "code",
   "execution_count": 199,
   "metadata": {
    "collapsed": false
   },
   "outputs": [
    {
     "name": "stdout",
     "output_type": "stream",
     "text": [
      "CPU times: user 7.86 s, sys: 14.2 s, total: 22 s\n",
      "Wall time: 34min 26s\n"
     ]
    }
   ],
   "source": [
    "%time patches = image_patches(test['X'], step)"
   ]
  },
  {
   "cell_type": "code",
   "execution_count": 200,
   "metadata": {
    "collapsed": false
   },
   "outputs": [
    {
     "name": "stdout",
     "output_type": "stream",
     "text": [
      "CPU times: user 25.5 s, sys: 21.6 s, total: 47.1 s\n",
      "Wall time: 52min 24s\n"
     ]
    }
   ],
   "source": [
    "%time activation = autoencoder.autoencoder_transform(result['x'], visible_size, hidden_size, layer_number, patches)[0]"
   ]
  },
  {
   "cell_type": "code",
   "execution_count": 201,
   "metadata": {
    "collapsed": true
   },
   "outputs": [],
   "source": [
    "N, D = activation.shape\n",
    "n_samples = test['X'].shape[0]\n",
    "activation = activation.reshape((n_samples, N * D // n_samples))"
   ]
  },
  {
   "cell_type": "code",
   "execution_count": 202,
   "metadata": {
    "collapsed": false
   },
   "outputs": [
    {
     "name": "stdout",
     "output_type": "stream",
     "text": [
      "CPU times: user 523 ms, sys: 166 ms, total: 689 ms\n",
      "Wall time: 20.6 s\n"
     ]
    }
   ],
   "source": [
    "%time y_predict_RFC_1 = alg_RFC_1.predict(activation)"
   ]
  },
  {
   "cell_type": "code",
   "execution_count": 203,
   "metadata": {
    "collapsed": false
   },
   "outputs": [
    {
     "name": "stdout",
     "output_type": "stream",
     "text": [
      "CPU times: user 371 ms, sys: 15.7 ms, total: 386 ms\n",
      "Wall time: 2.34 s\n"
     ]
    }
   ],
   "source": [
    "%time y_predict_LR_1 = alg_LR_1.predict(activation)"
   ]
  },
  {
   "cell_type": "code",
   "execution_count": 204,
   "metadata": {
    "collapsed": true
   },
   "outputs": [],
   "source": [
    "acc_RFC_1.append(accuracy(test['y'].reshape(test['y'].shape[0]), y_predict_RFC_1))\n",
    "acc_LR_1.append(accuracy(test['y'].reshape(test['y'].shape[0]), y_predict_LR_1))"
   ]
  },
  {
   "cell_type": "code",
   "execution_count": 217,
   "metadata": {
    "collapsed": false
   },
   "outputs": [
    {
     "name": "stdout",
     "output_type": "stream",
     "text": [
      "[0.30462499999999998, 0.33487499999999998, 0.328625, 0.34125, 0.34087499999999998, 0.34712500000000002, 0.35775000000000001]\n"
     ]
    }
   ],
   "source": [
    "print(acc_RFC_1)"
   ]
  },
  {
   "cell_type": "code",
   "execution_count": 218,
   "metadata": {
    "collapsed": false
   },
   "outputs": [
    {
     "name": "stdout",
     "output_type": "stream",
     "text": [
      "[0.36299999999999999]\n"
     ]
    }
   ],
   "source": [
    "print(acc_RFC_2)"
   ]
  },
  {
   "cell_type": "code",
   "execution_count": 219,
   "metadata": {
    "collapsed": false
   },
   "outputs": [
    {
     "name": "stdout",
     "output_type": "stream",
     "text": [
      "[0.33487499999999998, 0.3745, 0.36925000000000002, 0.40412500000000001, 0.41675000000000001, 0.435, 0.46462500000000001]\n"
     ]
    }
   ],
   "source": [
    "print(acc_LR_1)"
   ]
  },
  {
   "cell_type": "code",
   "execution_count": 220,
   "metadata": {
    "collapsed": false
   },
   "outputs": [
    {
     "name": "stdout",
     "output_type": "stream",
     "text": [
      "[0.29199999999999998]\n"
     ]
    }
   ],
   "source": [
    "print(acc_LR_2)"
   ]
  },
  {
   "cell_type": "markdown",
   "metadata": {},
   "source": [
    "<font size=4, face=\"Times New Roman\"> <center> <b> Зависимость точности классификаторов от шага, по которому картинки разбиваются на патчи: </b> </center> </font>"
   ]
  },
  {
   "cell_type": "markdown",
   "metadata": {},
   "source": [
    "#####Сеть с одним скрытым слоем\n",
    "|Features (or step)|RandomForest|LogisticRegression|\n",
    "|------------------|------------|------------------|\n",
    "|Pixels|0.363|0.292|\n",
    "|step=32|0.305|0.335|\n",
    "|step=28|0.335|0.375|\n",
    "|step=24|0.329|0.369|\n",
    "|step=20|0.341|0.404|\n",
    "|step=16|0.34|0.417|\n",
    "|step=12|0.347|0.435|\n",
    "|step=8|0.358|0.465|"
   ]
  },
  {
   "cell_type": "markdown",
   "metadata": {},
   "source": [
    "<font size=4, face=\"Times New Roman\"> Как мы видим, качество логистической регрессии гораздо улучшилось по сравнению с Random Forest. И еще, чем меньше шаг, тем лучше качество классификации, то есть теоретически step=6 качество классификаторов должно также улучшиться, но однако в данной работе не было проведено этого эксперимента в связи с огромной памятью, затрачиваемой для генерации патчей. </font>"
   ]
  },
  {
   "cell_type": "markdown",
   "metadata": {
    "collapsed": true
   },
   "source": [
    "##Девятый пункт."
   ]
  },
  {
   "cell_type": "markdown",
   "metadata": {},
   "source": [
    "<font size=4, face=\"Times New Roman\"> Необходимо было сравнить сеть с одним скрытым слоем с сетью с тремя скрытыми слоями. </font>"
   ]
  },
  {
   "cell_type": "code",
   "execution_count": 8,
   "metadata": {
    "collapsed": false
   },
   "outputs": [],
   "source": [
    "alg_RFC_1 = RFC(n_estimators=20)\n",
    "alg_LR_1 = LR()"
   ]
  },
  {
   "cell_type": "code",
   "execution_count": 16,
   "metadata": {
    "collapsed": true
   },
   "outputs": [],
   "source": [
    "acc_RFC_1 = []\n",
    "acc_LR_1 = []"
   ]
  },
  {
   "cell_type": "code",
   "execution_count": 23,
   "metadata": {
    "collapsed": false
   },
   "outputs": [
    {
     "name": "stdout",
     "output_type": "stream",
     "text": [
      "CPU times: user 15.2 s, sys: 327 ms, total: 15.5 s\n",
      "Wall time: 54.4 s\n"
     ]
    }
   ],
   "source": [
    "hidden_size = np.array([75, 48, 75])\n",
    "visible_size = 192\n",
    "theta = autoencoder.initialize(hidden_size, visible_size)\n",
    "%time patches = sample_patches.sample_patches(unl['X'])\n",
    "beta = 3\n",
    "sparsity_param = 1e-2\n",
    "lambda_ = 1e-5"
   ]
  },
  {
   "cell_type": "code",
   "execution_count": 26,
   "metadata": {
    "collapsed": false
   },
   "outputs": [],
   "source": [
    "result = minimize(J, theta, method='L-BFGS-B', jac=True, tol=1e-7, options={'max_iter': 3000})"
   ]
  },
  {
   "cell_type": "code",
   "execution_count": 23,
   "metadata": {
    "collapsed": true
   },
   "outputs": [],
   "source": [
    "with open('train.pk', 'rb') as f:\n",
    "    train = pickle.load(f)\n",
    "with open('test.pk', 'rb') as f:\n",
    "    test = pickle.load(f)"
   ]
  },
  {
   "cell_type": "markdown",
   "metadata": {},
   "source": [
    "<font size=5, face=\"Times New Roman\"> step = 32 </font>"
   ]
  },
  {
   "cell_type": "code",
   "execution_count": 24,
   "metadata": {
    "collapsed": false
   },
   "outputs": [
    {
     "name": "stdout",
     "output_type": "stream",
     "text": [
      "CPU times: user 151 ms, sys: 128 ms, total: 279 ms\n",
      "Wall time: 392 ms\n"
     ]
    }
   ],
   "source": [
    "step = 32\n",
    "%time patches = image_patches(train['X'], step)"
   ]
  },
  {
   "cell_type": "code",
   "execution_count": 25,
   "metadata": {
    "collapsed": false
   },
   "outputs": [
    {
     "name": "stdout",
     "output_type": "stream",
     "text": [
      "CPU times: user 1.04 s, sys: 230 ms, total: 1.27 s\n",
      "Wall time: 2.61 s\n"
     ]
    }
   ],
   "source": [
    "layer_number = 4\n",
    "%time activation = autoencoder.autoencoder_transform(result['x'], visible_size, hidden_size, layer_number, patches)[0]"
   ]
  },
  {
   "cell_type": "code",
   "execution_count": 26,
   "metadata": {
    "collapsed": true
   },
   "outputs": [],
   "source": [
    "N, D = activation.shape\n",
    "n_samples = train['X'].shape[0]\n",
    "activation = activation.reshape((n_samples, N * D // n_samples))"
   ]
  },
  {
   "cell_type": "code",
   "execution_count": 27,
   "metadata": {
    "collapsed": false
   },
   "outputs": [
    {
     "name": "stdout",
     "output_type": "stream",
     "text": [
      "CPU times: user 2.19 s, sys: 0 ns, total: 2.19 s\n",
      "Wall time: 5.58 s\n"
     ]
    },
    {
     "data": {
      "text/plain": [
       "RandomForestClassifier(bootstrap=True, class_weight=None, criterion='gini',\n",
       "            max_depth=None, max_features='auto', max_leaf_nodes=None,\n",
       "            min_samples_leaf=1, min_samples_split=2,\n",
       "            min_weight_fraction_leaf=0.0, n_estimators=20, n_jobs=1,\n",
       "            oob_score=False, random_state=None, verbose=0,\n",
       "            warm_start=False)"
      ]
     },
     "execution_count": 27,
     "metadata": {},
     "output_type": "execute_result"
    }
   ],
   "source": [
    "%time alg_RFC_1.fit(activation, train['y'].reshape(train['y'].shape[0]))"
   ]
  },
  {
   "cell_type": "code",
   "execution_count": 28,
   "metadata": {
    "collapsed": false
   },
   "outputs": [
    {
     "name": "stdout",
     "output_type": "stream",
     "text": [
      "CPU times: user 2.63 s, sys: 0 ns, total: 2.63 s\n",
      "Wall time: 3.65 s\n"
     ]
    },
    {
     "data": {
      "text/plain": [
       "LogisticRegression(C=1.0, class_weight=None, dual=False, fit_intercept=True,\n",
       "          intercept_scaling=1, max_iter=100, multi_class='ovr',\n",
       "          penalty='l2', random_state=None, solver='liblinear', tol=0.0001,\n",
       "          verbose=0)"
      ]
     },
     "execution_count": 28,
     "metadata": {},
     "output_type": "execute_result"
    }
   ],
   "source": [
    "%time alg_LR_1.fit(activation, train['y'].reshape(train['y'].shape[0]))"
   ]
  },
  {
   "cell_type": "code",
   "execution_count": 29,
   "metadata": {
    "collapsed": false
   },
   "outputs": [
    {
     "name": "stdout",
     "output_type": "stream",
     "text": [
      "CPU times: user 261 ms, sys: 305 ms, total: 566 ms\n",
      "Wall time: 586 ms\n"
     ]
    }
   ],
   "source": [
    "%time patches = image_patches(test['X'], step)"
   ]
  },
  {
   "cell_type": "code",
   "execution_count": 30,
   "metadata": {
    "collapsed": false
   },
   "outputs": [
    {
     "name": "stdout",
     "output_type": "stream",
     "text": [
      "CPU times: user 1.54 s, sys: 489 ms, total: 2.03 s\n",
      "Wall time: 3.66 s\n"
     ]
    }
   ],
   "source": [
    "%time activation = autoencoder.autoencoder_transform(result['x'], visible_size, hidden_size, layer_number, patches)[0]"
   ]
  },
  {
   "cell_type": "code",
   "execution_count": 31,
   "metadata": {
    "collapsed": true
   },
   "outputs": [],
   "source": [
    "N, D = activation.shape\n",
    "n_samples = test['X'].shape[0]\n",
    "activation = activation.reshape((n_samples, N * D // n_samples))"
   ]
  },
  {
   "cell_type": "code",
   "execution_count": 32,
   "metadata": {
    "collapsed": false
   },
   "outputs": [
    {
     "name": "stdout",
     "output_type": "stream",
     "text": [
      "CPU times: user 74.8 ms, sys: 3.22 ms, total: 78 ms\n",
      "Wall time: 872 ms\n"
     ]
    }
   ],
   "source": [
    "%time y_predict_RFC_1 = alg_RFC_1.predict(activation)"
   ]
  },
  {
   "cell_type": "code",
   "execution_count": 33,
   "metadata": {
    "collapsed": false
   },
   "outputs": [
    {
     "name": "stdout",
     "output_type": "stream",
     "text": [
      "CPU times: user 24.7 ms, sys: 0 ns, total: 24.7 ms\n",
      "Wall time: 517 ms\n"
     ]
    }
   ],
   "source": [
    "%time y_predict_LR_1 = alg_LR_1.predict(activation)"
   ]
  },
  {
   "cell_type": "code",
   "execution_count": 34,
   "metadata": {
    "collapsed": true
   },
   "outputs": [],
   "source": [
    "acc_RFC_1.append(accuracy(test['y'].reshape(test['y'].shape[0]), y_predict_RFC_1))\n",
    "acc_LR_1.append(accuracy(test['y'].reshape(test['y'].shape[0]), y_predict_LR_1))"
   ]
  },
  {
   "cell_type": "markdown",
   "metadata": {},
   "source": [
    "<font size=5, face=\"Times New Roman\"> step = 28 </font>"
   ]
  },
  {
   "cell_type": "code",
   "execution_count": 35,
   "metadata": {
    "collapsed": false
   },
   "outputs": [
    {
     "name": "stdout",
     "output_type": "stream",
     "text": [
      "CPU times: user 324 ms, sys: 275 ms, total: 599 ms\n",
      "Wall time: 660 ms\n"
     ]
    }
   ],
   "source": [
    "step = 28\n",
    "%time patches = image_patches(train['X'], step)"
   ]
  },
  {
   "cell_type": "code",
   "execution_count": 36,
   "metadata": {
    "collapsed": false
   },
   "outputs": [
    {
     "name": "stdout",
     "output_type": "stream",
     "text": [
      "CPU times: user 1.76 s, sys: 404 ms, total: 2.16 s\n",
      "Wall time: 2.62 s\n"
     ]
    }
   ],
   "source": [
    "layer_number = 4\n",
    "%time activation = autoencoder.autoencoder_transform(result['x'], visible_size, hidden_size, layer_number, patches)[0]"
   ]
  },
  {
   "cell_type": "code",
   "execution_count": 37,
   "metadata": {
    "collapsed": true
   },
   "outputs": [],
   "source": [
    "N, D = activation.shape\n",
    "n_samples = train['X'].shape[0]\n",
    "activation = activation.reshape((n_samples, N * D // n_samples))"
   ]
  },
  {
   "cell_type": "code",
   "execution_count": 38,
   "metadata": {
    "collapsed": false
   },
   "outputs": [
    {
     "name": "stdout",
     "output_type": "stream",
     "text": [
      "CPU times: user 3.02 s, sys: 0 ns, total: 3.02 s\n",
      "Wall time: 3.7 s\n"
     ]
    },
    {
     "data": {
      "text/plain": [
       "RandomForestClassifier(bootstrap=True, class_weight=None, criterion='gini',\n",
       "            max_depth=None, max_features='auto', max_leaf_nodes=None,\n",
       "            min_samples_leaf=1, min_samples_split=2,\n",
       "            min_weight_fraction_leaf=0.0, n_estimators=20, n_jobs=1,\n",
       "            oob_score=False, random_state=None, verbose=0,\n",
       "            warm_start=False)"
      ]
     },
     "execution_count": 38,
     "metadata": {},
     "output_type": "execute_result"
    }
   ],
   "source": [
    "%time alg_RFC_1.fit(activation, train['y'].reshape(train['y'].shape[0]))"
   ]
  },
  {
   "cell_type": "code",
   "execution_count": 39,
   "metadata": {
    "collapsed": false
   },
   "outputs": [
    {
     "name": "stdout",
     "output_type": "stream",
     "text": [
      "CPU times: user 4.61 s, sys: 0 ns, total: 4.61 s\n",
      "Wall time: 4.89 s\n"
     ]
    },
    {
     "data": {
      "text/plain": [
       "LogisticRegression(C=1.0, class_weight=None, dual=False, fit_intercept=True,\n",
       "          intercept_scaling=1, max_iter=100, multi_class='ovr',\n",
       "          penalty='l2', random_state=None, solver='liblinear', tol=0.0001,\n",
       "          verbose=0)"
      ]
     },
     "execution_count": 39,
     "metadata": {},
     "output_type": "execute_result"
    }
   ],
   "source": [
    "%time alg_LR_1.fit(activation, train['y'].reshape(train['y'].shape[0]))"
   ]
  },
  {
   "cell_type": "code",
   "execution_count": 40,
   "metadata": {
    "collapsed": false
   },
   "outputs": [
    {
     "name": "stdout",
     "output_type": "stream",
     "text": [
      "CPU times: user 463 ms, sys: 585 ms, total: 1.05 s\n",
      "Wall time: 3.35 s\n"
     ]
    }
   ],
   "source": [
    "%time patches = image_patches(test['X'], step)"
   ]
  },
  {
   "cell_type": "code",
   "execution_count": 41,
   "metadata": {
    "collapsed": false
   },
   "outputs": [
    {
     "name": "stdout",
     "output_type": "stream",
     "text": [
      "CPU times: user 2.94 s, sys: 798 ms, total: 3.74 s\n",
      "Wall time: 10.3 s\n"
     ]
    }
   ],
   "source": [
    "%time activation = autoencoder.autoencoder_transform(result['x'], visible_size, hidden_size, layer_number, patches)[0]"
   ]
  },
  {
   "cell_type": "code",
   "execution_count": 42,
   "metadata": {
    "collapsed": true
   },
   "outputs": [],
   "source": [
    "N, D = activation.shape\n",
    "n_samples = test['X'].shape[0]\n",
    "activation = activation.reshape((n_samples, N * D // n_samples))"
   ]
  },
  {
   "cell_type": "code",
   "execution_count": 43,
   "metadata": {
    "collapsed": false
   },
   "outputs": [
    {
     "name": "stdout",
     "output_type": "stream",
     "text": [
      "CPU times: user 89.2 ms, sys: 3.81 ms, total: 93 ms\n",
      "Wall time: 420 ms\n"
     ]
    }
   ],
   "source": [
    "%time y_predict_RFC_1 = alg_RFC_1.predict(activation)"
   ]
  },
  {
   "cell_type": "code",
   "execution_count": 44,
   "metadata": {
    "collapsed": false
   },
   "outputs": [
    {
     "name": "stdout",
     "output_type": "stream",
     "text": [
      "CPU times: user 40.6 ms, sys: 0 ns, total: 40.6 ms\n",
      "Wall time: 113 ms\n"
     ]
    }
   ],
   "source": [
    "%time y_predict_LR_1 = alg_LR_1.predict(activation)"
   ]
  },
  {
   "cell_type": "code",
   "execution_count": 45,
   "metadata": {
    "collapsed": true
   },
   "outputs": [],
   "source": [
    "acc_RFC_1.append(accuracy(test['y'].reshape(test['y'].shape[0]), y_predict_RFC_1))\n",
    "acc_LR_1.append(accuracy(test['y'].reshape(test['y'].shape[0]), y_predict_LR_1))"
   ]
  },
  {
   "cell_type": "markdown",
   "metadata": {},
   "source": [
    "<font size=5, face=\"Times New Roman\"> step = 24 </font>"
   ]
  },
  {
   "cell_type": "code",
   "execution_count": 46,
   "metadata": {
    "collapsed": false
   },
   "outputs": [
    {
     "name": "stdout",
     "output_type": "stream",
     "text": [
      "CPU times: user 313 ms, sys: 89 ms, total: 402 ms\n",
      "Wall time: 661 ms\n"
     ]
    }
   ],
   "source": [
    "step = 24\n",
    "%time patches = image_patches(train['X'], step)"
   ]
  },
  {
   "cell_type": "code",
   "execution_count": 47,
   "metadata": {
    "collapsed": false
   },
   "outputs": [
    {
     "name": "stdout",
     "output_type": "stream",
     "text": [
      "CPU times: user 1.79 s, sys: 241 ms, total: 2.03 s\n",
      "Wall time: 2.03 s\n"
     ]
    }
   ],
   "source": [
    "layer_number = 4\n",
    "%time activation = autoencoder.autoencoder_transform(result['x'], visible_size, hidden_size, layer_number, patches)[0]"
   ]
  },
  {
   "cell_type": "code",
   "execution_count": 48,
   "metadata": {
    "collapsed": true
   },
   "outputs": [],
   "source": [
    "N, D = activation.shape\n",
    "n_samples = train['X'].shape[0]\n",
    "activation = activation.reshape((n_samples, N * D // n_samples))"
   ]
  },
  {
   "cell_type": "code",
   "execution_count": 49,
   "metadata": {
    "collapsed": false
   },
   "outputs": [
    {
     "name": "stdout",
     "output_type": "stream",
     "text": [
      "CPU times: user 2.96 s, sys: 0 ns, total: 2.96 s\n",
      "Wall time: 2.94 s\n"
     ]
    },
    {
     "data": {
      "text/plain": [
       "RandomForestClassifier(bootstrap=True, class_weight=None, criterion='gini',\n",
       "            max_depth=None, max_features='auto', max_leaf_nodes=None,\n",
       "            min_samples_leaf=1, min_samples_split=2,\n",
       "            min_weight_fraction_leaf=0.0, n_estimators=20, n_jobs=1,\n",
       "            oob_score=False, random_state=None, verbose=0,\n",
       "            warm_start=False)"
      ]
     },
     "execution_count": 49,
     "metadata": {},
     "output_type": "execute_result"
    }
   ],
   "source": [
    "%time alg_RFC_1.fit(activation, train['y'].reshape(train['y'].shape[0]))"
   ]
  },
  {
   "cell_type": "code",
   "execution_count": 50,
   "metadata": {
    "collapsed": false
   },
   "outputs": [
    {
     "name": "stdout",
     "output_type": "stream",
     "text": [
      "CPU times: user 4.6 s, sys: 0 ns, total: 4.6 s\n",
      "Wall time: 4.67 s\n"
     ]
    },
    {
     "data": {
      "text/plain": [
       "LogisticRegression(C=1.0, class_weight=None, dual=False, fit_intercept=True,\n",
       "          intercept_scaling=1, max_iter=100, multi_class='ovr',\n",
       "          penalty='l2', random_state=None, solver='liblinear', tol=0.0001,\n",
       "          verbose=0)"
      ]
     },
     "execution_count": 50,
     "metadata": {},
     "output_type": "execute_result"
    }
   ],
   "source": [
    "%time alg_LR_1.fit(activation, train['y'].reshape(train['y'].shape[0]))"
   ]
  },
  {
   "cell_type": "code",
   "execution_count": 51,
   "metadata": {
    "collapsed": false
   },
   "outputs": [
    {
     "name": "stdout",
     "output_type": "stream",
     "text": [
      "CPU times: user 541 ms, sys: 170 ms, total: 710 ms\n",
      "Wall time: 726 ms\n"
     ]
    }
   ],
   "source": [
    "%time patches = image_patches(test['X'], step)"
   ]
  },
  {
   "cell_type": "code",
   "execution_count": 52,
   "metadata": {
    "collapsed": false
   },
   "outputs": [
    {
     "name": "stdout",
     "output_type": "stream",
     "text": [
      "CPU times: user 2.75 s, sys: 469 ms, total: 3.22 s\n",
      "Wall time: 3.32 s\n"
     ]
    }
   ],
   "source": [
    "%time activation = autoencoder.autoencoder_transform(result['x'], visible_size, hidden_size, layer_number, patches)[0]"
   ]
  },
  {
   "cell_type": "code",
   "execution_count": 53,
   "metadata": {
    "collapsed": true
   },
   "outputs": [],
   "source": [
    "N, D = activation.shape\n",
    "n_samples = test['X'].shape[0]\n",
    "activation = activation.reshape((n_samples, N * D // n_samples))"
   ]
  },
  {
   "cell_type": "code",
   "execution_count": 54,
   "metadata": {
    "collapsed": false
   },
   "outputs": [
    {
     "name": "stdout",
     "output_type": "stream",
     "text": [
      "CPU times: user 100 ms, sys: 0 ns, total: 100 ms\n",
      "Wall time: 99.6 ms\n"
     ]
    }
   ],
   "source": [
    "%time y_predict_RFC_1 = alg_RFC_1.predict(activation)"
   ]
  },
  {
   "cell_type": "code",
   "execution_count": 55,
   "metadata": {
    "collapsed": false
   },
   "outputs": [
    {
     "name": "stdout",
     "output_type": "stream",
     "text": [
      "CPU times: user 40.1 ms, sys: 0 ns, total: 40.1 ms\n",
      "Wall time: 39.8 ms\n"
     ]
    }
   ],
   "source": [
    "%time y_predict_LR_1 = alg_LR_1.predict(activation)"
   ]
  },
  {
   "cell_type": "code",
   "execution_count": 56,
   "metadata": {
    "collapsed": true
   },
   "outputs": [],
   "source": [
    "acc_RFC_1.append(accuracy(test['y'].reshape(test['y'].shape[0]), y_predict_RFC_1))\n",
    "acc_LR_1.append(accuracy(test['y'].reshape(test['y'].shape[0]), y_predict_LR_1))"
   ]
  },
  {
   "cell_type": "markdown",
   "metadata": {},
   "source": [
    "<font size=5, face=\"Times New Roman\"> step = 20 </font>"
   ]
  },
  {
   "cell_type": "code",
   "execution_count": 57,
   "metadata": {
    "collapsed": false
   },
   "outputs": [
    {
     "name": "stdout",
     "output_type": "stream",
     "text": [
      "CPU times: user 498 ms, sys: 136 ms, total: 634 ms\n",
      "Wall time: 633 ms\n"
     ]
    }
   ],
   "source": [
    "step = 20\n",
    "%time patches = image_patches(train['X'], step)"
   ]
  },
  {
   "cell_type": "code",
   "execution_count": 58,
   "metadata": {
    "collapsed": false
   },
   "outputs": [
    {
     "name": "stdout",
     "output_type": "stream",
     "text": [
      "CPU times: user 2.7 s, sys: 390 ms, total: 3.09 s\n",
      "Wall time: 3.09 s\n"
     ]
    }
   ],
   "source": [
    "layer_number = 4\n",
    "%time activation = autoencoder.autoencoder_transform(result['x'], visible_size, hidden_size, layer_number, patches)[0]"
   ]
  },
  {
   "cell_type": "code",
   "execution_count": 59,
   "metadata": {
    "collapsed": true
   },
   "outputs": [],
   "source": [
    "N, D = activation.shape\n",
    "n_samples = train['X'].shape[0]\n",
    "activation = activation.reshape((n_samples, N * D // n_samples))"
   ]
  },
  {
   "cell_type": "code",
   "execution_count": 60,
   "metadata": {
    "collapsed": false
   },
   "outputs": [
    {
     "name": "stdout",
     "output_type": "stream",
     "text": [
      "CPU times: user 3.83 s, sys: 0 ns, total: 3.83 s\n",
      "Wall time: 3.82 s\n"
     ]
    },
    {
     "data": {
      "text/plain": [
       "RandomForestClassifier(bootstrap=True, class_weight=None, criterion='gini',\n",
       "            max_depth=None, max_features='auto', max_leaf_nodes=None,\n",
       "            min_samples_leaf=1, min_samples_split=2,\n",
       "            min_weight_fraction_leaf=0.0, n_estimators=20, n_jobs=1,\n",
       "            oob_score=False, random_state=None, verbose=0,\n",
       "            warm_start=False)"
      ]
     },
     "execution_count": 60,
     "metadata": {},
     "output_type": "execute_result"
    }
   ],
   "source": [
    "%time alg_RFC_1.fit(activation, train['y'].reshape(train['y'].shape[0]))"
   ]
  },
  {
   "cell_type": "code",
   "execution_count": 61,
   "metadata": {
    "collapsed": false
   },
   "outputs": [
    {
     "name": "stdout",
     "output_type": "stream",
     "text": [
      "CPU times: user 7.39 s, sys: 0 ns, total: 7.39 s\n",
      "Wall time: 7.37 s\n"
     ]
    },
    {
     "data": {
      "text/plain": [
       "LogisticRegression(C=1.0, class_weight=None, dual=False, fit_intercept=True,\n",
       "          intercept_scaling=1, max_iter=100, multi_class='ovr',\n",
       "          penalty='l2', random_state=None, solver='liblinear', tol=0.0001,\n",
       "          verbose=0)"
      ]
     },
     "execution_count": 61,
     "metadata": {},
     "output_type": "execute_result"
    }
   ],
   "source": [
    "%time alg_LR_1.fit(activation, train['y'].reshape(train['y'].shape[0]))"
   ]
  },
  {
   "cell_type": "code",
   "execution_count": 62,
   "metadata": {
    "collapsed": false
   },
   "outputs": [
    {
     "name": "stdout",
     "output_type": "stream",
     "text": [
      "CPU times: user 789 ms, sys: 492 ms, total: 1.28 s\n",
      "Wall time: 5.14 s\n"
     ]
    }
   ],
   "source": [
    "%time patches = image_patches(test['X'], step)"
   ]
  },
  {
   "cell_type": "code",
   "execution_count": 63,
   "metadata": {
    "collapsed": false
   },
   "outputs": [
    {
     "name": "stdout",
     "output_type": "stream",
     "text": [
      "CPU times: user 4.43 s, sys: 1.2 s, total: 5.63 s\n",
      "Wall time: 11.1 s\n"
     ]
    }
   ],
   "source": [
    "%time activation = autoencoder.autoencoder_transform(result['x'], visible_size, hidden_size, layer_number, patches)[0]"
   ]
  },
  {
   "cell_type": "code",
   "execution_count": 64,
   "metadata": {
    "collapsed": true
   },
   "outputs": [],
   "source": [
    "N, D = activation.shape\n",
    "n_samples = test['X'].shape[0]\n",
    "activation = activation.reshape((n_samples, N * D // n_samples))"
   ]
  },
  {
   "cell_type": "code",
   "execution_count": 65,
   "metadata": {
    "collapsed": false
   },
   "outputs": [
    {
     "name": "stdout",
     "output_type": "stream",
     "text": [
      "CPU times: user 115 ms, sys: 8.35 ms, total: 124 ms\n",
      "Wall time: 2.4 s\n"
     ]
    }
   ],
   "source": [
    "%time y_predict_RFC_1 = alg_RFC_1.predict(activation)"
   ]
  },
  {
   "cell_type": "code",
   "execution_count": 66,
   "metadata": {
    "collapsed": false
   },
   "outputs": [
    {
     "name": "stdout",
     "output_type": "stream",
     "text": [
      "CPU times: user 63.6 ms, sys: 212 µs, total: 63.8 ms\n",
      "Wall time: 369 ms\n"
     ]
    }
   ],
   "source": [
    "%time y_predict_LR_1 = alg_LR_1.predict(activation)"
   ]
  },
  {
   "cell_type": "code",
   "execution_count": 67,
   "metadata": {
    "collapsed": true
   },
   "outputs": [],
   "source": [
    "acc_RFC_1.append(accuracy(test['y'].reshape(test['y'].shape[0]), y_predict_RFC_1))\n",
    "acc_LR_1.append(accuracy(test['y'].reshape(test['y'].shape[0]), y_predict_LR_1))"
   ]
  },
  {
   "cell_type": "markdown",
   "metadata": {},
   "source": [
    "<font size=5, face=\"Times New Roman\"> step = 16 </font>"
   ]
  },
  {
   "cell_type": "code",
   "execution_count": 68,
   "metadata": {
    "collapsed": false
   },
   "outputs": [
    {
     "name": "stdout",
     "output_type": "stream",
     "text": [
      "CPU times: user 715 ms, sys: 904 ms, total: 1.62 s\n",
      "Wall time: 12 s\n"
     ]
    }
   ],
   "source": [
    "step = 16\n",
    "%time patches = image_patches(train['X'], step)"
   ]
  },
  {
   "cell_type": "code",
   "execution_count": 69,
   "metadata": {
    "collapsed": false
   },
   "outputs": [
    {
     "name": "stdout",
     "output_type": "stream",
     "text": [
      "CPU times: user 4 s, sys: 579 ms, total: 4.58 s\n",
      "Wall time: 4.6 s\n"
     ]
    }
   ],
   "source": [
    "layer_number = 4\n",
    "%time activation = autoencoder.autoencoder_transform(result['x'], visible_size, hidden_size, layer_number, patches)[0]"
   ]
  },
  {
   "cell_type": "code",
   "execution_count": 70,
   "metadata": {
    "collapsed": true
   },
   "outputs": [],
   "source": [
    "N, D = activation.shape\n",
    "n_samples = train['X'].shape[0]\n",
    "activation = activation.reshape((n_samples, N * D // n_samples))"
   ]
  },
  {
   "cell_type": "code",
   "execution_count": 71,
   "metadata": {
    "collapsed": false
   },
   "outputs": [
    {
     "name": "stdout",
     "output_type": "stream",
     "text": [
      "CPU times: user 4.55 s, sys: 0 ns, total: 4.55 s\n",
      "Wall time: 4.81 s\n"
     ]
    },
    {
     "data": {
      "text/plain": [
       "RandomForestClassifier(bootstrap=True, class_weight=None, criterion='gini',\n",
       "            max_depth=None, max_features='auto', max_leaf_nodes=None,\n",
       "            min_samples_leaf=1, min_samples_split=2,\n",
       "            min_weight_fraction_leaf=0.0, n_estimators=20, n_jobs=1,\n",
       "            oob_score=False, random_state=None, verbose=0,\n",
       "            warm_start=False)"
      ]
     },
     "execution_count": 71,
     "metadata": {},
     "output_type": "execute_result"
    }
   ],
   "source": [
    "%time alg_RFC_1.fit(activation, train['y'].reshape(train['y'].shape[0]))"
   ]
  },
  {
   "cell_type": "code",
   "execution_count": 72,
   "metadata": {
    "collapsed": false
   },
   "outputs": [
    {
     "name": "stdout",
     "output_type": "stream",
     "text": [
      "CPU times: user 11 s, sys: 0 ns, total: 11 s\n",
      "Wall time: 13.7 s\n"
     ]
    },
    {
     "data": {
      "text/plain": [
       "LogisticRegression(C=1.0, class_weight=None, dual=False, fit_intercept=True,\n",
       "          intercept_scaling=1, max_iter=100, multi_class='ovr',\n",
       "          penalty='l2', random_state=None, solver='liblinear', tol=0.0001,\n",
       "          verbose=0)"
      ]
     },
     "execution_count": 72,
     "metadata": {},
     "output_type": "execute_result"
    }
   ],
   "source": [
    "%time alg_LR_1.fit(activation, train['y'].reshape(train['y'].shape[0]))"
   ]
  },
  {
   "cell_type": "code",
   "execution_count": 73,
   "metadata": {
    "collapsed": false
   },
   "outputs": [
    {
     "name": "stdout",
     "output_type": "stream",
     "text": [
      "CPU times: user 1.15 s, sys: 798 ms, total: 1.95 s\n",
      "Wall time: 15.7 s\n"
     ]
    }
   ],
   "source": [
    "%time patches = image_patches(test['X'], step)"
   ]
  },
  {
   "cell_type": "code",
   "execution_count": 74,
   "metadata": {
    "collapsed": false
   },
   "outputs": [
    {
     "name": "stdout",
     "output_type": "stream",
     "text": [
      "CPU times: user 6.37 s, sys: 2.16 s, total: 8.53 s\n",
      "Wall time: 27.6 s\n"
     ]
    }
   ],
   "source": [
    "%time activation = autoencoder.autoencoder_transform(result['x'], visible_size, hidden_size, layer_number, patches)[0]"
   ]
  },
  {
   "cell_type": "code",
   "execution_count": 75,
   "metadata": {
    "collapsed": true
   },
   "outputs": [],
   "source": [
    "N, D = activation.shape\n",
    "n_samples = test['X'].shape[0]\n",
    "activation = activation.reshape((n_samples, N * D // n_samples))"
   ]
  },
  {
   "cell_type": "code",
   "execution_count": 76,
   "metadata": {
    "collapsed": false
   },
   "outputs": [
    {
     "name": "stdout",
     "output_type": "stream",
     "text": [
      "CPU times: user 132 ms, sys: 35.6 ms, total: 168 ms\n",
      "Wall time: 15.5 s\n"
     ]
    }
   ],
   "source": [
    "%time y_predict_RFC_1 = alg_RFC_1.predict(activation)"
   ]
  },
  {
   "cell_type": "code",
   "execution_count": 77,
   "metadata": {
    "collapsed": false
   },
   "outputs": [
    {
     "name": "stdout",
     "output_type": "stream",
     "text": [
      "CPU times: user 93.5 ms, sys: 22 µs, total: 93.5 ms\n",
      "Wall time: 983 ms\n"
     ]
    }
   ],
   "source": [
    "%time y_predict_LR_1 = alg_LR_1.predict(activation)"
   ]
  },
  {
   "cell_type": "code",
   "execution_count": 78,
   "metadata": {
    "collapsed": true
   },
   "outputs": [],
   "source": [
    "acc_RFC_1.append(accuracy(test['y'].reshape(test['y'].shape[0]), y_predict_RFC_1))\n",
    "acc_LR_1.append(accuracy(test['y'].reshape(test['y'].shape[0]), y_predict_LR_1))"
   ]
  },
  {
   "cell_type": "markdown",
   "metadata": {},
   "source": [
    "<font size=5, face=\"Times New Roman\"> step = 12 </font>"
   ]
  },
  {
   "cell_type": "code",
   "execution_count": 79,
   "metadata": {
    "collapsed": false
   },
   "outputs": [
    {
     "name": "stdout",
     "output_type": "stream",
     "text": [
      "CPU times: user 1.3 s, sys: 1.13 s, total: 2.43 s\n",
      "Wall time: 43.8 s\n"
     ]
    }
   ],
   "source": [
    "step = 12\n",
    "%time patches = image_patches(train['X'], step)"
   ]
  },
  {
   "cell_type": "code",
   "execution_count": 80,
   "metadata": {
    "collapsed": false
   },
   "outputs": [
    {
     "name": "stdout",
     "output_type": "stream",
     "text": [
      "CPU times: user 7.23 s, sys: 2.85 s, total: 10.1 s\n",
      "Wall time: 36.1 s\n"
     ]
    }
   ],
   "source": [
    "layer_number = 4\n",
    "%time activation = autoencoder.autoencoder_transform(result['x'], visible_size, hidden_size, layer_number, patches)[0]"
   ]
  },
  {
   "cell_type": "code",
   "execution_count": 81,
   "metadata": {
    "collapsed": true
   },
   "outputs": [],
   "source": [
    "N, D = activation.shape\n",
    "n_samples = train['X'].shape[0]\n",
    "activation = activation.reshape((n_samples, N * D // n_samples))"
   ]
  },
  {
   "cell_type": "code",
   "execution_count": 82,
   "metadata": {
    "collapsed": false
   },
   "outputs": [
    {
     "name": "stdout",
     "output_type": "stream",
     "text": [
      "CPU times: user 6.22 s, sys: 15.9 ms, total: 6.24 s\n",
      "Wall time: 37.7 s\n"
     ]
    },
    {
     "data": {
      "text/plain": [
       "RandomForestClassifier(bootstrap=True, class_weight=None, criterion='gini',\n",
       "            max_depth=None, max_features='auto', max_leaf_nodes=None,\n",
       "            min_samples_leaf=1, min_samples_split=2,\n",
       "            min_weight_fraction_leaf=0.0, n_estimators=20, n_jobs=1,\n",
       "            oob_score=False, random_state=None, verbose=0,\n",
       "            warm_start=False)"
      ]
     },
     "execution_count": 82,
     "metadata": {},
     "output_type": "execute_result"
    }
   ],
   "source": [
    "%time alg_RFC_1.fit(activation, train['y'].reshape(train['y'].shape[0]))"
   ]
  },
  {
   "cell_type": "code",
   "execution_count": 83,
   "metadata": {
    "collapsed": false
   },
   "outputs": [
    {
     "name": "stdout",
     "output_type": "stream",
     "text": [
      "CPU times: user 20.3 s, sys: 93.2 ms, total: 20.4 s\n",
      "Wall time: 56 s\n"
     ]
    },
    {
     "data": {
      "text/plain": [
       "LogisticRegression(C=1.0, class_weight=None, dual=False, fit_intercept=True,\n",
       "          intercept_scaling=1, max_iter=100, multi_class='ovr',\n",
       "          penalty='l2', random_state=None, solver='liblinear', tol=0.0001,\n",
       "          verbose=0)"
      ]
     },
     "execution_count": 83,
     "metadata": {},
     "output_type": "execute_result"
    }
   ],
   "source": [
    "%time alg_LR_1.fit(activation, train['y'].reshape(train['y'].shape[0]))"
   ]
  },
  {
   "cell_type": "code",
   "execution_count": 84,
   "metadata": {
    "collapsed": false
   },
   "outputs": [
    {
     "name": "stdout",
     "output_type": "stream",
     "text": [
      "CPU times: user 1.99 s, sys: 3.72 s, total: 5.71 s\n",
      "Wall time: 1min 54s\n"
     ]
    }
   ],
   "source": [
    "%time patches = image_patches(test['X'], step)"
   ]
  },
  {
   "cell_type": "code",
   "execution_count": 85,
   "metadata": {
    "collapsed": false
   },
   "outputs": [
    {
     "name": "stdout",
     "output_type": "stream",
     "text": [
      "CPU times: user 11.7 s, sys: 5.38 s, total: 17 s\n",
      "Wall time: 1min 58s\n"
     ]
    }
   ],
   "source": [
    "%time activation = autoencoder.autoencoder_transform(result['x'], visible_size, hidden_size, layer_number, patches)[0]"
   ]
  },
  {
   "cell_type": "code",
   "execution_count": 86,
   "metadata": {
    "collapsed": true
   },
   "outputs": [],
   "source": [
    "N, D = activation.shape\n",
    "n_samples = test['X'].shape[0]\n",
    "activation = activation.reshape((n_samples, N * D // n_samples))"
   ]
  },
  {
   "cell_type": "code",
   "execution_count": 87,
   "metadata": {
    "collapsed": false
   },
   "outputs": [
    {
     "name": "stdout",
     "output_type": "stream",
     "text": [
      "CPU times: user 182 ms, sys: 34.7 ms, total: 216 ms\n",
      "Wall time: 13.9 s\n"
     ]
    }
   ],
   "source": [
    "%time y_predict_RFC_1 = alg_RFC_1.predict(activation)"
   ]
  },
  {
   "cell_type": "code",
   "execution_count": 88,
   "metadata": {
    "collapsed": false
   },
   "outputs": [
    {
     "name": "stdout",
     "output_type": "stream",
     "text": [
      "CPU times: user 166 ms, sys: 0 ns, total: 166 ms\n",
      "Wall time: 1.15 s\n"
     ]
    }
   ],
   "source": [
    "%time y_predict_LR_1 = alg_LR_1.predict(activation)"
   ]
  },
  {
   "cell_type": "code",
   "execution_count": 89,
   "metadata": {
    "collapsed": true
   },
   "outputs": [],
   "source": [
    "acc_RFC_1.append(accuracy(test['y'].reshape(test['y'].shape[0]), y_predict_RFC_1))\n",
    "acc_LR_1.append(accuracy(test['y'].reshape(test['y'].shape[0]), y_predict_LR_1))"
   ]
  },
  {
   "cell_type": "markdown",
   "metadata": {},
   "source": [
    "<font size=5, face=\"Times New Roman\"> step = 8 </font>"
   ]
  },
  {
   "cell_type": "code",
   "execution_count": 90,
   "metadata": {
    "collapsed": false
   },
   "outputs": [
    {
     "name": "stdout",
     "output_type": "stream",
     "text": [
      "CPU times: user 2.81 s, sys: 5.8 s, total: 8.61 s\n",
      "Wall time: 1min 59s\n"
     ]
    }
   ],
   "source": [
    "step = 8\n",
    "%time patches = image_patches(train['X'], step)"
   ]
  },
  {
   "cell_type": "code",
   "execution_count": 91,
   "metadata": {
    "collapsed": false
   },
   "outputs": [
    {
     "name": "stdout",
     "output_type": "stream",
     "text": [
      "CPU times: user 16.1 s, sys: 9.27 s, total: 25.4 s\n",
      "Wall time: 3min 22s\n"
     ]
    }
   ],
   "source": [
    "layer_number = 4\n",
    "%time activation = autoencoder.autoencoder_transform(result['x'], visible_size, hidden_size, layer_number, patches)[0]"
   ]
  },
  {
   "cell_type": "code",
   "execution_count": 92,
   "metadata": {
    "collapsed": true
   },
   "outputs": [],
   "source": [
    "N, D = activation.shape\n",
    "n_samples = train['X'].shape[0]\n",
    "activation = activation.reshape((n_samples, N * D // n_samples))"
   ]
  },
  {
   "cell_type": "code",
   "execution_count": 93,
   "metadata": {
    "collapsed": false
   },
   "outputs": [
    {
     "name": "stdout",
     "output_type": "stream",
     "text": [
      "CPU times: user 9.46 s, sys: 160 ms, total: 9.62 s\n",
      "Wall time: 1min 18s\n"
     ]
    },
    {
     "data": {
      "text/plain": [
       "RandomForestClassifier(bootstrap=True, class_weight=None, criterion='gini',\n",
       "            max_depth=None, max_features='auto', max_leaf_nodes=None,\n",
       "            min_samples_leaf=1, min_samples_split=2,\n",
       "            min_weight_fraction_leaf=0.0, n_estimators=20, n_jobs=1,\n",
       "            oob_score=False, random_state=None, verbose=0,\n",
       "            warm_start=False)"
      ]
     },
     "execution_count": 93,
     "metadata": {},
     "output_type": "execute_result"
    }
   ],
   "source": [
    "%time alg_RFC_1.fit(activation, train['y'].reshape(train['y'].shape[0]))"
   ]
  },
  {
   "cell_type": "code",
   "execution_count": 94,
   "metadata": {
    "collapsed": false
   },
   "outputs": [
    {
     "name": "stdout",
     "output_type": "stream",
     "text": [
      "CPU times: user 50.1 s, sys: 172 ms, total: 50.3 s\n",
      "Wall time: 1min 31s\n"
     ]
    },
    {
     "data": {
      "text/plain": [
       "LogisticRegression(C=1.0, class_weight=None, dual=False, fit_intercept=True,\n",
       "          intercept_scaling=1, max_iter=100, multi_class='ovr',\n",
       "          penalty='l2', random_state=None, solver='liblinear', tol=0.0001,\n",
       "          verbose=0)"
      ]
     },
     "execution_count": 94,
     "metadata": {},
     "output_type": "execute_result"
    }
   ],
   "source": [
    "%time alg_LR_1.fit(activation, train['y'].reshape(train['y'].shape[0]))"
   ]
  },
  {
   "cell_type": "code",
   "execution_count": null,
   "metadata": {
    "collapsed": false
   },
   "outputs": [
    {
     "name": "stdout",
     "output_type": "stream",
     "text": [
      "CPU times: user 7.03 s, sys: 14.8 s, total: 21.9 s\n",
      "Wall time: 25min 50s\n"
     ]
    }
   ],
   "source": [
    "%time patches = image_patches(test['X'], step)"
   ]
  },
  {
   "cell_type": "code",
   "execution_count": null,
   "metadata": {
    "collapsed": false
   },
   "outputs": [
    {
     "name": "stdout",
     "output_type": "stream",
     "text": [
      "CPU times: user 30.8 s, sys: 26.7 s, total: 57.5 s\n",
      "Wall time: 42min 56s\n"
     ]
    }
   ],
   "source": [
    "%time activation = autoencoder.autoencoder_transform(result['x'], visible_size, hidden_size, layer_number, patches)[0]"
   ]
  },
  {
   "cell_type": "code",
   "execution_count": null,
   "metadata": {
    "collapsed": true
   },
   "outputs": [],
   "source": [
    "N, D = activation.shape\n",
    "n_samples = test['X'].shape[0]\n",
    "activation = activation.reshape((n_samples, N * D // n_samples))"
   ]
  },
  {
   "cell_type": "code",
   "execution_count": null,
   "metadata": {
    "collapsed": false
   },
   "outputs": [
    {
     "name": "stdout",
     "output_type": "stream",
     "text": [
      "CPU times: user 304 ms, sys: 51 ms, total: 355 ms\n",
      "Wall time: 4.26 s\n"
     ]
    }
   ],
   "source": [
    "%time y_predict_RFC_1 = alg_RFC_1.predict(activation)"
   ]
  },
  {
   "cell_type": "code",
   "execution_count": null,
   "metadata": {
    "collapsed": false
   },
   "outputs": [
    {
     "name": "stdout",
     "output_type": "stream",
     "text": [
      "CPU times: user 386 ms, sys: 2.54 ms, total: 389 ms\n",
      "Wall time: 1.41 s\n"
     ]
    }
   ],
   "source": [
    "%time y_predict_LR_1 = alg_LR_1.predict(activation)"
   ]
  },
  {
   "cell_type": "code",
   "execution_count": null,
   "metadata": {
    "collapsed": true
   },
   "outputs": [],
   "source": [
    "acc_RFC_1.append(accuracy(test['y'].reshape(test['y'].shape[0]), y_predict_RFC_1))\n",
    "acc_LR_1.append(accuracy(test['y'].reshape(test['y'].shape[0]), y_predict_LR_1))"
   ]
  },
  {
   "cell_type": "code",
   "execution_count": null,
   "metadata": {
    "collapsed": false
   },
   "outputs": [
    {
     "name": "stdout",
     "output_type": "stream",
     "text": [
      "[0.29199999999999998, 0.32024999999999998, 0.30175000000000002, 0.32974999999999999, 0.332125, 0.33937499999999998, 0.34637499999999999]\n"
     ]
    }
   ],
   "source": [
    "print(acc_RFC_1)"
   ]
  },
  {
   "cell_type": "code",
   "execution_count": null,
   "metadata": {
    "collapsed": false
   },
   "outputs": [
    {
     "name": "stdout",
     "output_type": "stream",
     "text": [
      "[0.18425, 0.19500000000000001, 0.19112499999999999, 0.21575, 0.22512499999999999, 0.238625, 0.25037500000000001]\n"
     ]
    }
   ],
   "source": [
    "print(acc_LR_1)"
   ]
  },
  {
   "cell_type": "markdown",
   "metadata": {},
   "source": [
    "<font size=4, face=\"Times New Roman\"> <center> <b> Зависимость точности классификаторов от шага, по которому картинки разбиваются на патчи: </b> </center> </font>"
   ]
  },
  {
   "cell_type": "markdown",
   "metadata": {},
   "source": [
    "#####Сеть с тремя скрытыми слоями"
   ]
  },
  {
   "cell_type": "markdown",
   "metadata": {},
   "source": [
    "|Features (or step)|RandomForest|LogisticRegression|\n",
    "|------------------|------------|------------------|\n",
    "|Pixels|0.363|0.292|\n",
    "|step=32|0.292|0.184|\n",
    "|step=28|0.32|0.195|\n",
    "|step=24|0.302|0.191|\n",
    "|step=20|0.33|0.216|\n",
    "|step=16|0.332|0.225|\n",
    "|step=12|0.339|0.239|\n",
    "|step=8|0.346|0.25|"
   ]
  },
  {
   "cell_type": "markdown",
   "metadata": {},
   "source": [
    "#####Сеть с одним скрытым слоем"
   ]
  },
  {
   "cell_type": "markdown",
   "metadata": {},
   "source": [
    "|Features (or step)|RandomForest|LogisticRegression|\n",
    "|------------------|------------|------------------|\n",
    "|Pixels|0.363|0.292|\n",
    "|step=32|0.305|0.335|\n",
    "|step=28|0.335|0.375|\n",
    "|step=24|0.329|0.369|\n",
    "|step=20|0.341|0.404|\n",
    "|step=16|0.34|0.417|\n",
    "|step=12|0.347|0.435|\n",
    "|step=8|0.358|0.465|"
   ]
  },
  {
   "cell_type": "markdown",
   "metadata": {},
   "source": [
    "<font size=4, face=\"Times New Roman\"> Как мы видим сеть с тремя скрытыми слоями работает хуже, чем однослойная, возможно потому, что приходится подбирать больше параметров и проводить кросс-валидацию для поиска оптимальных параметров для сети с тремя скрытыми слоями, но это занимает достаточно много времени. Поэтому предпочтительнее сеть с одним скрытым слоем.</font>"
   ]
  },
  {
   "cell_type": "markdown",
   "metadata": {},
   "source": [
    "###Десятый пункт."
   ]
  },
  {
   "cell_type": "markdown",
   "metadata": {},
   "source": [
    "<font size=4, face=\"Times New Roman\"> В качестве сети была выбрана сеть с одним скрытым слоем, так как показывала более высокую точность и низкое время работы. </font>"
   ]
  },
  {
   "cell_type": "code",
   "execution_count": 6,
   "metadata": {
    "collapsed": true
   },
   "outputs": [],
   "source": [
    "with open('unlabeled.pk', 'rb') as f:\n",
    "    unl = pickle.load(f)"
   ]
  },
  {
   "cell_type": "code",
   "execution_count": 7,
   "metadata": {
    "collapsed": true
   },
   "outputs": [],
   "source": [
    "with open('train.pk', 'rb') as f:\n",
    "    train = pickle.load(f)\n",
    "with open('test.pk', 'rb') as f:\n",
    "    test = pickle.load(f)"
   ]
  },
  {
   "cell_type": "code",
   "execution_count": 8,
   "metadata": {
    "collapsed": true
   },
   "outputs": [],
   "source": [
    "alg_RFC_1 = RFC(n_estimators=20)\n",
    "alg_LR_1 = LR()"
   ]
  },
  {
   "cell_type": "code",
   "execution_count": 9,
   "metadata": {
    "collapsed": true
   },
   "outputs": [],
   "source": [
    "acc_RFC_1 = []\n",
    "acc_LR_1 = []"
   ]
  },
  {
   "cell_type": "code",
   "execution_count": 10,
   "metadata": {
    "collapsed": true
   },
   "outputs": [],
   "source": [
    "hidden_size = np.array([75])\n",
    "visible_size = 192\n",
    "beta = 3\n",
    "sparsity_param = 1e-2\n",
    "lambda_ = 1e-5\n",
    "theta = autoencoder.initialize(hidden_size, visible_size)"
   ]
  },
  {
   "cell_type": "markdown",
   "metadata": {},
   "source": [
    "<font size=5, face=\"Times New Roman\"> patches = 100 </font>"
   ]
  },
  {
   "cell_type": "code",
   "execution_count": 11,
   "metadata": {
    "collapsed": false
   },
   "outputs": [
    {
     "name": "stdout",
     "output_type": "stream",
     "text": [
      "CPU times: user 7.94 ms, sys: 0 ns, total: 7.94 ms\n",
      "Wall time: 1.32 s\n"
     ]
    }
   ],
   "source": [
    "%time patches = sample_patches.sample_patches(unl['X'], num_patches=100)"
   ]
  },
  {
   "cell_type": "code",
   "execution_count": 12,
   "metadata": {
    "collapsed": false
   },
   "outputs": [
    {
     "name": "stdout",
     "output_type": "stream",
     "text": [
      "CPU times: user 12.1 s, sys: 0 ns, total: 12.1 s\n",
      "Wall time: 12.9 s\n"
     ]
    },
    {
     "name": "stderr",
     "output_type": "stream",
     "text": [
      "/root/anaconda3/lib/python3.4/site-packages/IPython/kernel/__main__.py:1: OptimizeWarning: Unknown solver options: max_iter\n",
      "  if __name__ == '__main__':\n"
     ]
    }
   ],
   "source": [
    "%time result = minimize(J, theta, method='L-BFGS-B', jac=True, tol=1e-5, options={'max_iter': 3000})"
   ]
  },
  {
   "cell_type": "code",
   "execution_count": 13,
   "metadata": {
    "collapsed": true
   },
   "outputs": [],
   "source": [
    "del unl['X']"
   ]
  },
  {
   "cell_type": "code",
   "execution_count": 14,
   "metadata": {
    "collapsed": false
   },
   "outputs": [
    {
     "name": "stdout",
     "output_type": "stream",
     "text": [
      "CPU times: user 1.12 s, sys: 1.55 s, total: 2.67 s\n",
      "Wall time: 3.27 s\n"
     ]
    }
   ],
   "source": [
    "step = 12\n",
    "%time patches = image_patches(train['X'], step)"
   ]
  },
  {
   "cell_type": "code",
   "execution_count": 16,
   "metadata": {
    "collapsed": false
   },
   "outputs": [
    {
     "name": "stdout",
     "output_type": "stream",
     "text": [
      "CPU times: user 5.12 s, sys: 4.59 s, total: 9.7 s\n",
      "Wall time: 48.8 s\n"
     ]
    }
   ],
   "source": [
    "layer_number = 2\n",
    "%time activation = autoencoder.autoencoder_transform(result['x'], visible_size, hidden_size, layer_number, patches)[0]"
   ]
  },
  {
   "cell_type": "code",
   "execution_count": 17,
   "metadata": {
    "collapsed": true
   },
   "outputs": [],
   "source": [
    "N, D = activation.shape\n",
    "n_samples = train['X'].shape[0]\n",
    "activation = activation.reshape((n_samples, N * D // n_samples))"
   ]
  },
  {
   "cell_type": "code",
   "execution_count": 18,
   "metadata": {
    "collapsed": false
   },
   "outputs": [
    {
     "name": "stdout",
     "output_type": "stream",
     "text": [
      "CPU times: user 6.23 s, sys: 0 ns, total: 6.23 s\n",
      "Wall time: 11.2 s\n"
     ]
    },
    {
     "data": {
      "text/plain": [
       "RandomForestClassifier(bootstrap=True, class_weight=None, criterion='gini',\n",
       "            max_depth=None, max_features='auto', max_leaf_nodes=None,\n",
       "            min_samples_leaf=1, min_samples_split=2,\n",
       "            min_weight_fraction_leaf=0.0, n_estimators=20, n_jobs=1,\n",
       "            oob_score=False, random_state=None, verbose=0,\n",
       "            warm_start=False)"
      ]
     },
     "execution_count": 18,
     "metadata": {},
     "output_type": "execute_result"
    }
   ],
   "source": [
    "%time alg_RFC_1.fit(activation, train['y'].reshape(train['y'].shape[0]))"
   ]
  },
  {
   "cell_type": "code",
   "execution_count": 19,
   "metadata": {
    "collapsed": false
   },
   "outputs": [
    {
     "name": "stdout",
     "output_type": "stream",
     "text": [
      "CPU times: user 50.5 s, sys: 0 ns, total: 50.5 s\n",
      "Wall time: 51 s\n"
     ]
    },
    {
     "data": {
      "text/plain": [
       "LogisticRegression(C=1.0, class_weight=None, dual=False, fit_intercept=True,\n",
       "          intercept_scaling=1, max_iter=100, multi_class='ovr',\n",
       "          penalty='l2', random_state=None, solver='liblinear', tol=0.0001,\n",
       "          verbose=0)"
      ]
     },
     "execution_count": 19,
     "metadata": {},
     "output_type": "execute_result"
    }
   ],
   "source": [
    "%time alg_LR_1.fit(activation, train['y'].reshape(train['y'].shape[0]))"
   ]
  },
  {
   "cell_type": "code",
   "execution_count": 20,
   "metadata": {
    "collapsed": false
   },
   "outputs": [
    {
     "name": "stdout",
     "output_type": "stream",
     "text": [
      "CPU times: user 2.05 s, sys: 8.55 s, total: 10.6 s\n",
      "Wall time: 1min 17s\n"
     ]
    }
   ],
   "source": [
    "%time patches = image_patches(test['X'], step)"
   ]
  },
  {
   "cell_type": "code",
   "execution_count": 21,
   "metadata": {
    "collapsed": false
   },
   "outputs": [
    {
     "name": "stdout",
     "output_type": "stream",
     "text": [
      "CPU times: user 8.39 s, sys: 8.36 s, total: 16.7 s\n",
      "Wall time: 2min 2s\n"
     ]
    }
   ],
   "source": [
    "%time activation = autoencoder.autoencoder_transform(result['x'], visible_size, hidden_size, layer_number, patches)[0]"
   ]
  },
  {
   "cell_type": "code",
   "execution_count": 22,
   "metadata": {
    "collapsed": true
   },
   "outputs": [],
   "source": [
    "N, D = activation.shape\n",
    "n_samples = test['X'].shape[0]\n",
    "activation = activation.reshape((n_samples, N * D // n_samples))"
   ]
  },
  {
   "cell_type": "code",
   "execution_count": 23,
   "metadata": {
    "collapsed": false
   },
   "outputs": [
    {
     "name": "stdout",
     "output_type": "stream",
     "text": [
      "CPU times: user 165 ms, sys: 42.4 ms, total: 207 ms\n",
      "Wall time: 7.47 s\n"
     ]
    }
   ],
   "source": [
    "%time y_predict_RFC_1 = alg_RFC_1.predict(activation)"
   ]
  },
  {
   "cell_type": "code",
   "execution_count": 24,
   "metadata": {
    "collapsed": false
   },
   "outputs": [
    {
     "name": "stdout",
     "output_type": "stream",
     "text": [
      "CPU times: user 169 ms, sys: 1 ms, total: 170 ms\n",
      "Wall time: 719 ms\n"
     ]
    }
   ],
   "source": [
    "%time y_predict_LR_1 = alg_LR_1.predict(activation)"
   ]
  },
  {
   "cell_type": "code",
   "execution_count": 25,
   "metadata": {
    "collapsed": true
   },
   "outputs": [],
   "source": [
    "acc_RFC_1.append(accuracy(test['y'].reshape(test['y'].shape[0]), y_predict_RFC_1))\n",
    "acc_LR_1.append(accuracy(test['y'].reshape(test['y'].shape[0]), y_predict_LR_1))"
   ]
  },
  {
   "cell_type": "code",
   "execution_count": 26,
   "metadata": {
    "collapsed": true
   },
   "outputs": [],
   "source": [
    "del test['X']\n",
    "del test['y']\n",
    "del train['X']\n",
    "del train['y']"
   ]
  },
  {
   "cell_type": "markdown",
   "metadata": {},
   "source": [
    "<font size=5, face=\"Times New Roman\"> patches = 1000 </font>"
   ]
  },
  {
   "cell_type": "code",
   "execution_count": 27,
   "metadata": {
    "collapsed": true
   },
   "outputs": [],
   "source": [
    "with open('unlabeled.pk', 'rb') as f:\n",
    "    unl = pickle.load(f)"
   ]
  },
  {
   "cell_type": "code",
   "execution_count": 28,
   "metadata": {
    "collapsed": false
   },
   "outputs": [
    {
     "name": "stdout",
     "output_type": "stream",
     "text": [
      "CPU times: user 125 ms, sys: 37.7 ms, total: 163 ms\n",
      "Wall time: 18.9 s\n"
     ]
    }
   ],
   "source": [
    "%time patches = sample_patches.sample_patches(unl['X'], num_patches=1000)"
   ]
  },
  {
   "cell_type": "code",
   "execution_count": 29,
   "metadata": {
    "collapsed": false
   },
   "outputs": [
    {
     "name": "stdout",
     "output_type": "stream",
     "text": [
      "CPU times: user 54.8 s, sys: 0 ns, total: 54.8 s\n",
      "Wall time: 1min\n"
     ]
    },
    {
     "name": "stderr",
     "output_type": "stream",
     "text": [
      "/root/anaconda3/lib/python3.4/site-packages/IPython/kernel/__main__.py:1: OptimizeWarning: Unknown solver options: max_iter\n",
      "  if __name__ == '__main__':\n"
     ]
    }
   ],
   "source": [
    "%time result = minimize(J, theta, method='L-BFGS-B', jac=True, tol=1e-5, options={'max_iter': 3000})"
   ]
  },
  {
   "cell_type": "code",
   "execution_count": 30,
   "metadata": {
    "collapsed": true
   },
   "outputs": [],
   "source": [
    "del unl['X']"
   ]
  },
  {
   "cell_type": "code",
   "execution_count": 31,
   "metadata": {
    "collapsed": true
   },
   "outputs": [],
   "source": [
    "with open('train.pk', 'rb') as f:\n",
    "    train = pickle.load(f)\n",
    "with open('test.pk', 'rb') as f:\n",
    "    test = pickle.load(f)"
   ]
  },
  {
   "cell_type": "code",
   "execution_count": 32,
   "metadata": {
    "collapsed": false
   },
   "outputs": [
    {
     "name": "stdout",
     "output_type": "stream",
     "text": [
      "CPU times: user 1.17 s, sys: 5.22 s, total: 6.39 s\n",
      "Wall time: 6.41 s\n"
     ]
    }
   ],
   "source": [
    "step = 12\n",
    "%time patches = image_patches(train['X'], step)"
   ]
  },
  {
   "cell_type": "code",
   "execution_count": 33,
   "metadata": {
    "collapsed": false
   },
   "outputs": [
    {
     "name": "stdout",
     "output_type": "stream",
     "text": [
      "CPU times: user 4.93 s, sys: 4.32 s, total: 9.25 s\n",
      "Wall time: 15.2 s\n"
     ]
    }
   ],
   "source": [
    "layer_number = 2\n",
    "%time activation = autoencoder.autoencoder_transform(result['x'], visible_size, hidden_size, layer_number, patches)[0]"
   ]
  },
  {
   "cell_type": "code",
   "execution_count": 34,
   "metadata": {
    "collapsed": true
   },
   "outputs": [],
   "source": [
    "N, D = activation.shape\n",
    "n_samples = train['X'].shape[0]\n",
    "activation = activation.reshape((n_samples, N * D // n_samples))"
   ]
  },
  {
   "cell_type": "code",
   "execution_count": 35,
   "metadata": {
    "collapsed": false
   },
   "outputs": [
    {
     "name": "stdout",
     "output_type": "stream",
     "text": [
      "CPU times: user 6.29 s, sys: 79.3 ms, total: 6.37 s\n",
      "Wall time: 15.6 s\n"
     ]
    },
    {
     "data": {
      "text/plain": [
       "RandomForestClassifier(bootstrap=True, class_weight=None, criterion='gini',\n",
       "            max_depth=None, max_features='auto', max_leaf_nodes=None,\n",
       "            min_samples_leaf=1, min_samples_split=2,\n",
       "            min_weight_fraction_leaf=0.0, n_estimators=20, n_jobs=1,\n",
       "            oob_score=False, random_state=None, verbose=0,\n",
       "            warm_start=False)"
      ]
     },
     "execution_count": 35,
     "metadata": {},
     "output_type": "execute_result"
    }
   ],
   "source": [
    "%time alg_RFC_1.fit(activation, train['y'].reshape(train['y'].shape[0]))"
   ]
  },
  {
   "cell_type": "code",
   "execution_count": 36,
   "metadata": {
    "collapsed": false
   },
   "outputs": [
    {
     "name": "stdout",
     "output_type": "stream",
     "text": [
      "CPU times: user 36.3 s, sys: 0 ns, total: 36.3 s\n",
      "Wall time: 46.9 s\n"
     ]
    },
    {
     "data": {
      "text/plain": [
       "LogisticRegression(C=1.0, class_weight=None, dual=False, fit_intercept=True,\n",
       "          intercept_scaling=1, max_iter=100, multi_class='ovr',\n",
       "          penalty='l2', random_state=None, solver='liblinear', tol=0.0001,\n",
       "          verbose=0)"
      ]
     },
     "execution_count": 36,
     "metadata": {},
     "output_type": "execute_result"
    }
   ],
   "source": [
    "%time alg_LR_1.fit(activation, train['y'].reshape(train['y'].shape[0]))"
   ]
  },
  {
   "cell_type": "code",
   "execution_count": 37,
   "metadata": {
    "collapsed": false
   },
   "outputs": [
    {
     "name": "stdout",
     "output_type": "stream",
     "text": [
      "CPU times: user 1.87 s, sys: 4.4 s, total: 6.27 s\n",
      "Wall time: 44.4 s\n"
     ]
    }
   ],
   "source": [
    "%time patches = image_patches(test['X'], step)"
   ]
  },
  {
   "cell_type": "code",
   "execution_count": 38,
   "metadata": {
    "collapsed": false
   },
   "outputs": [
    {
     "name": "stdout",
     "output_type": "stream",
     "text": [
      "CPU times: user 8.14 s, sys: 3.58 s, total: 11.7 s\n",
      "Wall time: 36.6 s\n"
     ]
    }
   ],
   "source": [
    "%time activation = autoencoder.autoencoder_transform(result['x'], visible_size, hidden_size, layer_number, patches)[0]"
   ]
  },
  {
   "cell_type": "code",
   "execution_count": 39,
   "metadata": {
    "collapsed": true
   },
   "outputs": [],
   "source": [
    "N, D = activation.shape\n",
    "n_samples = test['X'].shape[0]\n",
    "activation = activation.reshape((n_samples, N * D // n_samples))"
   ]
  },
  {
   "cell_type": "code",
   "execution_count": 40,
   "metadata": {
    "collapsed": false
   },
   "outputs": [
    {
     "name": "stdout",
     "output_type": "stream",
     "text": [
      "CPU times: user 190 ms, sys: 168 ms, total: 358 ms\n",
      "Wall time: 30.6 s\n"
     ]
    }
   ],
   "source": [
    "%time y_predict_RFC_1 = alg_RFC_1.predict(activation)"
   ]
  },
  {
   "cell_type": "code",
   "execution_count": 41,
   "metadata": {
    "collapsed": false
   },
   "outputs": [
    {
     "name": "stdout",
     "output_type": "stream",
     "text": [
      "CPU times: user 164 ms, sys: 1.01 ms, total: 165 ms\n",
      "Wall time: 669 ms\n"
     ]
    }
   ],
   "source": [
    "%time y_predict_LR_1 = alg_LR_1.predict(activation)"
   ]
  },
  {
   "cell_type": "code",
   "execution_count": 42,
   "metadata": {
    "collapsed": true
   },
   "outputs": [],
   "source": [
    "acc_RFC_1.append(accuracy(test['y'].reshape(test['y'].shape[0]), y_predict_RFC_1))\n",
    "acc_LR_1.append(accuracy(test['y'].reshape(test['y'].shape[0]), y_predict_LR_1))"
   ]
  },
  {
   "cell_type": "code",
   "execution_count": 43,
   "metadata": {
    "collapsed": true
   },
   "outputs": [],
   "source": [
    "del test['X']\n",
    "del test['y']\n",
    "del train['X']\n",
    "del train['y']"
   ]
  },
  {
   "cell_type": "markdown",
   "metadata": {},
   "source": [
    "<font size=5, face=\"Times New Roman\"> patches = 100000 </font>"
   ]
  },
  {
   "cell_type": "code",
   "execution_count": 44,
   "metadata": {
    "collapsed": true
   },
   "outputs": [],
   "source": [
    "with open('unlabeled.pk', 'rb') as f:\n",
    "    unl = pickle.load(f)"
   ]
  },
  {
   "cell_type": "code",
   "execution_count": 45,
   "metadata": {
    "collapsed": false
   },
   "outputs": [
    {
     "name": "stdout",
     "output_type": "stream",
     "text": [
      "CPU times: user 26min 9s, sys: 1.03 s, total: 26min 10s\n",
      "Wall time: 31min 4s\n"
     ]
    }
   ],
   "source": [
    "%time patches = sample_patches.sample_patches(unl['X'], num_patches=100000)"
   ]
  },
  {
   "cell_type": "code",
   "execution_count": 46,
   "metadata": {
    "collapsed": false
   },
   "outputs": [
    {
     "name": "stdout",
     "output_type": "stream",
     "text": [
      "CPU times: user 1h 30min 6s, sys: 14min 1s, total: 1h 44min 8s\n",
      "Wall time: 1h 44min 21s\n"
     ]
    },
    {
     "name": "stderr",
     "output_type": "stream",
     "text": [
      "/root/anaconda3/lib/python3.4/site-packages/IPython/kernel/__main__.py:1: OptimizeWarning: Unknown solver options: max_iter\n",
      "  if __name__ == '__main__':\n"
     ]
    }
   ],
   "source": [
    "%time result = minimize(J, theta, method='L-BFGS-B', jac=True, tol=1e-5, options={'max_iter': 3000})"
   ]
  },
  {
   "cell_type": "code",
   "execution_count": 47,
   "metadata": {
    "collapsed": true
   },
   "outputs": [],
   "source": [
    "del unl['X']"
   ]
  },
  {
   "cell_type": "code",
   "execution_count": 48,
   "metadata": {
    "collapsed": true
   },
   "outputs": [],
   "source": [
    "with open('train.pk', 'rb') as f:\n",
    "    train = pickle.load(f)\n",
    "with open('test.pk', 'rb') as f:\n",
    "    test = pickle.load(f)"
   ]
  },
  {
   "cell_type": "code",
   "execution_count": 49,
   "metadata": {
    "collapsed": false
   },
   "outputs": [
    {
     "name": "stdout",
     "output_type": "stream",
     "text": [
      "CPU times: user 1.11 s, sys: 968 ms, total: 2.08 s\n",
      "Wall time: 2.52 s\n"
     ]
    }
   ],
   "source": [
    "step = 12\n",
    "%time patches = image_patches(train['X'], step)"
   ]
  },
  {
   "cell_type": "code",
   "execution_count": 50,
   "metadata": {
    "collapsed": false
   },
   "outputs": [
    {
     "name": "stdout",
     "output_type": "stream",
     "text": [
      "CPU times: user 5.14 s, sys: 1.32 s, total: 6.46 s\n",
      "Wall time: 13.7 s\n"
     ]
    }
   ],
   "source": [
    "layer_number = 2\n",
    "%time activation = autoencoder.autoencoder_transform(result['x'], visible_size, hidden_size, layer_number, patches)[0]"
   ]
  },
  {
   "cell_type": "code",
   "execution_count": 51,
   "metadata": {
    "collapsed": true
   },
   "outputs": [],
   "source": [
    "N, D = activation.shape\n",
    "n_samples = train['X'].shape[0]\n",
    "activation = activation.reshape((n_samples, N * D // n_samples))"
   ]
  },
  {
   "cell_type": "code",
   "execution_count": 52,
   "metadata": {
    "collapsed": false
   },
   "outputs": [
    {
     "name": "stdout",
     "output_type": "stream",
     "text": [
      "CPU times: user 6.22 s, sys: 115 ms, total: 6.33 s\n",
      "Wall time: 26.4 s\n"
     ]
    },
    {
     "data": {
      "text/plain": [
       "RandomForestClassifier(bootstrap=True, class_weight=None, criterion='gini',\n",
       "            max_depth=None, max_features='auto', max_leaf_nodes=None,\n",
       "            min_samples_leaf=1, min_samples_split=2,\n",
       "            min_weight_fraction_leaf=0.0, n_estimators=20, n_jobs=1,\n",
       "            oob_score=False, random_state=None, verbose=0,\n",
       "            warm_start=False)"
      ]
     },
     "execution_count": 52,
     "metadata": {},
     "output_type": "execute_result"
    }
   ],
   "source": [
    "%time alg_RFC_1.fit(activation, train['y'].reshape(train['y'].shape[0]))"
   ]
  },
  {
   "cell_type": "code",
   "execution_count": 53,
   "metadata": {
    "collapsed": false,
    "scrolled": true
   },
   "outputs": [
    {
     "name": "stdout",
     "output_type": "stream",
     "text": [
      "CPU times: user 31.4 s, sys: 129 ms, total: 31.5 s\n",
      "Wall time: 43.1 s\n"
     ]
    },
    {
     "data": {
      "text/plain": [
       "LogisticRegression(C=1.0, class_weight=None, dual=False, fit_intercept=True,\n",
       "          intercept_scaling=1, max_iter=100, multi_class='ovr',\n",
       "          penalty='l2', random_state=None, solver='liblinear', tol=0.0001,\n",
       "          verbose=0)"
      ]
     },
     "execution_count": 53,
     "metadata": {},
     "output_type": "execute_result"
    }
   ],
   "source": [
    "%time alg_LR_1.fit(activation, train['y'].reshape(train['y'].shape[0]))"
   ]
  },
  {
   "cell_type": "code",
   "execution_count": 54,
   "metadata": {
    "collapsed": false
   },
   "outputs": [
    {
     "name": "stdout",
     "output_type": "stream",
     "text": [
      "CPU times: user 1.9 s, sys: 4.32 s, total: 6.21 s\n",
      "Wall time: 33.3 s\n"
     ]
    }
   ],
   "source": [
    "%time patches = image_patches(test['X'], step)"
   ]
  },
  {
   "cell_type": "code",
   "execution_count": 55,
   "metadata": {
    "collapsed": false
   },
   "outputs": [
    {
     "name": "stdout",
     "output_type": "stream",
     "text": [
      "CPU times: user 8.25 s, sys: 4.64 s, total: 12.9 s\n",
      "Wall time: 53.2 s\n"
     ]
    }
   ],
   "source": [
    "%time activation = autoencoder.autoencoder_transform(result['x'], visible_size, hidden_size, layer_number, patches)[0]"
   ]
  },
  {
   "cell_type": "code",
   "execution_count": 56,
   "metadata": {
    "collapsed": true
   },
   "outputs": [],
   "source": [
    "N, D = activation.shape\n",
    "n_samples = test['X'].shape[0]\n",
    "activation = activation.reshape((n_samples, N * D // n_samples))"
   ]
  },
  {
   "cell_type": "code",
   "execution_count": 57,
   "metadata": {
    "collapsed": false
   },
   "outputs": [
    {
     "name": "stdout",
     "output_type": "stream",
     "text": [
      "CPU times: user 230 ms, sys: 126 ms, total: 356 ms\n",
      "Wall time: 10.3 s\n"
     ]
    }
   ],
   "source": [
    "%time y_predict_RFC_1 = alg_RFC_1.predict(activation)"
   ]
  },
  {
   "cell_type": "code",
   "execution_count": 58,
   "metadata": {
    "collapsed": false
   },
   "outputs": [
    {
     "name": "stdout",
     "output_type": "stream",
     "text": [
      "CPU times: user 164 ms, sys: 3.13 ms, total: 168 ms\n",
      "Wall time: 796 ms\n"
     ]
    }
   ],
   "source": [
    "%time y_predict_LR_1 = alg_LR_1.predict(activation)"
   ]
  },
  {
   "cell_type": "code",
   "execution_count": 59,
   "metadata": {
    "collapsed": true
   },
   "outputs": [],
   "source": [
    "acc_RFC_1.append(accuracy(test['y'].reshape(test['y'].shape[0]), y_predict_RFC_1))\n",
    "acc_LR_1.append(accuracy(test['y'].reshape(test['y'].shape[0]), y_predict_LR_1))"
   ]
  },
  {
   "cell_type": "code",
   "execution_count": 60,
   "metadata": {
    "collapsed": false
   },
   "outputs": [
    {
     "name": "stdout",
     "output_type": "stream",
     "text": [
      "[0.33624999999999999, 0.34287499999999999, 0.34512500000000002]\n"
     ]
    }
   ],
   "source": [
    "print(acc_RFC_1)"
   ]
  },
  {
   "cell_type": "code",
   "execution_count": 62,
   "metadata": {
    "collapsed": false
   },
   "outputs": [
    {
     "name": "stdout",
     "output_type": "stream",
     "text": [
      "[0.41087499999999999, 0.43762499999999999, 0.43924999999999997]\n"
     ]
    }
   ],
   "source": [
    "print(acc_LR_1)"
   ]
  },
  {
   "cell_type": "markdown",
   "metadata": {},
   "source": [
    "<font size=4, face=\"Times New Roman\"> <center> <b> Зависимость точности классификаторов от количества патчей, сгенерированных с unlabeled.pk:</b> </center> </font>"
   ]
  },
  {
   "cell_type": "markdown",
   "metadata": {},
   "source": [
    "#####step = 12\n",
    "|Number of patches|RandomForest|LogisticRegression|\n",
    "|------------------|------------|------------------|\n",
    "|Pixels|0.363|0.292|\n",
    "|patches=100|0.336|0.41|\n",
    "|patches=1000|0.343|0.438|\n",
    "|patches=10000|0.347|0.435|\n",
    "|patches=100000|0.345|0.439|"
   ]
  },
  {
   "cell_type": "markdown",
   "metadata": {},
   "source": [
    "<font size=4, face=\"Times New Roman\"> То есть можно заметить, что при увеличении количества патчей, сгенерированных с unlabeled.pk, увеличивается качество классификации. </font>"
   ]
  },
  {
   "cell_type": "code",
   "execution_count": 66,
   "metadata": {
    "collapsed": false
   },
   "outputs": [],
   "source": [
    "del patches"
   ]
  }
 ],
 "metadata": {
  "kernelspec": {
   "display_name": "Python 3",
   "language": "python",
   "name": "python3"
  },
  "language_info": {
   "codemirror_mode": {
    "name": "ipython",
    "version": 3
   },
   "file_extension": ".py",
   "mimetype": "text/x-python",
   "name": "python",
   "nbconvert_exporter": "python",
   "pygments_lexer": "ipython3",
   "version": "3.4.3"
  }
 },
 "nbformat": 4,
 "nbformat_minor": 0
}
